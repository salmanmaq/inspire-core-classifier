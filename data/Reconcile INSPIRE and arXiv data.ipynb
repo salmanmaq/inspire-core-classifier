{
 "cells": [
  {
   "cell_type": "code",
   "execution_count": 1,
   "metadata": {},
   "outputs": [],
   "source": [
    "import json\n",
    "import pandas as pd"
   ]
  },
  {
   "cell_type": "code",
   "execution_count": 43,
   "metadata": {},
   "outputs": [],
   "source": [
    "arxiv_data_path = 'data/INSPIREpy2.df'\n",
    "inspire_core_data_path = 'data/inspire_core_records.json'\n",
    "inspire_noncore_data_path = 'data/inspire_noncore_records.json'\n",
    "save_path = 'data/combined_data.df'"
   ]
  },
  {
   "cell_type": "code",
   "execution_count": 4,
   "metadata": {},
   "outputs": [],
   "source": [
    "arxiv_data = pd.read_pickle('data/INSPIREpy2.df')\n",
    "inspire_core_data = json.load(open(inspire_core_data_path, 'r'))\n",
    "inspire_noncore_data = json.load(open(inspire_noncore_data_path, 'r'))"
   ]
  },
  {
   "cell_type": "code",
   "execution_count": 18,
   "metadata": {},
   "outputs": [],
   "source": [
    "# Combine titles and abstracts for core and noncore data\n",
    "core_combined = []\n",
    "noncore_combined = []\n",
    "\n",
    "for core_data in inspire_core_data:\n",
    "    core_combined.append(core_data['titles'][0]['title'] + ' ' + core_data['abstracts'][0]['value'])\n",
    "\n",
    "for noncore_data in inspire_noncore_data:\n",
    "    noncore_combined.append(noncore_data['titles'][0]['title'] + ' ' + noncore_data['abstracts'][0]['value'])"
   ]
  },
  {
   "cell_type": "code",
   "execution_count": 27,
   "metadata": {},
   "outputs": [],
   "source": [
    "# Get the rejected articles from arXiv data\n",
    "rejected_arxiv_data = arxiv_data[arxiv_data.coreness == 0]\n",
    "rejected_combined = list(rejected_arxiv_data['texts'])"
   ]
  },
  {
   "cell_type": "code",
   "execution_count": 41,
   "metadata": {},
   "outputs": [],
   "source": [
    "# Combine all data\n",
    "rejected_df = pd.DataFrame(rejected_combined, columns=['texts'])\n",
    "rejected_df['coreness'] = 0\n",
    "\n",
    "noncore_df = pd.DataFrame(noncore_combined, columns=['texts'])\n",
    "noncore_df['coreness'] = 1\n",
    "\n",
    "core_df = pd.DataFrame(core_combined, columns=['texts'])\n",
    "core_df['coreness'] = 2\n",
    "\n",
    "combined_df = pd.concat([rejected_df, noncore_df, core_df], ignore_index=True)"
   ]
  },
  {
   "cell_type": "code",
   "execution_count": 44,
   "metadata": {},
   "outputs": [],
   "source": [
    "# Save the DF\n",
    "combined_df.to_pickle(save_path, protocol=4)\n",
    "combined_df.to_pickle('data/combined_data_python2.df', protocol=2)"
   ]
  }
 ],
 "metadata": {
  "kernelspec": {
   "display_name": "Python 3",
   "language": "python",
   "name": "python3"
  },
  "language_info": {
   "codemirror_mode": {
    "name": "ipython",
    "version": 3
   },
   "file_extension": ".py",
   "mimetype": "text/x-python",
   "name": "python",
   "nbconvert_exporter": "python",
   "pygments_lexer": "ipython3",
   "version": "3.5.2"
  }
 },
 "nbformat": 4,
 "nbformat_minor": 2
}
