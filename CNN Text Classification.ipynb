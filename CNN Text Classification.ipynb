{
 "cells": [
  {
   "cell_type": "code",
   "execution_count": 336,
   "metadata": {},
   "outputs": [],
   "source": [
    "import torch\n",
    "import torch.nn as nn\n",
    "from torch.autograd import Variable\n",
    "import torch.optim as optim\n",
    "import torch.nn.functional as F\n",
    "import nltk\n",
    "import random\n",
    "import numpy as np\n",
    "from collections import Counter, OrderedDict\n",
    "import nltk\n",
    "import re\n",
    "from copy import deepcopy\n",
    "flatten = lambda l: [item for sublist in l for item in sublist]\n",
    "\n",
    "import matplotlib.pyplot as plt\n",
    "import itertools\n",
    "import pandas as pd\n",
    "\n",
    "random.seed(1024)\n",
    "%matplotlib inline"
   ]
  },
  {
   "cell_type": "code",
   "execution_count": 2,
   "metadata": {},
   "outputs": [],
   "source": [
    "USE_CUDA = torch.cuda.is_available()\n",
    "gpus = [0]\n",
    "torch.cuda.set_device(gpus[0])\n",
    "\n",
    "FloatTensor = torch.cuda.FloatTensor if USE_CUDA else torch.FloatTensor\n",
    "LongTensor = torch.cuda.LongTensor if USE_CUDA else torch.LongTensor\n",
    "ByteTensor = torch.cuda.ByteTensor if USE_CUDA else torch.ByteTensor"
   ]
  },
  {
   "cell_type": "code",
   "execution_count": 3,
   "metadata": {},
   "outputs": [],
   "source": [
    "def getBatch(batch_size, train_data):\n",
    "    random.shuffle(train_data)\n",
    "    sindex = 0\n",
    "    eindex = batch_size\n",
    "    while eindex < len(train_data):\n",
    "        batch = train_data[sindex: eindex]\n",
    "        temp = eindex\n",
    "        eindex = eindex + batch_size\n",
    "        sindex = temp\n",
    "        yield batch\n",
    "    \n",
    "    if eindex >= len(train_data):\n",
    "        batch = train_data[sindex:]\n",
    "        yield batch"
   ]
  },
  {
   "cell_type": "code",
   "execution_count": 4,
   "metadata": {},
   "outputs": [],
   "source": [
    "def pad_to_batch(batch):\n",
    "    x,y = zip(*batch)\n",
    "    max_x = max([s.size(1) for s in x])\n",
    "    x_p = []\n",
    "    for i in range(len(batch)):\n",
    "        if x[i].size(1) < max_x:\n",
    "            x_p.append(torch.cat([x[i], Variable(LongTensor([word2index['<PAD>']] * (max_x - x[i].size(1)))).view(1, -1)], 1))\n",
    "        else:\n",
    "            x_p.append(x[i])\n",
    "    return torch.cat(x_p), torch.cat(y).view(-1)"
   ]
  },
  {
   "cell_type": "code",
   "execution_count": 5,
   "metadata": {},
   "outputs": [],
   "source": [
    "def prepare_sequence(seq, to_index):\n",
    "    idxs = list(map(lambda w: to_index[w] if to_index.get(w) is not None else to_index[\"<UNK>\"], seq))\n",
    "    return Variable(LongTensor(idxs))"
   ]
  },
  {
   "cell_type": "markdown",
   "metadata": {},
   "source": [
    "## Data Loading and Pre-processing"
   ]
  },
  {
   "cell_type": "code",
   "execution_count": 21,
   "metadata": {},
   "outputs": [],
   "source": [
    "inspire_data = pd.read_pickle('data/INSPIREpy2.df')\n",
    "\n",
    "inspire_data = inspire_data.reindex(np.random.permutation(inspire_data.index))\n",
    "inspire_data = inspire_data.reset_index(drop=True)\n",
    "\n",
    "training_samples = 3 * len(inspire_data) // 5\n",
    "validation_samples = len(inspire_data) // 5"
   ]
  },
  {
   "cell_type": "code",
   "execution_count": 294,
   "metadata": {},
   "outputs": [],
   "source": [
    "X = list(inspire_data['texts'])\n",
    "y = list(inspire_data['coreness'])"
   ]
  },
  {
   "cell_type": "code",
   "execution_count": 295,
   "metadata": {},
   "outputs": [],
   "source": [
    "# Get the class weights\n",
    "rejected_count = y.count(0)\n",
    "noncore_count = y.count(1)\n",
    "core_count = y.count(2)\n",
    "\n",
    "total_count = len(y)\n",
    "\n",
    "inverse_rejected_fraction = total_count / rejected_count\n",
    "inverse_noncore_fraction = total_count / noncore_count\n",
    "inverse_core_fraction = total_count / core_count \n",
    "\n",
    "sum_fractions = inverse_rejected_fraction + inverse_noncore_fraction + inverse_core_fraction\n",
    "\n",
    "# Specify the class weights (for the loss function specified later)\n",
    "class_weights = torch.cuda.FloatTensor((inverse_rejected_fraction/sum_fractions,\n",
    "                                        inverse_noncore_fraction/sum_fractions,\n",
    "                                        inverse_core_fraction/sum_fractions))"
   ]
  },
  {
   "cell_type": "code",
   "execution_count": 296,
   "metadata": {},
   "outputs": [
    {
     "name": "stdout",
     "output_type": "stream",
     "text": [
      "tensor([ 0.1002,  1.0000,  0.5850], device='cuda:0')\n"
     ]
    }
   ],
   "source": [
    "class_weights = class_weights / class_weights[1]\n",
    "print(class_weights)"
   ]
  },
  {
   "cell_type": "markdown",
   "metadata": {},
   "source": [
    "#### Lowercase all text"
   ]
  },
  {
   "cell_type": "code",
   "execution_count": 297,
   "metadata": {},
   "outputs": [],
   "source": [
    "# Lowercase the entire text corpora\n",
    "X = [x.lower() for x in X]"
   ]
  },
  {
   "cell_type": "markdown",
   "metadata": {},
   "source": [
    "#### Remove punctuation"
   ]
  },
  {
   "cell_type": "code",
   "execution_count": 298,
   "metadata": {},
   "outputs": [],
   "source": [
    "punc_to_remove = str('!\"%&\\'()*+,./:;<=>?@[\\\\]^_`{|}~')\n",
    "for i, x in enumerate(X):\n",
    "    X[i] = ' '.join(word.strip(punc_to_remove) for word in x.split())"
   ]
  },
  {
   "cell_type": "markdown",
   "metadata": {},
   "source": [
    "#### Num Masking"
   ]
  },
  {
   "cell_type": "code",
   "execution_count": 299,
   "metadata": {},
   "outputs": [],
   "source": [
    "for i, x in enumerate(X):\n",
    "    X[i] = re.sub('\\d+', '<NUM>', x)"
   ]
  },
  {
   "cell_type": "markdown",
   "metadata": {},
   "source": [
    "#### Replace Latex Equations"
   ]
  },
  {
   "cell_type": "code",
   "execution_count": 301,
   "metadata": {},
   "outputs": [],
   "source": [
    "for i, _ in enumerate(X):\n",
    "    f = re.search(r\"(.+(?P<name>\\$.+\\$).+)+\", X[i])\n",
    "    while f is not None:\n",
    "        X[i] = re.sub(re.escape(f.group('name')), '<FORMULA>', X[i])\n",
    "        f = re.search(r\"(.+(?P<name>\\$.+\\$).+)+\", X[i])"
   ]
  },
  {
   "cell_type": "markdown",
   "metadata": {},
   "source": [
    "#### Tokenize the text"
   ]
  },
  {
   "cell_type": "code",
   "execution_count": 304,
   "metadata": {},
   "outputs": [],
   "source": [
    "X = [nltk.word_tokenize(x) for x in X]"
   ]
  },
  {
   "cell_type": "markdown",
   "metadata": {},
   "source": [
    "#### Lemmatize the text"
   ]
  },
  {
   "cell_type": "code",
   "execution_count": 357,
   "metadata": {},
   "outputs": [],
   "source": [
    "wordnet_lemmatizer = nltk.stem.WordNetLemmatizer()\n",
    "X = [[wordnet_lemmatizer.lemmatize(word) for word in x] for x in X]"
   ]
  },
  {
   "cell_type": "markdown",
   "metadata": {},
   "source": [
    "#### Build vocabulary"
   ]
  },
  {
   "cell_type": "code",
   "execution_count": 358,
   "metadata": {},
   "outputs": [
    {
     "name": "stdout",
     "output_type": "stream",
     "text": [
      "125759\n"
     ]
    }
   ],
   "source": [
    "vocab = list(set(flatten(X)))\n",
    "print(len(vocab))"
   ]
  },
  {
   "cell_type": "code",
   "execution_count": 359,
   "metadata": {},
   "outputs": [
    {
     "name": "stdout",
     "output_type": "stream",
     "text": [
      "3\n"
     ]
    }
   ],
   "source": [
    "print(len(set(y))) # Number of classes"
   ]
  },
  {
   "cell_type": "code",
   "execution_count": 360,
   "metadata": {},
   "outputs": [],
   "source": [
    "word2index={'<PAD>': 0, '<UNK>': 1}\n",
    "\n",
    "for vo in vocab:\n",
    "    if word2index.get(vo) is None:\n",
    "        word2index[vo] = len(word2index)\n",
    "        \n",
    "index2word = {v:k for k, v in word2index.items()}\n",
    "\n",
    "target2index = {}\n",
    "\n",
    "for cl in set(y):\n",
    "    if target2index.get(cl) is None:\n",
    "        target2index[cl] = len(target2index)\n",
    "\n",
    "index2target = {v:k for k, v in target2index.items()}"
   ]
  },
  {
   "cell_type": "code",
   "execution_count": 361,
   "metadata": {},
   "outputs": [],
   "source": [
    "X_p, y_p = [], []\n",
    "for pair in zip(X,y):\n",
    "    X_p.append(prepare_sequence(pair[0], word2index).view(1, -1))\n",
    "    y_p.append(Variable(LongTensor([target2index[pair[1]]])).view(1, -1))\n",
    "    \n",
    "data_p = list(zip(X_p, y_p))\n",
    "random.shuffle(data_p)\n",
    "\n",
    "train_data = data_p[: int(len(data_p) * 0.6)]\n",
    "val_data = data_p[int(len(data_p) * 0.6):int(len(data_p) * 0.8)]\n",
    "test_data = data_p[int(len(data_p) * 0.8):]"
   ]
  },
  {
   "cell_type": "markdown",
   "metadata": {},
   "source": [
    "#### Load pre-trained Word Vectors"
   ]
  },
  {
   "cell_type": "code",
   "execution_count": 362,
   "metadata": {},
   "outputs": [],
   "source": [
    "import gensim"
   ]
  },
  {
   "cell_type": "code",
   "execution_count": 363,
   "metadata": {},
   "outputs": [],
   "source": [
    "model = gensim.models.KeyedVectors.load_word2vec_format('data/word2vec_pretrained/GoogleNews-vectors-negative300.bin', binary=True)"
   ]
  },
  {
   "cell_type": "code",
   "execution_count": 364,
   "metadata": {},
   "outputs": [
    {
     "data": {
      "text/plain": [
       "3000000"
      ]
     },
     "execution_count": 364,
     "metadata": {},
     "output_type": "execute_result"
    }
   ],
   "source": [
    "len(model.index2word)"
   ]
  },
  {
   "cell_type": "code",
   "execution_count": 365,
   "metadata": {},
   "outputs": [],
   "source": [
    "pretrained = []\n",
    "\n",
    "for key in word2index.keys():\n",
    "    try:\n",
    "        pretrained.append(model[word2index[key]])\n",
    "    except:\n",
    "        pretrained.append(np.random.randn(300))\n",
    "        \n",
    "pretrained_vectors = np.vstack(pretrained)"
   ]
  },
  {
   "cell_type": "markdown",
   "metadata": {},
   "source": [
    "### CNN Model Definition"
   ]
  },
  {
   "cell_type": "code",
   "execution_count": 366,
   "metadata": {},
   "outputs": [],
   "source": [
    "class  CNNClassifier(nn.Module):\n",
    "    \n",
    "    def __init__(self, vocab_size, embedding_dim, output_size, kernel_dim=100, kernel_sizes=(3, 4, 5), dropout=0.5):\n",
    "        super(CNNClassifier,self).__init__()\n",
    "\n",
    "        self.embedding = nn.Embedding(vocab_size, embedding_dim)\n",
    "        self.convs = nn.ModuleList([nn.Conv2d(1, kernel_dim, (K, embedding_dim)) for K in kernel_sizes])\n",
    "\n",
    "        # kernal_size = (K,D) \n",
    "        self.dropout = nn.Dropout(dropout)\n",
    "        self.fc = nn.Linear(len(kernel_sizes) * kernel_dim, output_size)\n",
    "    \n",
    "    \n",
    "    def init_weights(self, pretrained_word_vectors, is_static=False):\n",
    "        self.embedding.weight = nn.Parameter(torch.from_numpy(pretrained_word_vectors).float())\n",
    "        if is_static:\n",
    "            self.embedding.weight.requires_grad = False\n",
    "\n",
    "\n",
    "    def forward(self, inputs, is_training=False):\n",
    "        inputs = self.embedding(inputs).unsqueeze(1) # (B,1,T,D)\n",
    "        inputs = [F.relu(conv(inputs)).squeeze(3) for conv in self.convs] #[(N,Co,W), ...]*len(Ks)\n",
    "        inputs = [F.max_pool1d(i, i.size(2)).squeeze(2) for i in inputs] #[(N,Co), ...]*len(Ks)\n",
    "\n",
    "        concated = torch.cat(inputs, 1)\n",
    "\n",
    "        if is_training:\n",
    "            concated = self.dropout(concated) # (N,len(Ks)*Co)\n",
    "        out = self.fc(concated)\n",
    "        return F.log_softmax(out,1)"
   ]
  },
  {
   "cell_type": "markdown",
   "metadata": {},
   "source": [
    "## Train"
   ]
  },
  {
   "cell_type": "code",
   "execution_count": 367,
   "metadata": {},
   "outputs": [],
   "source": [
    "EPOCH = 10\n",
    "BATCH_SIZE = 64\n",
    "KERNEL_SIZES = [3,4,5]\n",
    "KERNEL_DIM = 200\n",
    "LR = 0.001"
   ]
  },
  {
   "cell_type": "code",
   "execution_count": 368,
   "metadata": {},
   "outputs": [],
   "source": [
    "model = CNNClassifier(len(word2index), 300, len(target2index), KERNEL_DIM, KERNEL_SIZES)\n",
    "model.init_weights(pretrained_vectors) # initialize embedding matrix using pretrained vectors\n",
    "\n",
    "if USE_CUDA:\n",
    "    model = model.cuda()\n",
    "    \n",
    "loss_function = nn.CrossEntropyLoss(weight=class_weights)\n",
    "optimizer = optim.Adam(model.parameters(), lr=LR)"
   ]
  },
  {
   "cell_type": "code",
   "execution_count": 369,
   "metadata": {},
   "outputs": [
    {
     "name": "stdout",
     "output_type": "stream",
     "text": [
      "CNNClassifier(\n",
      "  (embedding): Embedding(125761, 300)\n",
      "  (convs): ModuleList(\n",
      "    (0): Conv2d(1, 200, kernel_size=(3, 300), stride=(1, 1))\n",
      "    (1): Conv2d(1, 200, kernel_size=(4, 300), stride=(1, 1))\n",
      "    (2): Conv2d(1, 200, kernel_size=(5, 300), stride=(1, 1))\n",
      "  )\n",
      "  (dropout): Dropout(p=0.5)\n",
      "  (fc): Linear(in_features=600, out_features=3, bias=True)\n",
      ")\n"
     ]
    }
   ],
   "source": [
    "print(model)"
   ]
  },
  {
   "cell_type": "code",
   "execution_count": 370,
   "metadata": {},
   "outputs": [],
   "source": [
    "def train_model(train_data, model, loss_function, epoch):\n",
    "    '''\n",
    "    Trains the model for one epoch\n",
    "    '''\n",
    "    \n",
    "    model.train()\n",
    "    avg_loss = []\n",
    "    avg_train_acc = []\n",
    "    \n",
    "    for i, batch in enumerate(getBatch(BATCH_SIZE, train_data)):\n",
    "        inputs, targets = pad_to_batch(batch)\n",
    "        \n",
    "        model.zero_grad()\n",
    "        preds = model(inputs, True)\n",
    "        \n",
    "        loss = loss_function(preds, targets)\n",
    "        loss.backward()\n",
    "        \n",
    "        optimizer.step()\n",
    "        \n",
    "        train_acc = (sum(preds.max(1)[1] == targets).data.tolist() / BATCH_SIZE) * 100\n",
    "        \n",
    "        if i % 100 == 0:\n",
    "            print('TRAIN [Epoch : {}/{}][Batch: {}] Batch Train Loss: {}, Batch Train Accuracy: {}'.format(epoch, EPOCH, \n",
    "                                                                                                i, loss.data.tolist(),\n",
    "                                                                                                train_acc))\n",
    "    \n",
    "        avg_loss.append(loss.data.tolist())\n",
    "        avg_train_acc.append(train_acc)\n",
    "        \n",
    "    avg_loss = np.mean(avg_loss)\n",
    "    avg_train_acc = np.mean(avg_train_acc)\n",
    "\n",
    "    return avg_loss, avg_train_acc\n",
    "\n",
    "def validate(val_data, model, loss_function, epoch):\n",
    "    \n",
    "    model.eval()\n",
    "    avg_loss = []\n",
    "    avg_test_acc = []\n",
    "    \n",
    "    for i, batch in enumerate(getBatch(BATCH_SIZE, val_data)):\n",
    "        inputs, targets = pad_to_batch(batch)\n",
    "        \n",
    "        preds = model(inputs, False)\n",
    "        \n",
    "        loss = loss_function(preds, targets)\n",
    "        \n",
    "        test_acc = (sum(preds.max(1)[1] == targets).data.tolist() / BATCH_SIZE) * 100\n",
    "        \n",
    "        if i % 100 == 0:\n",
    "            print('VAL [Epoch : {}/{}][Batch: {}] Batch Test Loss: {}, Batch Test Accuracy: {}'.format(epoch, EPOCH, \n",
    "                                                                                                i, loss.data.tolist(),\n",
    "                                                                                                test_acc))\n",
    "    \n",
    "        avg_loss.append(loss.data.tolist())\n",
    "        avg_test_acc.append(test_acc)\n",
    "        \n",
    "    avg_loss = np.mean(avg_loss)\n",
    "    avg_test_acc = np.mean(avg_test_acc)\n",
    "\n",
    "    return avg_loss, avg_test_acc"
   ]
  },
  {
   "cell_type": "code",
   "execution_count": 371,
   "metadata": {},
   "outputs": [
    {
     "name": "stdout",
     "output_type": "stream",
     "text": [
      "<<<<<<<<<<<<<TRAINING>>>>>>>>>>>>\n",
      "TRAIN [Epoch : 0/10][Batch: 0] Batch Train Loss: 1.3446671962738037, Batch Train Accuracy: 21.875\n",
      "TRAIN [Epoch : 0/10][Batch: 100] Batch Train Loss: 0.9158421754837036, Batch Train Accuracy: 59.375\n",
      "TRAIN [Epoch : 0/10][Batch: 200] Batch Train Loss: 1.0585750341415405, Batch Train Accuracy: 54.6875\n",
      "TRAIN [Epoch : 0/10][Batch: 300] Batch Train Loss: 1.469346046447754, Batch Train Accuracy: 59.375\n",
      "TRAIN [Epoch : 0/10][Batch: 400] Batch Train Loss: 0.818162739276886, Batch Train Accuracy: 73.4375\n",
      "[TRAIN] EPOCH: 0, Loss: 0.94598402711467, Accuracy: 64.08822016460906\n",
      "<<<<<<<<<<<<< VALIDATING >>>>>>>>>>>>\n",
      "VAL [Epoch : 0/10][Batch: 0] Batch Test Loss: 0.8506820201873779, Batch Test Accuracy: 79.6875\n",
      "VAL [Epoch : 0/10][Batch: 100] Batch Test Loss: 0.5564904808998108, Batch Test Accuracy: 87.5\n",
      "[VAL] EPOCH: 0, Loss: 0.5859492211430161, Accuracy: 86.39081790123457\n",
      "<<<<<<<<<<<<<TRAINING>>>>>>>>>>>>\n",
      "TRAIN [Epoch : 1/10][Batch: 0] Batch Train Loss: 0.598028838634491, Batch Train Accuracy: 79.6875\n",
      "TRAIN [Epoch : 1/10][Batch: 100] Batch Train Loss: 0.6976648569107056, Batch Train Accuracy: 76.5625\n",
      "TRAIN [Epoch : 1/10][Batch: 200] Batch Train Loss: 0.5105795860290527, Batch Train Accuracy: 73.4375\n",
      "TRAIN [Epoch : 1/10][Batch: 300] Batch Train Loss: 0.31102269887924194, Batch Train Accuracy: 89.0625\n",
      "TRAIN [Epoch : 1/10][Batch: 400] Batch Train Loss: 0.4602445960044861, Batch Train Accuracy: 85.9375\n",
      "[TRAIN] EPOCH: 1, Loss: 0.6473866549048404, Accuracy: 78.49151234567901\n",
      "<<<<<<<<<<<<< VALIDATING >>>>>>>>>>>>\n",
      "VAL [Epoch : 1/10][Batch: 0] Batch Test Loss: 0.6563234329223633, Batch Test Accuracy: 81.25\n",
      "VAL [Epoch : 1/10][Batch: 100] Batch Test Loss: 0.5904731750488281, Batch Test Accuracy: 82.8125\n",
      "[VAL] EPOCH: 1, Loss: 0.5080452882397322, Accuracy: 84.13387345679013\n",
      "<<<<<<<<<<<<<TRAINING>>>>>>>>>>>>\n",
      "TRAIN [Epoch : 2/10][Batch: 0] Batch Train Loss: 0.4035145342350006, Batch Train Accuracy: 85.9375\n",
      "TRAIN [Epoch : 2/10][Batch: 100] Batch Train Loss: 0.42208239436149597, Batch Train Accuracy: 89.0625\n",
      "TRAIN [Epoch : 2/10][Batch: 200] Batch Train Loss: 0.6413170695304871, Batch Train Accuracy: 79.6875\n",
      "TRAIN [Epoch : 2/10][Batch: 300] Batch Train Loss: 0.19487625360488892, Batch Train Accuracy: 92.1875\n",
      "TRAIN [Epoch : 2/10][Batch: 400] Batch Train Loss: 0.5399366021156311, Batch Train Accuracy: 87.5\n",
      "[TRAIN] EPOCH: 2, Loss: 0.5109341651998429, Accuracy: 83.28189300411523\n",
      "<<<<<<<<<<<<< VALIDATING >>>>>>>>>>>>\n",
      "VAL [Epoch : 2/10][Batch: 0] Batch Test Loss: 0.8718847632408142, Batch Test Accuracy: 90.625\n",
      "VAL [Epoch : 2/10][Batch: 100] Batch Test Loss: 1.3542711734771729, Batch Test Accuracy: 89.0625\n",
      "[VAL] EPOCH: 2, Loss: 0.9745465165211095, Accuracy: 90.67322530864197\n",
      "<<<<<<<<<<<<<TRAINING>>>>>>>>>>>>\n",
      "TRAIN [Epoch : 3/10][Batch: 0] Batch Train Loss: 0.1522342413663864, Batch Train Accuracy: 98.4375\n",
      "TRAIN [Epoch : 3/10][Batch: 100] Batch Train Loss: 0.2388838827610016, Batch Train Accuracy: 95.3125\n",
      "TRAIN [Epoch : 3/10][Batch: 200] Batch Train Loss: 0.28970852494239807, Batch Train Accuracy: 85.9375\n",
      "TRAIN [Epoch : 3/10][Batch: 300] Batch Train Loss: 0.17964480817317963, Batch Train Accuracy: 93.75\n",
      "TRAIN [Epoch : 3/10][Batch: 400] Batch Train Loss: 0.5548070073127747, Batch Train Accuracy: 87.5\n",
      "[TRAIN] EPOCH: 3, Loss: 0.38367924888315513, Accuracy: 87.65432098765432\n",
      "<<<<<<<<<<<<< VALIDATING >>>>>>>>>>>>\n",
      "VAL [Epoch : 3/10][Batch: 0] Batch Test Loss: 0.3016532063484192, Batch Test Accuracy: 93.75\n",
      "VAL [Epoch : 3/10][Batch: 100] Batch Test Loss: 0.16799646615982056, Batch Test Accuracy: 96.875\n",
      "[VAL] EPOCH: 3, Loss: 0.7380732276281456, Accuracy: 91.30015432098766\n",
      "<<<<<<<<<<<<<TRAINING>>>>>>>>>>>>\n",
      "TRAIN [Epoch : 4/10][Batch: 0] Batch Train Loss: 0.025070831179618835, Batch Train Accuracy: 98.4375\n",
      "TRAIN [Epoch : 4/10][Batch: 100] Batch Train Loss: 0.19196029007434845, Batch Train Accuracy: 93.75\n",
      "TRAIN [Epoch : 4/10][Batch: 200] Batch Train Loss: 0.1071150153875351, Batch Train Accuracy: 95.3125\n",
      "TRAIN [Epoch : 4/10][Batch: 300] Batch Train Loss: 0.21426820755004883, Batch Train Accuracy: 92.1875\n",
      "TRAIN [Epoch : 4/10][Batch: 400] Batch Train Loss: 0.43452075123786926, Batch Train Accuracy: 95.3125\n",
      "[TRAIN] EPOCH: 4, Loss: 0.27789933219506047, Accuracy: 90.81147119341564\n",
      "<<<<<<<<<<<<< VALIDATING >>>>>>>>>>>>\n",
      "VAL [Epoch : 4/10][Batch: 0] Batch Test Loss: 0.43447816371917725, Batch Test Accuracy: 85.9375\n",
      "VAL [Epoch : 4/10][Batch: 100] Batch Test Loss: 0.6747270226478577, Batch Test Accuracy: 76.5625\n",
      "[VAL] EPOCH: 4, Loss: 0.6005130983705138, Accuracy: 86.19791666666667\n",
      "<<<<<<<<<<<<<TRAINING>>>>>>>>>>>>\n",
      "TRAIN [Epoch : 5/10][Batch: 0] Batch Train Loss: 0.13315127789974213, Batch Train Accuracy: 92.1875\n",
      "TRAIN [Epoch : 5/10][Batch: 100] Batch Train Loss: 0.06529124826192856, Batch Train Accuracy: 96.875\n",
      "TRAIN [Epoch : 5/10][Batch: 200] Batch Train Loss: 0.24236352741718292, Batch Train Accuracy: 93.75\n",
      "TRAIN [Epoch : 5/10][Batch: 300] Batch Train Loss: 0.0754767581820488, Batch Train Accuracy: 96.875\n",
      "TRAIN [Epoch : 5/10][Batch: 400] Batch Train Loss: 0.10570020973682404, Batch Train Accuracy: 96.875\n",
      "[TRAIN] EPOCH: 5, Loss: 0.1805293808648446, Accuracy: 94.1454475308642\n",
      "<<<<<<<<<<<<< VALIDATING >>>>>>>>>>>>\n",
      "VAL [Epoch : 5/10][Batch: 0] Batch Test Loss: 0.10883227735757828, Batch Test Accuracy: 95.3125\n",
      "VAL [Epoch : 5/10][Batch: 100] Batch Test Loss: 0.7081212401390076, Batch Test Accuracy: 89.0625\n",
      "[VAL] EPOCH: 5, Loss: 0.6601339640716711, Accuracy: 88.63811728395062\n",
      "<<<<<<<<<<<<<TRAINING>>>>>>>>>>>>\n",
      "TRAIN [Epoch : 6/10][Batch: 0] Batch Train Loss: 0.1028599888086319, Batch Train Accuracy: 96.875\n",
      "TRAIN [Epoch : 6/10][Batch: 100] Batch Train Loss: 0.08692646026611328, Batch Train Accuracy: 96.875\n",
      "TRAIN [Epoch : 6/10][Batch: 200] Batch Train Loss: 0.03646202012896538, Batch Train Accuracy: 96.875\n",
      "TRAIN [Epoch : 6/10][Batch: 300] Batch Train Loss: 0.04951535165309906, Batch Train Accuracy: 96.875\n",
      "TRAIN [Epoch : 6/10][Batch: 400] Batch Train Loss: 0.3246525526046753, Batch Train Accuracy: 95.3125\n",
      "[TRAIN] EPOCH: 6, Loss: 0.13726977239182764, Accuracy: 95.60185185185185\n",
      "<<<<<<<<<<<<< VALIDATING >>>>>>>>>>>>\n",
      "VAL [Epoch : 6/10][Batch: 0] Batch Test Loss: 0.4801533818244934, Batch Test Accuracy: 90.625\n",
      "VAL [Epoch : 6/10][Batch: 100] Batch Test Loss: 1.1964939832687378, Batch Test Accuracy: 89.0625\n",
      "[VAL] EPOCH: 6, Loss: 0.788038238492093, Accuracy: 89.4386574074074\n",
      "<<<<<<<<<<<<<TRAINING>>>>>>>>>>>>\n",
      "TRAIN [Epoch : 7/10][Batch: 0] Batch Train Loss: 0.023245971649885178, Batch Train Accuracy: 96.875\n",
      "TRAIN [Epoch : 7/10][Batch: 100] Batch Train Loss: 0.07415540516376495, Batch Train Accuracy: 96.875\n",
      "TRAIN [Epoch : 7/10][Batch: 200] Batch Train Loss: 0.02697432041168213, Batch Train Accuracy: 98.4375\n",
      "TRAIN [Epoch : 7/10][Batch: 300] Batch Train Loss: 0.07671452313661575, Batch Train Accuracy: 96.875\n",
      "TRAIN [Epoch : 7/10][Batch: 400] Batch Train Loss: 0.016167592257261276, Batch Train Accuracy: 100.0\n",
      "[TRAIN] EPOCH: 7, Loss: 0.09782436586113516, Accuracy: 96.61458333333333\n",
      "<<<<<<<<<<<<< VALIDATING >>>>>>>>>>>>\n",
      "VAL [Epoch : 7/10][Batch: 0] Batch Test Loss: 1.1702113151550293, Batch Test Accuracy: 87.5\n",
      "VAL [Epoch : 7/10][Batch: 100] Batch Test Loss: 1.8513977527618408, Batch Test Accuracy: 93.75\n",
      "[VAL] EPOCH: 7, Loss: 1.05975999991283, Accuracy: 90.98186728395062\n",
      "<<<<<<<<<<<<<TRAINING>>>>>>>>>>>>\n",
      "TRAIN [Epoch : 8/10][Batch: 0] Batch Train Loss: 0.22774258255958557, Batch Train Accuracy: 98.4375\n",
      "TRAIN [Epoch : 8/10][Batch: 100] Batch Train Loss: 0.04266662150621414, Batch Train Accuracy: 98.4375\n",
      "TRAIN [Epoch : 8/10][Batch: 200] Batch Train Loss: 0.0650368183851242, Batch Train Accuracy: 96.875\n",
      "TRAIN [Epoch : 8/10][Batch: 300] Batch Train Loss: 0.04641116037964821, Batch Train Accuracy: 96.875\n",
      "TRAIN [Epoch : 8/10][Batch: 400] Batch Train Loss: 0.01096459198743105, Batch Train Accuracy: 100.0\n",
      "[TRAIN] EPOCH: 8, Loss: 0.07604525676893009, Accuracy: 97.28652263374485\n",
      "<<<<<<<<<<<<< VALIDATING >>>>>>>>>>>>\n",
      "VAL [Epoch : 8/10][Batch: 0] Batch Test Loss: 1.2483513355255127, Batch Test Accuracy: 90.625\n",
      "VAL [Epoch : 8/10][Batch: 100] Batch Test Loss: 0.37613311409950256, Batch Test Accuracy: 93.75\n",
      "[VAL] EPOCH: 8, Loss: 1.052096629952207, Accuracy: 90.14274691358025\n",
      "<<<<<<<<<<<<<TRAINING>>>>>>>>>>>>\n",
      "TRAIN [Epoch : 9/10][Batch: 0] Batch Train Loss: 0.03779802471399307, Batch Train Accuracy: 98.4375\n"
     ]
    },
    {
     "name": "stdout",
     "output_type": "stream",
     "text": [
      "TRAIN [Epoch : 9/10][Batch: 100] Batch Train Loss: 0.033867284655570984, Batch Train Accuracy: 95.3125\n",
      "TRAIN [Epoch : 9/10][Batch: 200] Batch Train Loss: 0.008668972179293633, Batch Train Accuracy: 100.0\n",
      "TRAIN [Epoch : 9/10][Batch: 300] Batch Train Loss: 0.01788111962378025, Batch Train Accuracy: 100.0\n",
      "TRAIN [Epoch : 9/10][Batch: 400] Batch Train Loss: 0.022332578897476196, Batch Train Accuracy: 98.4375\n",
      "[TRAIN] EPOCH: 9, Loss: 0.07557201178681197, Accuracy: 97.47620884773663\n",
      "<<<<<<<<<<<<< VALIDATING >>>>>>>>>>>>\n",
      "VAL [Epoch : 9/10][Batch: 0] Batch Test Loss: 1.2585526704788208, Batch Test Accuracy: 92.1875\n",
      "VAL [Epoch : 9/10][Batch: 100] Batch Test Loss: 2.8524699211120605, Batch Test Accuracy: 82.8125\n",
      "[VAL] EPOCH: 9, Loss: 1.1996654080066047, Accuracy: 90.2199074074074\n"
     ]
    }
   ],
   "source": [
    "train_loss, train_acc, val_loss, val_acc = [], [], [], []\n",
    "for epoch in range(EPOCH):\n",
    "    \n",
    "    print('<<<<<<<<<<<<<TRAINING>>>>>>>>>>>>')\n",
    "    epoch_train_loss, epoch_train_acc = train_model(train_data, model, loss_function, epoch)\n",
    "    print('[TRAIN] EPOCH: {}, Loss: {}, Accuracy: {}'.format(epoch, epoch_train_loss, epoch_train_acc))\n",
    "    train_loss.append(epoch_train_loss)\n",
    "    train_acc.append(epoch_train_acc)\n",
    "    \n",
    "    print('<<<<<<<<<<<<< VALIDATING >>>>>>>>>>>>')\n",
    "    epoch_val_loss, epoch_val_acc = validate(val_data, model, loss_function, epoch)\n",
    "    print('[VAL] EPOCH: {}, Loss: {}, Accuracy: {}'.format(epoch, epoch_val_loss, epoch_val_acc))    \n",
    "    val_loss.append(epoch_val_loss)\n",
    "    val_acc.append(epoch_val_acc)"
   ]
  },
  {
   "cell_type": "markdown",
   "metadata": {},
   "source": [
    "### Make loss and accuracy plots"
   ]
  },
  {
   "cell_type": "code",
   "execution_count": 372,
   "metadata": {},
   "outputs": [
    {
     "data": {
      "image/png": "[encoded data removed]",
      "text/plain": [
       "<matplotlib.figure.Figure at 0x7fc994f25c50>"
      ]
     },
     "metadata": {},
     "output_type": "display_data"
    }
   ],
   "source": [
    "# Accuracy\n",
    "epochs = range(1, EPOCH + 1)\n",
    "\n",
    "plt.figure(figsize=(16, 9))\n",
    "plt.plot(epochs, train_acc, 'r', label='Training acc')\n",
    "plt.plot(epochs, val_acc, 'b', label='Validation acc')\n",
    "plt.title('Training and validation accuracy')\n",
    "plt.legend()\n",
    "\n",
    "plt.show()"
   ]
  },
  {
   "cell_type": "code",
   "execution_count": 373,
   "metadata": {},
   "outputs": [
    {
     "data": {
      "image/png": "[encoded data removed]",
      "text/plain": [
       "<matplotlib.figure.Figure at 0x7fc9776caac8>"
      ]
     },
     "metadata": {},
     "output_type": "display_data"
    }
   ],
   "source": [
    "# Loss\n",
    "\n",
    "plt.figure(figsize=(16, 9))\n",
    "plt.plot(epochs, train_loss, 'r', label='Training loss')\n",
    "plt.plot(epochs, val_loss, 'b', label='Validation loss')\n",
    "plt.title('Training and validation loss')\n",
    "plt.legend()\n",
    "\n",
    "plt.show()"
   ]
  },
  {
   "cell_type": "markdown",
   "metadata": {},
   "source": [
    "## Evaluate on validation set"
   ]
  },
  {
   "cell_type": "code",
   "execution_count": 374,
   "metadata": {},
   "outputs": [
    {
     "name": "stdout",
     "output_type": "stream",
     "text": [
      "90.34502754421571\n"
     ]
    }
   ],
   "source": [
    "accuracy = 0\n",
    "\n",
    "for test in val_data:\n",
    "    pred = model(test[0], False).max(1)[1]\n",
    "    pred = pred.data.tolist()[0]\n",
    "    target = test[1].data.tolist()[0][0]\n",
    "    if pred == target:\n",
    "        accuracy += 1\n",
    "\n",
    "print(accuracy/len(val_data) * 100)"
   ]
  },
  {
   "cell_type": "markdown",
   "metadata": {},
   "source": [
    "### Make nice plots"
   ]
  },
  {
   "cell_type": "code",
   "execution_count": 375,
   "metadata": {},
   "outputs": [],
   "source": [
    "if 'Y_VAL' in locals():\n",
    "    del Y_VAL, Y_VAL_PREDS\n",
    "    \n",
    "for data in getBatch(50, val_data):\n",
    "    inputs, targets = pad_to_batch(data)\n",
    "\n",
    "    y_val_pred = model(inputs, False)\n",
    "    preds = y_val_pred.max(1)[1]\n",
    "    \n",
    "    if 'Y_VAL' in locals():\n",
    "        Y_VAL = torch.cat((Y_VAL, targets), 0)\n",
    "        Y_VAL_PREDS = torch.cat((Y_VAL_PREDS, preds), 0)\n",
    "    else:\n",
    "        Y_VAL = targets\n",
    "        Y_VAL_PREDS = preds"
   ]
  },
  {
   "cell_type": "code",
   "execution_count": 376,
   "metadata": {},
   "outputs": [],
   "source": [
    "from sklearn.metrics import confusion_matrix"
   ]
  },
  {
   "cell_type": "code",
   "execution_count": 377,
   "metadata": {},
   "outputs": [],
   "source": [
    "conf_mat = confusion_matrix(Y_VAL, Y_VAL_PREDS, labels = [0, 1, 2])"
   ]
  },
  {
   "cell_type": "code",
   "execution_count": 378,
   "metadata": {},
   "outputs": [],
   "source": [
    "# funtion to plot confusion matrices, will be needed later\n",
    "\n",
    "def plot_confusion_matrix(cm, classes,\n",
    "                          normalize=False,\n",
    "                          title='Confusion matrix',\n",
    "                          cmap=plt.cm.Blues):\n",
    "    \"\"\"\n",
    "    This function prints and plots the confusion matrix.\n",
    "    Normalization can be applied by setting `normalize=True`.\n",
    "    \"\"\"\n",
    "    if normalize:\n",
    "        cm = cm.astype('float') / cm.sum(axis=1)[:, np.newaxis]\n",
    "        print(\"Normalized confusion matrix\")\n",
    "        plt.imshow(cm, interpolation='nearest', cmap=cmap, vmin=0, vmax=1)\n",
    "    else:\n",
    "        print('Confusion matrix, without normalization')\n",
    "        plt.imshow(cm, interpolation='nearest', cmap=cmap)\n",
    "\n",
    "    print(cm)\n",
    "    \n",
    "    \n",
    "    plt.title(title)\n",
    "    plt.colorbar( )\n",
    "    tick_marks = np.arange(len(classes))\n",
    "    plt.xticks(tick_marks, classes, rotation=45)\n",
    "    plt.yticks(tick_marks, classes)\n",
    "\n",
    "    fmt = '.2f' if normalize else 'd'\n",
    "    thresh = cm.max() / 2.\n",
    "    for i, j in itertools.product(range(cm.shape[0]), range(cm.shape[1])):\n",
    "        plt.text(j, i, format(cm[i, j], fmt),\n",
    "                 horizontalalignment=\"center\",\n",
    "                 color=\"white\" if cm[i, j] > thresh else \"black\")\n",
    "\n",
    "    plt.tight_layout()\n",
    "    plt.ylabel('True label')\n",
    "    plt.xlabel('Predicted label')"
   ]
  },
  {
   "cell_type": "code",
   "execution_count": 379,
   "metadata": {},
   "outputs": [
    {
     "name": "stdout",
     "output_type": "stream",
     "text": [
      "Normalized confusion matrix\n",
      "[[0.9465602  0.0453317  0.00810811]\n",
      " [0.25178998 0.63842482 0.1097852 ]\n",
      " [0.08692476 0.09934259 0.81373265]]\n"
     ]
    },
    {
     "data": {
      "image/png": "[encoded data removed]",
      "text/plain": [
       "<matplotlib.figure.Figure at 0x7fc9776ce3c8>"
      ]
     },
     "metadata": {},
     "output_type": "display_data"
    }
   ],
   "source": [
    "plt.figure()\n",
    "plot_confusion_matrix(conf_mat, ['Rejected', 'Non-Core', 'Core'], normalize=True)\n",
    "plt.show()"
   ]
  },
  {
   "cell_type": "code",
   "execution_count": null,
   "metadata": {},
   "outputs": [],
   "source": []
  }
 ],
 "metadata": {
  "kernelspec": {
   "display_name": "Python 2",
   "language": "python",
   "name": "python2"
  },
  "language_info": {
   "codemirror_mode": {
    "name": "ipython",
    "version": 3
   },
   "file_extension": ".py",
   "mimetype": "text/x-python",
   "name": "python",
   "nbconvert_exporter": "python",
   "pygments_lexer": "ipython3",
   "version": "3.5.2"
  }
 },
 "nbformat": 4,
 "nbformat_minor": 2
}
