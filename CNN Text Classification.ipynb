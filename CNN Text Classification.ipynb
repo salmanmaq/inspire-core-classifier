{
 "cells": [
  {
   "cell_type": "code",
   "execution_count": 1,
   "metadata": {},
   "outputs": [],
   "source": [
    "import torch\n",
    "import torch.nn as nn\n",
    "from torch.autograd import Variable\n",
    "import torch.optim as optim\n",
    "import torch.nn.functional as F\n",
    "import nltk\n",
    "import random\n",
    "import numpy as np\n",
    "from collections import Counter, OrderedDict\n",
    "import nltk\n",
    "import re\n",
    "from copy import deepcopy\n",
    "flatten = lambda l: [item for sublist in l for item in sublist]\n",
    "\n",
    "import matplotlib.pyplot as plt\n",
    "import itertools\n",
    "import pandas as pd\n",
    "\n",
    "#random.seed(1024)\n",
    "%matplotlib inline"
   ]
  },
  {
   "cell_type": "code",
   "execution_count": 2,
   "metadata": {},
   "outputs": [],
   "source": [
    "USE_CUDA = torch.cuda.is_available()\n",
    "gpus = [0]\n",
    "torch.cuda.set_device(gpus[0])\n",
    "\n",
    "FloatTensor = torch.cuda.FloatTensor if USE_CUDA else torch.FloatTensor\n",
    "LongTensor = torch.cuda.LongTensor if USE_CUDA else torch.LongTensor\n",
    "ByteTensor = torch.cuda.ByteTensor if USE_CUDA else torch.ByteTensor"
   ]
  },
  {
   "cell_type": "code",
   "execution_count": 3,
   "metadata": {},
   "outputs": [],
   "source": [
    "def getBatch(batch_size, train_data):\n",
    "    random.shuffle(train_data)\n",
    "    sindex = 0\n",
    "    eindex = batch_size\n",
    "    while eindex < len(train_data):\n",
    "        batch = train_data[sindex: eindex]\n",
    "        temp = eindex\n",
    "        eindex = eindex + batch_size\n",
    "        sindex = temp\n",
    "        yield batch\n",
    "    \n",
    "    if eindex >= len(train_data):\n",
    "        batch = train_data[sindex:]\n",
    "        yield batch"
   ]
  },
  {
   "cell_type": "code",
   "execution_count": 4,
   "metadata": {},
   "outputs": [],
   "source": [
    "def pad_to_batch(batch):\n",
    "    x,y = zip(*batch)\n",
    "    max_x = max([s.size(1) for s in x])\n",
    "    x_p = []\n",
    "    for i in range(len(batch)):\n",
    "        if x[i].size(1) < max_x:\n",
    "            x_p.append(torch.cat([x[i], Variable(LongTensor([word2index['<PAD>']] * (max_x - x[i].size(1)))).view(1, -1)], 1))\n",
    "        else:\n",
    "            x_p.append(x[i])\n",
    "    return torch.cat(x_p), torch.cat(y).view(-1)"
   ]
  },
  {
   "cell_type": "code",
   "execution_count": 5,
   "metadata": {},
   "outputs": [],
   "source": [
    "def prepare_sequence(seq, to_index):\n",
    "    idxs = list(map(lambda w: to_index[w] if to_index.get(w) is not None else to_index[\"<UNK>\"], seq))\n",
    "    return Variable(LongTensor(idxs))"
   ]
  },
  {
   "cell_type": "markdown",
   "metadata": {},
   "source": [
    "## Data Loading and Pre-processing"
   ]
  },
  {
   "cell_type": "code",
   "execution_count": 6,
   "metadata": {},
   "outputs": [],
   "source": [
    "inspire_data = pd.read_pickle('data/INSPIREpy2.df')\n",
    "\n",
    "inspire_data = inspire_data.reindex(np.random.permutation(inspire_data.index))\n",
    "inspire_data = inspire_data.reset_index(drop=True)\n",
    "\n",
    "training_samples = 3 * len(inspire_data) // 5\n",
    "validation_samples = len(inspire_data) // 5"
   ]
  },
  {
   "cell_type": "code",
   "execution_count": 7,
   "metadata": {},
   "outputs": [],
   "source": [
    "X = list(inspire_data['texts'])\n",
    "y = list(inspire_data['coreness'])"
   ]
  },
  {
   "cell_type": "code",
   "execution_count": 8,
   "metadata": {},
   "outputs": [],
   "source": [
    "# Get the class weights\n",
    "rejected_count = y.count(0)\n",
    "noncore_count = y.count(1)\n",
    "core_count = y.count(2)\n",
    "\n",
    "total_count = len(y)\n",
    "\n",
    "inverse_rejected_fraction = total_count / rejected_count\n",
    "inverse_noncore_fraction = total_count / noncore_count\n",
    "inverse_core_fraction = total_count / core_count \n",
    "\n",
    "sum_fractions = inverse_rejected_fraction + inverse_noncore_fraction + inverse_core_fraction\n",
    "\n",
    "# Specify the class weights (for the loss function specified later)\n",
    "class_weights = torch.cuda.FloatTensor((inverse_rejected_fraction/sum_fractions,\n",
    "                                        inverse_noncore_fraction/sum_fractions,\n",
    "                                        inverse_core_fraction/sum_fractions))"
   ]
  },
  {
   "cell_type": "code",
   "execution_count": 9,
   "metadata": {},
   "outputs": [
    {
     "name": "stdout",
     "output_type": "stream",
     "text": [
      "tensor([ 0.1002,  1.0000,  0.5850], device='cuda:0')\n"
     ]
    }
   ],
   "source": [
    "class_weights = class_weights / class_weights[1]\n",
    "print(class_weights)"
   ]
  },
  {
   "cell_type": "markdown",
   "metadata": {},
   "source": [
    "#### Lowercase all text"
   ]
  },
  {
   "cell_type": "code",
   "execution_count": 10,
   "metadata": {},
   "outputs": [],
   "source": [
    "# Lowercase the entire text corpora\n",
    "X = [x.lower() for x in X]"
   ]
  },
  {
   "cell_type": "markdown",
   "metadata": {},
   "source": [
    "#### Remove punctuation"
   ]
  },
  {
   "cell_type": "code",
   "execution_count": 11,
   "metadata": {},
   "outputs": [],
   "source": [
    "punc_to_remove = str('!\"%&\\'()*+,./:;<=>?@[\\\\]^_`{|}~')\n",
    "for i, x in enumerate(X):\n",
    "    X[i] = ' '.join(word.strip(punc_to_remove) for word in x.split())"
   ]
  },
  {
   "cell_type": "markdown",
   "metadata": {},
   "source": [
    "#### Num Masking"
   ]
  },
  {
   "cell_type": "code",
   "execution_count": 12,
   "metadata": {},
   "outputs": [],
   "source": [
    "for i, x in enumerate(X):\n",
    "    X[i] = re.sub('\\d+', '<NUM>', x)"
   ]
  },
  {
   "cell_type": "markdown",
   "metadata": {},
   "source": [
    "#### Replace Latex Equations"
   ]
  },
  {
   "cell_type": "code",
   "execution_count": 13,
   "metadata": {},
   "outputs": [],
   "source": [
    "for i, _ in enumerate(X):\n",
    "    f = re.search(r\"(.+(?P<name>\\$.+\\$).+)+\", X[i])\n",
    "    while f is not None:\n",
    "        X[i] = re.sub(re.escape(f.group('name')), '<FORMULA>', X[i])\n",
    "        f = re.search(r\"(.+(?P<name>\\$.+\\$).+)+\", X[i])"
   ]
  },
  {
   "cell_type": "markdown",
   "metadata": {},
   "source": [
    "#### Tokenize the text"
   ]
  },
  {
   "cell_type": "code",
   "execution_count": 14,
   "metadata": {},
   "outputs": [],
   "source": [
    "X = [nltk.word_tokenize(x) for x in X]"
   ]
  },
  {
   "cell_type": "markdown",
   "metadata": {},
   "source": [
    "#### Lemmatize the text"
   ]
  },
  {
   "cell_type": "code",
   "execution_count": 15,
   "metadata": {},
   "outputs": [],
   "source": [
    "wordnet_lemmatizer = nltk.stem.WordNetLemmatizer()\n",
    "X = [[wordnet_lemmatizer.lemmatize(word) for word in x] for x in X]"
   ]
  },
  {
   "cell_type": "markdown",
   "metadata": {},
   "source": [
    "#### Build vocabulary"
   ]
  },
  {
   "cell_type": "code",
   "execution_count": 16,
   "metadata": {},
   "outputs": [
    {
     "name": "stdout",
     "output_type": "stream",
     "text": [
      "125759\n"
     ]
    }
   ],
   "source": [
    "vocab = list(set(flatten(X)))\n",
    "print(len(vocab))"
   ]
  },
  {
   "cell_type": "code",
   "execution_count": 17,
   "metadata": {},
   "outputs": [
    {
     "name": "stdout",
     "output_type": "stream",
     "text": [
      "3\n"
     ]
    }
   ],
   "source": [
    "print(len(set(y))) # Number of classes"
   ]
  },
  {
   "cell_type": "code",
   "execution_count": 18,
   "metadata": {},
   "outputs": [],
   "source": [
    "word2index={'<PAD>': 0, '<UNK>': 1}\n",
    "\n",
    "for vo in vocab:\n",
    "    if word2index.get(vo) is None:\n",
    "        word2index[vo] = len(word2index)\n",
    "        \n",
    "index2word = {v:k for k, v in word2index.items()}\n",
    "\n",
    "target2index = {}\n",
    "\n",
    "for cl in set(y):\n",
    "    if target2index.get(cl) is None:\n",
    "        target2index[cl] = len(target2index)\n",
    "\n",
    "index2target = {v:k for k, v in target2index.items()}"
   ]
  },
  {
   "cell_type": "code",
   "execution_count": 19,
   "metadata": {},
   "outputs": [],
   "source": [
    "X_p, y_p = [], []\n",
    "for pair in zip(X,y):\n",
    "    X_p.append(prepare_sequence(pair[0], word2index).view(1, -1))\n",
    "    y_p.append(Variable(LongTensor([target2index[pair[1]]])).view(1, -1))\n",
    "    \n",
    "data_p = list(zip(X_p, y_p))\n",
    "random.shuffle(data_p)\n",
    "\n",
    "train_data = data_p[: int(len(data_p) * 0.6)]\n",
    "val_data = data_p[int(len(data_p) * 0.6):int(len(data_p) * 0.8)]\n",
    "test_data = data_p[int(len(data_p) * 0.8):]"
   ]
  },
  {
   "cell_type": "markdown",
   "metadata": {},
   "source": [
    "#### Load pre-trained Word Vectors"
   ]
  },
  {
   "cell_type": "code",
   "execution_count": 20,
   "metadata": {},
   "outputs": [],
   "source": [
    "import gensim"
   ]
  },
  {
   "cell_type": "code",
   "execution_count": 21,
   "metadata": {},
   "outputs": [],
   "source": [
    "model = gensim.models.KeyedVectors.load_word2vec_format('data/word2vec_pretrained/GoogleNews-vectors-negative300.bin', binary=True)"
   ]
  },
  {
   "cell_type": "code",
   "execution_count": 22,
   "metadata": {},
   "outputs": [
    {
     "data": {
      "text/plain": [
       "3000000"
      ]
     },
     "execution_count": 22,
     "metadata": {},
     "output_type": "execute_result"
    }
   ],
   "source": [
    "len(model.index2word)"
   ]
  },
  {
   "cell_type": "code",
   "execution_count": 23,
   "metadata": {},
   "outputs": [],
   "source": [
    "pretrained = []\n",
    "\n",
    "for key in word2index.keys():\n",
    "    try:\n",
    "        pretrained.append(model[word2index[key]])\n",
    "    except:\n",
    "        pretrained.append(np.random.randn(300))\n",
    "        \n",
    "pretrained_vectors = np.vstack(pretrained)"
   ]
  },
  {
   "cell_type": "markdown",
   "metadata": {},
   "source": [
    "### CNN Model Definition"
   ]
  },
  {
   "cell_type": "markdown",
   "metadata": {},
   "source": [
    "####  Baseline Model"
   ]
  },
  {
   "cell_type": "code",
   "execution_count": 191,
   "metadata": {},
   "outputs": [],
   "source": [
    "class  CNNClassifier(nn.Module):\n",
    "    \n",
    "    def __init__(self, vocab_size, embedding_dim, output_size, kernel_dim=100, kernel_sizes=(3, 4, 5), dropout=0.5):\n",
    "        super(CNNClassifier,self).__init__()\n",
    "\n",
    "        self.embedding = nn.Embedding(vocab_size, embedding_dim)\n",
    "        self.convs = nn.ModuleList([nn.Conv2d(1, kernel_dim, (K, embedding_dim)) for K in kernel_sizes])\n",
    "\n",
    "        # kernal_size = (K,D) \n",
    "        self.dropout = nn.Dropout(dropout)\n",
    "        self.fc = nn.Linear(len(kernel_sizes) * kernel_dim, output_size)\n",
    "    \n",
    "    \n",
    "    def init_weights(self, pretrained_word_vectors, is_static=False):\n",
    "        self.embedding.weight = nn.Parameter(torch.from_numpy(pretrained_word_vectors).float())\n",
    "        if is_static:\n",
    "            self.embedding.weight.requires_grad = False\n",
    "\n",
    "\n",
    "    def forward(self, inputs, is_training=False):\n",
    "        inputs = self.embedding(inputs).unsqueeze(1) # (B,1,T,D)\n",
    "        inputs = [F.relu(conv(inputs)).squeeze(3) for conv in self.convs] #[(N,Co,W), ...]*len(Ks)\n",
    "        inputs = [F.max_pool1d(i, i.size(2)).squeeze(2) for i in inputs] #[(N,Co), ...]*len(Ks)\n",
    "\n",
    "        concated = torch.cat(inputs, 1)\n",
    "\n",
    "        if is_training:\n",
    "            concated = self.dropout(concated) # (N,len(Ks)*Co)\n",
    "        out = self.fc(concated)\n",
    "        return F.log_softmax(out,1)"
   ]
  },
  {
   "cell_type": "markdown",
   "metadata": {},
   "source": [
    "#### Deeper Model"
   ]
  },
  {
   "cell_type": "markdown",
   "metadata": {},
   "source": [
    "class  CNNClassifier(nn.Module):\n",
    "    \n",
    "    def __init__(self, vocab_size, embedding_dim, output_size, kernel_dim=100, kernel_sizes=(3, 4, 5), dropout=0.5):\n",
    "        super(CNNClassifier,self).__init__()\n",
    "\n",
    "        self.embedding = nn.Embedding(vocab_size, embedding_dim)\n",
    "        self.convs = nn.ModuleList([nn.Conv2d(1, kernel_dim, (K, embedding_dim)) for K in kernel_sizes])\n",
    "\n",
    "        # kernal_size = (K,D) \n",
    "        self.dropout = nn.Dropout(dropout)\n",
    "        self.fc = nn.Linear(len(kernel_sizes) * kernel_dim, output_size)\n",
    "    \n",
    "    \n",
    "    def init_weights(self, pretrained_word_vectors, is_static=False):\n",
    "        self.embedding.weight = nn.Parameter(torch.from_numpy(pretrained_word_vectors).float())\n",
    "        if is_static:\n",
    "            self.embedding.weight.requires_grad = False\n",
    "\n",
    "\n",
    "    def forward(self, inputs, is_training=False):\n",
    "        inputs = self.embedding(inputs).unsqueeze(1) # (B,1,T,D)\n",
    "        inputs = [F.relu(conv(inputs)).squeeze(3) for conv in self.convs] #[(N,Co,W), ...]*len(Ks)\n",
    "        inputs = [F.max_pool1d(i, i.size(2)).squeeze(2) for i in inputs] #[(N,Co), ...]*len(Ks)\n",
    "\n",
    "        concated = torch.cat(inputs, 1)\n",
    "\n",
    "        if is_training:\n",
    "            concated = self.dropout(concated) # (N,len(Ks)*Co)\n",
    "        out = self.fc(concated)\n",
    "        return F.log_softmax(out,1)"
   ]
  },
  {
   "cell_type": "markdown",
   "metadata": {},
   "source": [
    "## Train"
   ]
  },
  {
   "cell_type": "code",
   "execution_count": 192,
   "metadata": {},
   "outputs": [],
   "source": [
    "EPOCH = 6\n",
    "BATCH_SIZE = 64\n",
    "KERNEL_SIZES = [3,4,5,6]\n",
    "KERNEL_DIM = 200\n",
    "LR = 0.001"
   ]
  },
  {
   "cell_type": "code",
   "execution_count": 193,
   "metadata": {},
   "outputs": [],
   "source": [
    "model = CNNClassifier(len(word2index), 300, len(target2index), KERNEL_DIM, KERNEL_SIZES)\n",
    "model.init_weights(pretrained_vectors) # initialize embedding matrix using pretrained vectors\n",
    "\n",
    "if USE_CUDA:\n",
    "    model = model.cuda()\n",
    "    \n",
    "loss_function = nn.CrossEntropyLoss(weight=class_weights)\n",
    "optimizer = optim.Adam(model.parameters(), lr=LR)\n",
    "scheduler = optim.lr_scheduler.StepLR(optimizer, step_size=5, gamma=0.1)"
   ]
  },
  {
   "cell_type": "code",
   "execution_count": 194,
   "metadata": {},
   "outputs": [
    {
     "name": "stdout",
     "output_type": "stream",
     "text": [
      "CNNClassifier(\n",
      "  (embedding): Embedding(125761, 300)\n",
      "  (convs): ModuleList(\n",
      "    (0): Conv2d(1, 200, kernel_size=(3, 300), stride=(1, 1))\n",
      "    (1): Conv2d(1, 200, kernel_size=(4, 300), stride=(1, 1))\n",
      "    (2): Conv2d(1, 200, kernel_size=(5, 300), stride=(1, 1))\n",
      "    (3): Conv2d(1, 200, kernel_size=(6, 300), stride=(1, 1))\n",
      "  )\n",
      "  (dropout): Dropout(p=0.5)\n",
      "  (fc): Linear(in_features=800, out_features=3, bias=True)\n",
      ")\n"
     ]
    }
   ],
   "source": [
    "print(model)"
   ]
  },
  {
   "cell_type": "code",
   "execution_count": 195,
   "metadata": {},
   "outputs": [],
   "source": [
    "def train_model(train_data, model, loss_function, epoch):\n",
    "    '''\n",
    "    Trains the model for one epoch\n",
    "    '''\n",
    "    \n",
    "    model.train()\n",
    "    avg_loss = []\n",
    "    avg_train_acc = []\n",
    "    \n",
    "    for i, batch in enumerate(getBatch(BATCH_SIZE, train_data)):\n",
    "        inputs, targets = pad_to_batch(batch)\n",
    "        \n",
    "        model.zero_grad()\n",
    "        preds = model(inputs, True)\n",
    "        \n",
    "        loss = loss_function(preds, targets)\n",
    "        loss.backward()\n",
    "        \n",
    "        optimizer.step()\n",
    "        \n",
    "        train_acc = (sum(preds.max(1)[1] == targets).data.tolist() / BATCH_SIZE) * 100\n",
    "        \n",
    "        if i % 100 == 0:\n",
    "            print('TRAIN [Epoch : {}/{}][Batch: {}] Batch Train Loss: {}, Batch Train Accuracy: {}'.format(epoch, EPOCH, \n",
    "                                                                                                i, loss.data.tolist(),\n",
    "                                                                                                train_acc))\n",
    "    \n",
    "        avg_loss.append(loss.data.tolist())\n",
    "        avg_train_acc.append(train_acc)\n",
    "        \n",
    "    avg_loss = np.mean(avg_loss)\n",
    "    avg_train_acc = np.mean(avg_train_acc)\n",
    "\n",
    "    return avg_loss, avg_train_acc\n",
    "\n",
    "def validate(val_data, model, loss_function, epoch):\n",
    "    \n",
    "    model.eval()\n",
    "    avg_loss = []\n",
    "    avg_test_acc = []\n",
    "    \n",
    "    for i, batch in enumerate(getBatch(BATCH_SIZE, val_data)):\n",
    "        inputs, targets = pad_to_batch(batch)\n",
    "        \n",
    "        preds = model(inputs, False)\n",
    "        \n",
    "        loss = loss_function(preds, targets)\n",
    "        \n",
    "        test_acc = (sum(preds.max(1)[1] == targets).data.tolist() / BATCH_SIZE) * 100\n",
    "        \n",
    "        if i % 100 == 0:\n",
    "            print('VAL [Epoch : {}/{}][Batch: {}] Batch Test Loss: {}, Batch Test Accuracy: {}'.format(epoch, EPOCH, \n",
    "                                                                                                i, loss.data.tolist(),\n",
    "                                                                                                test_acc))\n",
    "    \n",
    "        avg_loss.append(loss.data.tolist())\n",
    "        avg_test_acc.append(test_acc)\n",
    "        \n",
    "    avg_loss = np.mean(avg_loss)\n",
    "    avg_test_acc = np.mean(avg_test_acc)\n",
    "\n",
    "    return avg_loss, avg_test_acc"
   ]
  },
  {
   "cell_type": "code",
   "execution_count": 196,
   "metadata": {},
   "outputs": [
    {
     "name": "stdout",
     "output_type": "stream",
     "text": [
      "<<<<<<<<<<<<<TRAINING>>>>>>>>>>>>\n",
      "TRAIN [Epoch : 0/6][Batch: 0] Batch Train Loss: 1.3155142068862915, Batch Train Accuracy: 26.5625\n",
      "TRAIN [Epoch : 0/6][Batch: 100] Batch Train Loss: 0.8969179391860962, Batch Train Accuracy: 62.5\n",
      "TRAIN [Epoch : 0/6][Batch: 200] Batch Train Loss: 0.692358136177063, Batch Train Accuracy: 67.1875\n",
      "TRAIN [Epoch : 0/6][Batch: 300] Batch Train Loss: 0.7301892638206482, Batch Train Accuracy: 73.4375\n",
      "TRAIN [Epoch : 0/6][Batch: 400] Batch Train Loss: 0.8985956311225891, Batch Train Accuracy: 50.0\n",
      "[TRAIN] EPOCH: 0, Loss: 1.0018670652138353, Accuracy: 63.477366255144034\n",
      "<<<<<<<<<<<<< VALIDATING >>>>>>>>>>>>\n",
      "VAL [Epoch : 0/6][Batch: 0] Batch Test Loss: 0.4785902500152588, Batch Test Accuracy: 85.9375\n",
      "VAL [Epoch : 0/6][Batch: 100] Batch Test Loss: 0.46435049176216125, Batch Test Accuracy: 85.9375\n",
      "[VAL] EPOCH: 0, Loss: 0.6103470337427692, Accuracy: 89.10108024691358\n",
      "<<<<<<<<<<<<<TRAINING>>>>>>>>>>>>\n",
      "TRAIN [Epoch : 1/6][Batch: 0] Batch Train Loss: 0.6092607378959656, Batch Train Accuracy: 85.9375\n",
      "TRAIN [Epoch : 1/6][Batch: 100] Batch Train Loss: 0.4471113681793213, Batch Train Accuracy: 84.375\n",
      "TRAIN [Epoch : 1/6][Batch: 200] Batch Train Loss: 1.0402886867523193, Batch Train Accuracy: 65.625\n",
      "TRAIN [Epoch : 1/6][Batch: 300] Batch Train Loss: 0.8736631870269775, Batch Train Accuracy: 85.9375\n",
      "TRAIN [Epoch : 1/6][Batch: 400] Batch Train Loss: 0.9131236672401428, Batch Train Accuracy: 60.9375\n",
      "[TRAIN] EPOCH: 1, Loss: 0.664351048139633, Accuracy: 77.44984567901234\n",
      "<<<<<<<<<<<<< VALIDATING >>>>>>>>>>>>\n",
      "VAL [Epoch : 1/6][Batch: 0] Batch Test Loss: 0.8932488560676575, Batch Test Accuracy: 78.125\n",
      "VAL [Epoch : 1/6][Batch: 100] Batch Test Loss: 0.3308688998222351, Batch Test Accuracy: 90.625\n",
      "[VAL] EPOCH: 1, Loss: 0.5546397608187463, Accuracy: 85.45524691358025\n",
      "<<<<<<<<<<<<<TRAINING>>>>>>>>>>>>\n",
      "TRAIN [Epoch : 2/6][Batch: 0] Batch Train Loss: 0.3228464126586914, Batch Train Accuracy: 89.0625\n",
      "TRAIN [Epoch : 2/6][Batch: 100] Batch Train Loss: 0.15985314548015594, Batch Train Accuracy: 92.1875\n",
      "TRAIN [Epoch : 2/6][Batch: 200] Batch Train Loss: 0.5113022327423096, Batch Train Accuracy: 92.1875\n",
      "TRAIN [Epoch : 2/6][Batch: 300] Batch Train Loss: 0.6903390884399414, Batch Train Accuracy: 78.125\n",
      "TRAIN [Epoch : 2/6][Batch: 400] Batch Train Loss: 1.5774226188659668, Batch Train Accuracy: 64.0625\n",
      "[TRAIN] EPOCH: 2, Loss: 0.508019198525559, Accuracy: 83.28832304526749\n",
      "<<<<<<<<<<<<< VALIDATING >>>>>>>>>>>>\n",
      "VAL [Epoch : 2/6][Batch: 0] Batch Test Loss: 0.4470078647136688, Batch Test Accuracy: 89.0625\n",
      "VAL [Epoch : 2/6][Batch: 100] Batch Test Loss: 0.683976411819458, Batch Test Accuracy: 76.5625\n",
      "[VAL] EPOCH: 2, Loss: 0.5367850175150383, Accuracy: 85.94714506172839\n",
      "<<<<<<<<<<<<<TRAINING>>>>>>>>>>>>\n",
      "TRAIN [Epoch : 3/6][Batch: 0] Batch Train Loss: 0.3241606652736664, Batch Train Accuracy: 84.375\n",
      "TRAIN [Epoch : 3/6][Batch: 100] Batch Train Loss: 0.799295961856842, Batch Train Accuracy: 81.25\n",
      "TRAIN [Epoch : 3/6][Batch: 200] Batch Train Loss: 0.24681496620178223, Batch Train Accuracy: 84.375\n",
      "TRAIN [Epoch : 3/6][Batch: 300] Batch Train Loss: 0.5253204703330994, Batch Train Accuracy: 89.0625\n",
      "TRAIN [Epoch : 3/6][Batch: 400] Batch Train Loss: 0.5795153975486755, Batch Train Accuracy: 82.8125\n",
      "[TRAIN] EPOCH: 3, Loss: 0.3400457942429087, Accuracy: 88.56738683127573\n",
      "<<<<<<<<<<<<< VALIDATING >>>>>>>>>>>>\n",
      "VAL [Epoch : 3/6][Batch: 0] Batch Test Loss: 0.2547832429409027, Batch Test Accuracy: 90.625\n",
      "VAL [Epoch : 3/6][Batch: 100] Batch Test Loss: 0.46107590198516846, Batch Test Accuracy: 84.375\n",
      "[VAL] EPOCH: 3, Loss: 0.5358493114695136, Accuracy: 87.39390432098766\n",
      "<<<<<<<<<<<<<TRAINING>>>>>>>>>>>>\n",
      "TRAIN [Epoch : 4/6][Batch: 0] Batch Train Loss: 0.16348305344581604, Batch Train Accuracy: 93.75\n",
      "TRAIN [Epoch : 4/6][Batch: 100] Batch Train Loss: 0.23305600881576538, Batch Train Accuracy: 93.75\n",
      "TRAIN [Epoch : 4/6][Batch: 200] Batch Train Loss: 0.11293881386518478, Batch Train Accuracy: 90.625\n",
      "TRAIN [Epoch : 4/6][Batch: 300] Batch Train Loss: 0.1820535659790039, Batch Train Accuracy: 95.3125\n",
      "TRAIN [Epoch : 4/6][Batch: 400] Batch Train Loss: 0.26009827852249146, Batch Train Accuracy: 82.8125\n",
      "[TRAIN] EPOCH: 4, Loss: 0.2519906235306342, Accuracy: 91.7502572016461\n",
      "<<<<<<<<<<<<< VALIDATING >>>>>>>>>>>>\n",
      "VAL [Epoch : 4/6][Batch: 0] Batch Test Loss: 0.3244079649448395, Batch Test Accuracy: 85.9375\n",
      "VAL [Epoch : 4/6][Batch: 100] Batch Test Loss: 0.6380525231361389, Batch Test Accuracy: 81.25\n",
      "[VAL] EPOCH: 4, Loss: 0.6328486246459278, Accuracy: 82.17592592592592\n",
      "<<<<<<<<<<<<<TRAINING>>>>>>>>>>>>\n",
      "TRAIN [Epoch : 5/6][Batch: 0] Batch Train Loss: 0.5216518640518188, Batch Train Accuracy: 87.5\n",
      "TRAIN [Epoch : 5/6][Batch: 100] Batch Train Loss: 0.1533217579126358, Batch Train Accuracy: 93.75\n",
      "TRAIN [Epoch : 5/6][Batch: 200] Batch Train Loss: 0.36366358399391174, Batch Train Accuracy: 84.375\n",
      "TRAIN [Epoch : 5/6][Batch: 300] Batch Train Loss: 0.088667131960392, Batch Train Accuracy: 92.1875\n",
      "TRAIN [Epoch : 5/6][Batch: 400] Batch Train Loss: 0.21790465712547302, Batch Train Accuracy: 96.875\n",
      "[TRAIN] EPOCH: 5, Loss: 0.1755106375857406, Accuracy: 93.89146090534979\n",
      "<<<<<<<<<<<<< VALIDATING >>>>>>>>>>>>\n",
      "VAL [Epoch : 5/6][Batch: 0] Batch Test Loss: 0.8445725440979004, Batch Test Accuracy: 89.0625\n",
      "VAL [Epoch : 5/6][Batch: 100] Batch Test Loss: 1.4183562994003296, Batch Test Accuracy: 89.0625\n",
      "[VAL] EPOCH: 5, Loss: 0.8457779721069483, Accuracy: 90.07523148148148\n"
     ]
    }
   ],
   "source": [
    "train_loss, train_acc, val_loss, val_acc = [], [], [], []\n",
    "for epoch in range(EPOCH):\n",
    "    \n",
    "#     scheduler.step()\n",
    "    \n",
    "    print('<<<<<<<<<<<<<TRAINING>>>>>>>>>>>>')\n",
    "    epoch_train_loss, epoch_train_acc = train_model(train_data, model, loss_function, epoch)\n",
    "    print('[TRAIN] EPOCH: {}, Loss: {}, Accuracy: {}'.format(epoch, epoch_train_loss, epoch_train_acc))\n",
    "    train_loss.append(epoch_train_loss)\n",
    "    train_acc.append(epoch_train_acc)\n",
    "    \n",
    "    print('<<<<<<<<<<<<< VALIDATING >>>>>>>>>>>>')\n",
    "    epoch_val_loss, epoch_val_acc = validate(val_data, model, loss_function, epoch)\n",
    "    print('[VAL] EPOCH: {}, Loss: {}, Accuracy: {}'.format(epoch, epoch_val_loss, epoch_val_acc))    \n",
    "    val_loss.append(epoch_val_loss)\n",
    "    val_acc.append(epoch_val_acc)"
   ]
  },
  {
   "cell_type": "markdown",
   "metadata": {},
   "source": [
    "### Make loss and accuracy plots"
   ]
  },
  {
   "cell_type": "code",
   "execution_count": 197,
   "metadata": {},
   "outputs": [
    {
     "data": {
      "image/png": "[encoded data removed]",
      "text/plain": [
       "<matplotlib.figure.Figure at 0x7fc024e01c18>"
      ]
     },
     "metadata": {},
     "output_type": "display_data"
    }
   ],
   "source": [
    "# Accuracy\n",
    "epochs = range(1, EPOCH + 1)\n",
    "\n",
    "plt.figure(figsize=(16, 9))\n",
    "plt.plot(epochs, train_acc, 'r', label='Training acc')\n",
    "plt.plot(epochs, val_acc, 'b', label='Validation acc')\n",
    "plt.title('Training and validation accuracy')\n",
    "plt.legend()\n",
    "\n",
    "plt.show()"
   ]
  },
  {
   "cell_type": "code",
   "execution_count": 198,
   "metadata": {},
   "outputs": [
    {
     "data": {
      "image/png": "[encoded data removed]",
      "text/plain": [
       "<matplotlib.figure.Figure at 0x7fc0120c8cc0>"
      ]
     },
     "metadata": {},
     "output_type": "display_data"
    }
   ],
   "source": [
    "# Loss\n",
    "\n",
    "plt.figure(figsize=(16, 9))\n",
    "plt.plot(epochs, train_loss, 'r', label='Training loss')\n",
    "plt.plot(epochs, val_loss, 'b', label='Validation loss')\n",
    "plt.title('Training and validation loss')\n",
    "plt.legend()\n",
    "\n",
    "plt.show()"
   ]
  },
  {
   "cell_type": "markdown",
   "metadata": {},
   "source": [
    "## Evaluate on validation set"
   ]
  },
  {
   "cell_type": "code",
   "execution_count": 199,
   "metadata": {},
   "outputs": [
    {
     "name": "stdout",
     "output_type": "stream",
     "text": [
      "90.15173480235818\n"
     ]
    }
   ],
   "source": [
    "accuracy = 0\n",
    "\n",
    "for test in val_data:\n",
    "    pred = model(test[0], False).max(1)[1]\n",
    "    pred = pred.data.tolist()[0]\n",
    "    target = test[1].data.tolist()[0][0]\n",
    "    if pred == target:\n",
    "        accuracy += 1\n",
    "\n",
    "print(accuracy/len(val_data) * 100)"
   ]
  },
  {
   "cell_type": "markdown",
   "metadata": {},
   "source": [
    "### Make nice plots"
   ]
  },
  {
   "cell_type": "code",
   "execution_count": 200,
   "metadata": {},
   "outputs": [],
   "source": [
    "if 'Y_VAL' in locals():\n",
    "    del Y_VAL, Y_VAL_PREDS\n",
    "    \n",
    "for data in getBatch(50, val_data):\n",
    "    inputs, targets = pad_to_batch(data)\n",
    "\n",
    "    y_val_pred = model(inputs, False)\n",
    "    preds = y_val_pred.max(1)[1]\n",
    "    \n",
    "    if 'Y_VAL' in locals():\n",
    "        Y_VAL = torch.cat((Y_VAL, targets), 0)\n",
    "        Y_VAL_PREDS = torch.cat((Y_VAL_PREDS, preds), 0)\n",
    "    else:\n",
    "        Y_VAL = targets\n",
    "        Y_VAL_PREDS = preds"
   ]
  },
  {
   "cell_type": "code",
   "execution_count": 201,
   "metadata": {},
   "outputs": [],
   "source": [
    "from sklearn.metrics import confusion_matrix"
   ]
  },
  {
   "cell_type": "code",
   "execution_count": 202,
   "metadata": {},
   "outputs": [],
   "source": [
    "conf_mat = confusion_matrix(Y_VAL, Y_VAL_PREDS, labels = [0, 1, 2])"
   ]
  },
  {
   "cell_type": "code",
   "execution_count": 203,
   "metadata": {},
   "outputs": [],
   "source": [
    "# funtion to plot confusion matrices, will be needed later\n",
    "\n",
    "def plot_confusion_matrix(cm, classes,\n",
    "                          normalize=False,\n",
    "                          title='Confusion matrix',\n",
    "                          cmap=plt.cm.Blues):\n",
    "    \"\"\"\n",
    "    This function prints and plots the confusion matrix.\n",
    "    Normalization can be applied by setting `normalize=True`.\n",
    "    \"\"\"\n",
    "    if normalize:\n",
    "        cm = cm.astype('float') / cm.sum(axis=1)[:, np.newaxis]\n",
    "        print(\"Normalized confusion matrix\")\n",
    "        plt.imshow(cm, interpolation='nearest', cmap=cmap, vmin=0, vmax=1)\n",
    "    else:\n",
    "        print('Confusion matrix, without normalization')\n",
    "        plt.imshow(cm, interpolation='nearest', cmap=cmap)\n",
    "\n",
    "    print(cm)\n",
    "    \n",
    "    \n",
    "    plt.title(title)\n",
    "    plt.colorbar( )\n",
    "    tick_marks = np.arange(len(classes))\n",
    "    plt.xticks(tick_marks, classes, rotation=45)\n",
    "    plt.yticks(tick_marks, classes)\n",
    "\n",
    "    fmt = '.2f' if normalize else 'd'\n",
    "    thresh = cm.max() / 2.\n",
    "    for i, j in itertools.product(range(cm.shape[0]), range(cm.shape[1])):\n",
    "        plt.text(j, i, format(cm[i, j], fmt),\n",
    "                 horizontalalignment=\"center\",\n",
    "                 color=\"white\" if cm[i, j] > thresh else \"black\")\n",
    "\n",
    "    plt.tight_layout()\n",
    "    plt.ylabel('True label')\n",
    "    plt.xlabel('Predicted label')"
   ]
  },
  {
   "cell_type": "code",
   "execution_count": 204,
   "metadata": {},
   "outputs": [
    {
     "name": "stdout",
     "output_type": "stream",
     "text": [
      "Normalized confusion matrix\n",
      "[[0.93904368 0.04489597 0.01606035]\n",
      " [0.27131783 0.61111111 0.11757106]\n",
      " [0.07163959 0.08050222 0.8478582 ]]\n"
     ]
    },
    {
     "data": {
      "image/png": "[encoded data removed]",
      "text/plain": [
       "<matplotlib.figure.Figure at 0x7fc013ec7ac8>"
      ]
     },
     "metadata": {},
     "output_type": "display_data"
    }
   ],
   "source": [
    "plt.figure()\n",
    "plot_confusion_matrix(conf_mat, ['Rejected', 'Non-Core', 'Core'], normalize=True)\n",
    "plt.show()"
   ]
  }
 ],
 "metadata": {
  "kernelspec": {
   "display_name": "Python 2",
   "language": "python",
   "name": "python2"
  },
  "language_info": {
   "codemirror_mode": {
    "name": "ipython",
    "version": 3
   },
   "file_extension": ".py",
   "mimetype": "text/x-python",
   "name": "python",
   "nbconvert_exporter": "python",
   "pygments_lexer": "ipython3",
   "version": "3.5.2"
  }
 },
 "nbformat": 4,
 "nbformat_minor": 2
}
