{
 "cells": [
  {
   "cell_type": "code",
   "execution_count": 1,
   "metadata": {},
   "outputs": [],
   "source": [
    "import torch\n",
    "import torch.nn as nn\n",
    "from torch.autograd import Variable\n",
    "import torch.optim as optim\n",
    "import torch.nn.functional as F\n",
    "import nltk\n",
    "import random\n",
    "import numpy as np\n",
    "import pandas as pd\n",
    "from collections import Counter, OrderedDict\n",
    "import nltk\n",
    "import re\n",
    "from copy import deepcopy\n",
    "flatten = lambda l: [item for sublist in l for item in sublist]\n",
    "random.seed(1024)"
   ]
  },
  {
   "cell_type": "code",
   "execution_count": 2,
   "metadata": {},
   "outputs": [],
   "source": [
    "USE_CUDA = torch.cuda.is_available()\n",
    "gpus = [0]\n",
    "torch.cuda.set_device(gpus[0])\n",
    "\n",
    "FloatTensor = torch.cuda.FloatTensor if USE_CUDA else torch.FloatTensor\n",
    "LongTensor = torch.cuda.LongTensor if USE_CUDA else torch.LongTensor\n",
    "ByteTensor = torch.cuda.ByteTensor if USE_CUDA else torch.ByteTensor"
   ]
  },
  {
   "cell_type": "code",
   "execution_count": 3,
   "metadata": {},
   "outputs": [],
   "source": [
    "def getBatch(batch_size, train_data):\n",
    "    random.shuffle(train_data)\n",
    "    sindex = 0\n",
    "    eindex = batch_size\n",
    "    while eindex < len(train_data):\n",
    "        batch = train_data[sindex: eindex]\n",
    "        temp = eindex\n",
    "        eindex = eindex + batch_size\n",
    "        sindex = temp\n",
    "        yield batch\n",
    "    \n",
    "    if eindex >= len(train_data):\n",
    "        batch = train_data[sindex:]\n",
    "        yield batch"
   ]
  },
  {
   "cell_type": "code",
   "execution_count": 4,
   "metadata": {},
   "outputs": [],
   "source": [
    "def pad_to_batch(batch):\n",
    "    x,y = zip(*batch)\n",
    "    max_x = max([s.size(1) for s in x])\n",
    "    x_p = []\n",
    "    for i in range(len(batch)):\n",
    "        if x[i].size(1) < max_x:\n",
    "            x_p.append(torch.cat([x[i], Variable(LongTensor([word2index['<PAD>']] * (max_x - x[i].size(1)))).view(1, -1)], 1))\n",
    "        else:\n",
    "            x_p.append(x[i])\n",
    "    return torch.cat(x_p), torch.cat(y).view(-1)"
   ]
  },
  {
   "cell_type": "code",
   "execution_count": 5,
   "metadata": {},
   "outputs": [],
   "source": [
    "def prepare_sequence(seq, to_index):\n",
    "    idxs = list(map(lambda w: to_index[w] if to_index.get(w) is not None else to_index[\"<UNK>\"], seq))\n",
    "    return Variable(LongTensor(idxs))"
   ]
  },
  {
   "cell_type": "markdown",
   "metadata": {},
   "source": [
    "## Data Loading and Pre-processing"
   ]
  },
  {
   "cell_type": "code",
   "execution_count": 6,
   "metadata": {},
   "outputs": [],
   "source": [
    "data = pd.read_pickle('data/INSPIREpy2.df')\n",
    "\n",
    "data = data.reindex(np.random.permutation(data.index))\n",
    "data = data.reset_index(drop=True)\n",
    "\n",
    "training_samples = 3 * len(data) // 5\n",
    "validation_samples = len(data) // 5"
   ]
  },
  {
   "cell_type": "code",
   "execution_count": 7,
   "metadata": {},
   "outputs": [],
   "source": [
    "X = list(data['texts'])\n",
    "y = list(data['coreness'])"
   ]
  },
  {
   "cell_type": "markdown",
   "metadata": {},
   "source": [
    "#### Num Masking"
   ]
  },
  {
   "cell_type": "code",
   "execution_count": 8,
   "metadata": {},
   "outputs": [],
   "source": [
    "for i, x in enumerate(X):\n",
    "    X[i] = re.sub('\\d', '#', x).split()"
   ]
  },
  {
   "cell_type": "markdown",
   "metadata": {},
   "source": [
    "#### Build vocabulary"
   ]
  },
  {
   "cell_type": "code",
   "execution_count": 9,
   "metadata": {},
   "outputs": [
    {
     "name": "stdout",
     "output_type": "stream",
     "text": [
      "314551\n"
     ]
    }
   ],
   "source": [
    "vocab = list(set(flatten(X)))\n",
    "print(len(vocab))"
   ]
  },
  {
   "cell_type": "code",
   "execution_count": 12,
   "metadata": {},
   "outputs": [
    {
     "name": "stdout",
     "output_type": "stream",
     "text": [
      "3\n"
     ]
    }
   ],
   "source": [
    "print(len(set(y))) # Number of classes"
   ]
  },
  {
   "cell_type": "code",
   "execution_count": 13,
   "metadata": {},
   "outputs": [],
   "source": [
    "word2index={'<PAD>': 0, '<UNK>': 1}\n",
    "\n",
    "for vo in vocab:\n",
    "    if word2index.get(vo) is None:\n",
    "        word2index[vo] = len(word2index)\n",
    "        \n",
    "index2word = {v:k for k, v in word2index.items()}\n",
    "\n",
    "target2index = {}\n",
    "\n",
    "for cl in set(y):\n",
    "    if target2index.get(cl) is None:\n",
    "        target2index[cl] = len(target2index)\n",
    "\n",
    "index2target = {v:k for k, v in target2index.items()}"
   ]
  },
  {
   "cell_type": "code",
   "execution_count": 14,
   "metadata": {},
   "outputs": [],
   "source": [
    "X_p, y_p = [], []\n",
    "for pair in zip(X,y):\n",
    "    X_p.append(prepare_sequence(pair[0], word2index).view(1, -1))\n",
    "    y_p.append(Variable(LongTensor([target2index[pair[1]]])).view(1, -1))\n",
    "    \n",
    "data_p = list(zip(X_p, y_p))\n",
    "random.shuffle(data_p)\n",
    "\n",
    "train_data = data_p[: int(len(data_p) * 0.6)]\n",
    "val_data = data_p[int(len(data_p) * 0.6):int(len(data_p) * 0.8)]\n",
    "test_data = data_p[int(len(data_p) * 0.8):]"
   ]
  },
  {
   "cell_type": "markdown",
   "metadata": {},
   "source": [
    "#### Load pre-trained Word Vectors"
   ]
  },
  {
   "cell_type": "code",
   "execution_count": 15,
   "metadata": {},
   "outputs": [],
   "source": [
    "import gensim"
   ]
  },
  {
   "cell_type": "code",
   "execution_count": 16,
   "metadata": {},
   "outputs": [],
   "source": [
    "model = gensim.models.KeyedVectors.load_word2vec_format('data/word2vec_pretrained/GoogleNews-vectors-negative300.bin', binary=True)"
   ]
  },
  {
   "cell_type": "code",
   "execution_count": 17,
   "metadata": {},
   "outputs": [
    {
     "data": {
      "text/plain": [
       "3000000"
      ]
     },
     "execution_count": 17,
     "metadata": {},
     "output_type": "execute_result"
    }
   ],
   "source": [
    "len(model.index2word)"
   ]
  },
  {
   "cell_type": "code",
   "execution_count": 18,
   "metadata": {},
   "outputs": [],
   "source": [
    "pretrained = []\n",
    "\n",
    "for key in word2index.keys():\n",
    "    try:\n",
    "        pretrained.append(model[word2index[key]])\n",
    "    except:\n",
    "        pretrained.append(np.random.randn(300))\n",
    "        \n",
    "pretrained_vectors = np.vstack(pretrained)"
   ]
  },
  {
   "cell_type": "markdown",
   "metadata": {},
   "source": [
    "### CNN Model Definition"
   ]
  },
  {
   "cell_type": "code",
   "execution_count": 19,
   "metadata": {},
   "outputs": [],
   "source": [
    "class  CNNClassifier(nn.Module):\n",
    "    \n",
    "    def __init__(self, vocab_size, embedding_dim, output_size, kernel_dim=100, kernel_sizes=(3, 4, 5), dropout=0.5):\n",
    "        super(CNNClassifier,self).__init__()\n",
    "\n",
    "        self.embedding = nn.Embedding(vocab_size, embedding_dim)\n",
    "        self.convs = nn.ModuleList([nn.Conv2d(1, kernel_dim, (K, embedding_dim)) for K in kernel_sizes])\n",
    "\n",
    "        # kernal_size = (K,D) \n",
    "        self.dropout = nn.Dropout(dropout)\n",
    "        self.fc = nn.Linear(len(kernel_sizes) * kernel_dim, output_size)\n",
    "    \n",
    "    \n",
    "    def init_weights(self, pretrained_word_vectors, is_static=False):\n",
    "        self.embedding.weight = nn.Parameter(torch.from_numpy(pretrained_word_vectors).float())\n",
    "        if is_static:\n",
    "            self.embedding.weight.requires_grad = False\n",
    "\n",
    "\n",
    "    def forward(self, inputs, is_training=False):\n",
    "        inputs = self.embedding(inputs).unsqueeze(1) # (B,1,T,D)\n",
    "        inputs = [F.relu(conv(inputs)).squeeze(3) for conv in self.convs] #[(N,Co,W), ...]*len(Ks)\n",
    "        inputs = [F.max_pool1d(i, i.size(2)).squeeze(2) for i in inputs] #[(N,Co), ...]*len(Ks)\n",
    "\n",
    "        concated = torch.cat(inputs, 1)\n",
    "\n",
    "        if is_training:\n",
    "            concated = self.dropout(concated) # (N,len(Ks)*Co)\n",
    "        out = self.fc(concated) \n",
    "        return F.log_softmax(out,1)"
   ]
  },
  {
   "cell_type": "markdown",
   "metadata": {},
   "source": [
    "## Train"
   ]
  },
  {
   "cell_type": "code",
   "execution_count": 20,
   "metadata": {},
   "outputs": [],
   "source": [
    "EPOCH = 6\n",
    "BATCH_SIZE = 128\n",
    "KERNEL_SIZES = [3,4,5]\n",
    "KERNEL_DIM = 100\n",
    "LR = 0.001"
   ]
  },
  {
   "cell_type": "code",
   "execution_count": 21,
   "metadata": {},
   "outputs": [],
   "source": [
    "model = CNNClassifier(len(word2index), 300, len(target2index), KERNEL_DIM, KERNEL_SIZES)\n",
    "model.init_weights(pretrained_vectors) # initialize embedding matrix using pretrained vectors\n",
    "\n",
    "if USE_CUDA:\n",
    "    model = model.cuda()\n",
    "    \n",
    "loss_function = nn.CrossEntropyLoss()\n",
    "optimizer = optim.Adam(model.parameters(), lr=LR)"
   ]
  },
  {
   "cell_type": "code",
   "execution_count": 22,
   "metadata": {},
   "outputs": [
    {
     "name": "stdout",
     "output_type": "stream",
     "text": [
      "CNNClassifier(\n",
      "  (embedding): Embedding(314553, 300)\n",
      "  (convs): ModuleList(\n",
      "    (0): Conv2d(1, 100, kernel_size=(3, 300), stride=(1, 1))\n",
      "    (1): Conv2d(1, 100, kernel_size=(4, 300), stride=(1, 1))\n",
      "    (2): Conv2d(1, 100, kernel_size=(5, 300), stride=(1, 1))\n",
      "  )\n",
      "  (dropout): Dropout(p=0.5)\n",
      "  (fc): Linear(in_features=300, out_features=3, bias=True)\n",
      ")\n"
     ]
    }
   ],
   "source": [
    "print(model)"
   ]
  },
  {
   "cell_type": "code",
   "execution_count": 23,
   "metadata": {},
   "outputs": [],
   "source": [
    "def train_model(train_data, model, loss_function, epoch):\n",
    "    '''\n",
    "    Trains the model for one epoch\n",
    "    '''\n",
    "    \n",
    "    model.train()\n",
    "    avg_loss = []\n",
    "    avg_train_acc = []\n",
    "    \n",
    "    for i, batch in enumerate(getBatch(BATCH_SIZE, train_data)):\n",
    "        inputs, targets = pad_to_batch(batch)\n",
    "        \n",
    "        model.zero_grad()\n",
    "        preds = model(inputs, True)\n",
    "        \n",
    "        loss = loss_function(preds, targets)\n",
    "        loss.backward()\n",
    "        \n",
    "        optimizer.step()\n",
    "        \n",
    "        train_acc = (sum(preds.max(1)[1] == targets).data.tolist() / BATCH_SIZE) * 100\n",
    "        \n",
    "        if i % 100 == 0:\n",
    "            print('TRAIN [Epoch : {}/{}][Batch: {}] Batch Train Loss: {}, Batch Train Accuracy: {}'.format(epoch, EPOCH, \n",
    "                                                                                                i, loss.data.tolist(),\n",
    "                                                                                                train_acc))\n",
    "    \n",
    "        avg_loss.append(loss.data.tolist())\n",
    "        avg_train_acc.append(train_acc)\n",
    "        \n",
    "    avg_loss = np.mean(avg_loss)\n",
    "    avg_train_acc = np.mean(avg_train_acc)\n",
    "\n",
    "    return avg_loss, avg_train_acc\n",
    "\n",
    "def validate(val_data, model, loss_function, epoch):\n",
    "    \n",
    "    model.eval()\n",
    "    avg_loss = []\n",
    "    avg_test_acc = []\n",
    "    \n",
    "    for i, batch in enumerate(getBatch(BATCH_SIZE, val_data)):\n",
    "        inputs, targets = pad_to_batch(batch)\n",
    "        \n",
    "        preds = model(inputs, False)\n",
    "        \n",
    "        loss = loss_function(preds, targets)\n",
    "        \n",
    "        test_acc = (sum(preds.max(1)[1] == targets).data.tolist() / BATCH_SIZE) * 100\n",
    "        \n",
    "        if i % 100 == 0:\n",
    "            print('VAL [Epoch : {}/{}][Batch: {}] Batch Test Loss: {}, Batch Test Accuracy: {}'.format(epoch, EPOCH, \n",
    "                                                                                                i, loss.data.tolist(),\n",
    "                                                                                                test_acc))\n",
    "    \n",
    "        avg_loss.append(loss.data.tolist())\n",
    "        avg_test_acc.append(test_acc)\n",
    "        \n",
    "    avg_loss = np.mean(avg_loss)\n",
    "    avg_test_acc = np.mean(avg_test_acc)\n",
    "\n",
    "    return avg_loss, avg_test_acc"
   ]
  },
  {
   "cell_type": "code",
   "execution_count": 24,
   "metadata": {},
   "outputs": [
    {
     "name": "stdout",
     "output_type": "stream",
     "text": [
      "<<<<<<<<<<<<<TRAINING>>>>>>>>>>>>\n",
      "TRAIN [Epoch : 0/6][Batch: 0] Batch Train Loss: 1.289144515991211, Batch Train Accuracy: 33.59375\n",
      "TRAIN [Epoch : 0/6][Batch: 100] Batch Train Loss: 0.5754510760307312, Batch Train Accuracy: 80.46875\n",
      "TRAIN [Epoch : 0/6][Batch: 200] Batch Train Loss: 0.5239036083221436, Batch Train Accuracy: 82.8125\n",
      "[TRAIN] EPOCH: 0, Loss: 0.5628544961719356, Accuracy: 81.09567901234568\n",
      "<<<<<<<<<<<<< VALIDATING >>>>>>>>>>>>\n",
      "VAL [Epoch : 0/6][Batch: 0] Batch Test Loss: 0.5170609354972839, Batch Test Accuracy: 83.59375\n",
      "[VAL] EPOCH: 0, Loss: 0.36670158748273496, Accuracy: 86.76697530864197\n",
      "<<<<<<<<<<<<<TRAINING>>>>>>>>>>>>\n",
      "TRAIN [Epoch : 1/6][Batch: 0] Batch Train Loss: 0.4112106263637543, Batch Train Accuracy: 86.71875\n",
      "TRAIN [Epoch : 1/6][Batch: 100] Batch Train Loss: 0.3799552321434021, Batch Train Accuracy: 83.59375\n",
      "TRAIN [Epoch : 1/6][Batch: 200] Batch Train Loss: 0.24571770429611206, Batch Train Accuracy: 92.96875\n",
      "[TRAIN] EPOCH: 1, Loss: 0.35793719020645315, Accuracy: 87.72183641975309\n",
      "<<<<<<<<<<<<< VALIDATING >>>>>>>>>>>>\n",
      "VAL [Epoch : 1/6][Batch: 0] Batch Test Loss: 0.25714540481567383, Batch Test Accuracy: 91.40625\n",
      "[VAL] EPOCH: 1, Loss: 0.2864589759229142, Accuracy: 90.04629629629629\n",
      "<<<<<<<<<<<<<TRAINING>>>>>>>>>>>>\n",
      "TRAIN [Epoch : 2/6][Batch: 0] Batch Train Loss: 0.33248794078826904, Batch Train Accuracy: 89.0625\n",
      "TRAIN [Epoch : 2/6][Batch: 100] Batch Train Loss: 0.2739756405353546, Batch Train Accuracy: 91.40625\n",
      "TRAIN [Epoch : 2/6][Batch: 200] Batch Train Loss: 0.22073547542095184, Batch Train Accuracy: 93.75\n",
      "[TRAIN] EPOCH: 2, Loss: 0.273289557316421, Accuracy: 90.33243312757202\n",
      "<<<<<<<<<<<<< VALIDATING >>>>>>>>>>>>\n",
      "VAL [Epoch : 2/6][Batch: 0] Batch Test Loss: 0.2763839066028595, Batch Test Accuracy: 90.625\n",
      "[VAL] EPOCH: 2, Loss: 0.26672782758135855, Accuracy: 90.84683641975309\n",
      "<<<<<<<<<<<<<TRAINING>>>>>>>>>>>>\n",
      "TRAIN [Epoch : 3/6][Batch: 0] Batch Train Loss: 0.1873689442873001, Batch Train Accuracy: 92.96875\n",
      "TRAIN [Epoch : 3/6][Batch: 100] Batch Train Loss: 0.22395005822181702, Batch Train Accuracy: 91.40625\n",
      "TRAIN [Epoch : 3/6][Batch: 200] Batch Train Loss: 0.2224760204553604, Batch Train Accuracy: 94.53125\n",
      "[TRAIN] EPOCH: 3, Loss: 0.2102524260127986, Accuracy: 92.42862654320987\n",
      "<<<<<<<<<<<<< VALIDATING >>>>>>>>>>>>\n",
      "VAL [Epoch : 3/6][Batch: 0] Batch Test Loss: 0.32338887453079224, Batch Test Accuracy: 90.625\n",
      "[VAL] EPOCH: 3, Loss: 0.2757311871758214, Accuracy: 91.0011574074074\n",
      "<<<<<<<<<<<<<TRAINING>>>>>>>>>>>>\n",
      "TRAIN [Epoch : 4/6][Batch: 0] Batch Train Loss: 0.10373661667108536, Batch Train Accuracy: 96.875\n",
      "TRAIN [Epoch : 4/6][Batch: 100] Batch Train Loss: 0.16853168606758118, Batch Train Accuracy: 94.53125\n",
      "TRAIN [Epoch : 4/6][Batch: 200] Batch Train Loss: 0.1122184544801712, Batch Train Accuracy: 98.4375\n",
      "[TRAIN] EPOCH: 4, Loss: 0.15508645181180028, Accuracy: 94.21296296296296\n",
      "<<<<<<<<<<<<< VALIDATING >>>>>>>>>>>>\n",
      "VAL [Epoch : 4/6][Batch: 0] Batch Test Loss: 0.41069045662879944, Batch Test Accuracy: 91.40625\n",
      "[VAL] EPOCH: 4, Loss: 0.2623232500052746, Accuracy: 91.46412037037037\n",
      "<<<<<<<<<<<<<TRAINING>>>>>>>>>>>>\n",
      "TRAIN [Epoch : 5/6][Batch: 0] Batch Train Loss: 0.03212414309382439, Batch Train Accuracy: 100.0\n",
      "TRAIN [Epoch : 5/6][Batch: 100] Batch Train Loss: 0.1384126991033554, Batch Train Accuracy: 96.09375\n",
      "TRAIN [Epoch : 5/6][Batch: 200] Batch Train Loss: 0.12739083170890808, Batch Train Accuracy: 96.875\n",
      "[TRAIN] EPOCH: 5, Loss: 0.1051284175504137, Accuracy: 96.02944958847736\n",
      "<<<<<<<<<<<<< VALIDATING >>>>>>>>>>>>\n",
      "VAL [Epoch : 5/6][Batch: 0] Batch Test Loss: 0.3289732336997986, Batch Test Accuracy: 89.0625\n",
      "[VAL] EPOCH: 5, Loss: 0.2855840845976347, Accuracy: 91.42554012345678\n"
     ]
    }
   ],
   "source": [
    "for epoch in range(EPOCH):\n",
    "    \n",
    "    print('<<<<<<<<<<<<<TRAINING>>>>>>>>>>>>')\n",
    "    epoch_train_loss, epoch_train_acc = train_model(train_data, model, loss_function, epoch)\n",
    "    print('[TRAIN] EPOCH: {}, Loss: {}, Accuracy: {}'.format(epoch, epoch_train_loss, epoch_train_acc))\n",
    "    \n",
    "    \n",
    "    print('<<<<<<<<<<<<< VALIDATING >>>>>>>>>>>>')\n",
    "    epoch_val_loss, epoch_val_acc = validate(val_data, model, loss_function, epoch)\n",
    "    print('[VAL] EPOCH: {}, Loss: {}, Accuracy: {}'.format(epoch, epoch_val_loss, epoch_val_acc))    "
   ]
  },
  {
   "cell_type": "markdown",
   "metadata": {},
   "source": [
    "## Test"
   ]
  },
  {
   "cell_type": "code",
   "execution_count": 25,
   "metadata": {},
   "outputs": [
    {
     "name": "stdout",
     "output_type": "stream",
     "text": [
      "91.20603015075378\n"
     ]
    }
   ],
   "source": [
    "accuracy = 0\n",
    "\n",
    "for test in test_data:\n",
    "    pred = model(test[0]).max(1)[1]\n",
    "    pred = pred.data.tolist()[0]\n",
    "    target = test[1].data.tolist()[0][0]\n",
    "    if pred == target:\n",
    "        accuracy += 1\n",
    "\n",
    "print(accuracy/len(test_data) * 100)"
   ]
  },
  {
   "cell_type": "markdown",
   "metadata": {},
   "source": [
    "### Make nice plots"
   ]
  },
  {
   "cell_type": "code",
   "execution_count": 26,
   "metadata": {},
   "outputs": [],
   "source": [
    "if 'Y_TEST' in locals():\n",
    "    del Y_TEST, Y_TEST_PREDS\n",
    "    \n",
    "for data in getBatch(50, test_data):\n",
    "    inputs, targets = pad_to_batch(data)\n",
    "\n",
    "    y_test_pred = model(inputs, False)\n",
    "    preds = y_test_pred.max(1)[1]\n",
    "    \n",
    "    if 'Y_TEST' in locals():\n",
    "        Y_TEST = torch.cat((Y_TEST, targets), 0)\n",
    "        Y_TEST_PREDS = torch.cat((Y_TEST_PREDS, preds), 0)\n",
    "    else:\n",
    "        Y_TEST = targets\n",
    "        Y_TEST_PREDS = preds"
   ]
  },
  {
   "cell_type": "code",
   "execution_count": 27,
   "metadata": {},
   "outputs": [],
   "source": [
    "from sklearn.metrics import confusion_matrix"
   ]
  },
  {
   "cell_type": "code",
   "execution_count": 28,
   "metadata": {},
   "outputs": [],
   "source": [
    "conf_mat = confusion_matrix(Y_TEST, Y_TEST_PREDS, labels = [0, 1, 2])"
   ]
  },
  {
   "cell_type": "code",
   "execution_count": 29,
   "metadata": {},
   "outputs": [],
   "source": [
    "# funtion to plot confusion matrices, will be needed later\n",
    "import matplotlib.pyplot as plt\n",
    "import itertools\n",
    "def plot_confusion_matrix(cm, classes,\n",
    "                          normalize=False,\n",
    "                          title='Confusion matrix',\n",
    "                          cmap=plt.cm.Blues):\n",
    "    \"\"\"\n",
    "    This function prints and plots the confusion matrix.\n",
    "    Normalization can be applied by setting `normalize=True`.\n",
    "    \"\"\"\n",
    "    if normalize:\n",
    "        cm = cm.astype('float') / cm.sum(axis=1)[:, np.newaxis]\n",
    "        print(\"Normalized confusion matrix\")\n",
    "        plt.imshow(cm, interpolation='nearest', cmap=cmap, vmin=0, vmax=1)\n",
    "    else:\n",
    "        print('Confusion matrix, without normalization')\n",
    "        plt.imshow(cm, interpolation='nearest', cmap=cmap)\n",
    "\n",
    "    print(cm)\n",
    "    \n",
    "    \n",
    "    plt.title(title)\n",
    "    plt.colorbar( )\n",
    "    tick_marks = np.arange(len(classes))\n",
    "    plt.xticks(tick_marks, classes, rotation=45)\n",
    "    plt.yticks(tick_marks, classes)\n",
    "\n",
    "    fmt = '.2f' if normalize else 'd'\n",
    "    thresh = cm.max() / 2.\n",
    "    for i, j in itertools.product(range(cm.shape[0]), range(cm.shape[1])):\n",
    "        plt.text(j, i, format(cm[i, j], fmt),\n",
    "                 horizontalalignment=\"center\",\n",
    "                 color=\"white\" if cm[i, j] > thresh else \"black\")\n",
    "\n",
    "    plt.tight_layout()\n",
    "    plt.ylabel('True label')\n",
    "    plt.xlabel('Predicted label')"
   ]
  },
  {
   "cell_type": "code",
   "execution_count": 30,
   "metadata": {},
   "outputs": [
    {
     "name": "stdout",
     "output_type": "stream",
     "text": [
      "Normalized confusion matrix\n",
      "[[0.98156625 0.01410367 0.00433008]\n",
      " [0.44862155 0.4160401  0.13533835]\n",
      " [0.1261077  0.07157464 0.80231766]]\n"
     ]
    },
    {
     "data": {
      "image/png": "[encoded data removed]",
      "text/plain": [
       "<matplotlib.figure.Figure at 0x7efae22d03c8>"
      ]
     },
     "metadata": {},
     "output_type": "display_data"
    }
   ],
   "source": [
    "plt.figure()\n",
    "plot_confusion_matrix(conf_mat, ['Rejected', 'Non-Core', 'Core'], normalize=True)\n",
    "plt.show()"
   ]
  },
  {
   "cell_type": "code",
   "execution_count": null,
   "metadata": {},
   "outputs": [],
   "source": []
  }
 ],
 "metadata": {
  "kernelspec": {
   "display_name": "Python 3",
   "language": "python",
   "name": "python3"
  },
  "language_info": {
   "codemirror_mode": {
    "name": "ipython",
    "version": 3
   },
   "file_extension": ".py",
   "mimetype": "text/x-python",
   "name": "python",
   "nbconvert_exporter": "python",
   "pygments_lexer": "ipython3",
   "version": "3.5.2"
  }
 },
 "nbformat": 4,
 "nbformat_minor": 2
}
