{
 "cells": [
  {
   "cell_type": "code",
   "execution_count": 1,
   "metadata": {},
   "outputs": [],
   "source": [
    "import torch\n",
    "import torch.nn as nn\n",
    "from torch.autograd import Variable\n",
    "import torch.optim as optim\n",
    "import torch.nn.functional as F\n",
    "import nltk\n",
    "import random\n",
    "import numpy as np\n",
    "from collections import Counter, OrderedDict\n",
    "import nltk\n",
    "import re\n",
    "from copy import deepcopy\n",
    "flatten = lambda l: [item for sublist in l for item in sublist]\n",
    "\n",
    "import matplotlib.pyplot as plt\n",
    "import itertools\n",
    "import pandas as pd\n",
    "\n",
    "#random.seed(1024)\n",
    "%matplotlib inline"
   ]
  },
  {
   "cell_type": "code",
   "execution_count": 2,
   "metadata": {},
   "outputs": [],
   "source": [
    "USE_CUDA = torch.cuda.is_available()\n",
    "gpus = [0]\n",
    "torch.cuda.set_device(gpus[0])\n",
    "\n",
    "FloatTensor = torch.cuda.FloatTensor if USE_CUDA else torch.FloatTensor\n",
    "LongTensor = torch.cuda.LongTensor if USE_CUDA else torch.LongTensor\n",
    "ByteTensor = torch.cuda.ByteTensor if USE_CUDA else torch.ByteTensor"
   ]
  },
  {
   "cell_type": "code",
   "execution_count": 3,
   "metadata": {},
   "outputs": [],
   "source": [
    "def getBatch(batch_size, train_data):\n",
    "    random.shuffle(train_data)\n",
    "    sindex = 0\n",
    "    eindex = batch_size\n",
    "    while eindex < len(train_data):\n",
    "        batch = train_data[sindex: eindex]\n",
    "        temp = eindex\n",
    "        eindex = eindex + batch_size\n",
    "        sindex = temp\n",
    "        yield batch\n",
    "    \n",
    "    if eindex >= len(train_data):\n",
    "        batch = train_data[sindex:]\n",
    "        yield batch"
   ]
  },
  {
   "cell_type": "code",
   "execution_count": 4,
   "metadata": {},
   "outputs": [],
   "source": [
    "def pad_to_batch(batch):\n",
    "    x,y = zip(*batch)\n",
    "    max_x = max([s.size(1) for s in x])\n",
    "    x_p = []\n",
    "    for i in range(len(batch)):\n",
    "        if x[i].size(1) < max_x:\n",
    "            x_p.append(torch.cat([x[i], Variable(LongTensor([word2index['<PAD>']] * (max_x - x[i].size(1)))).view(1, -1)], 1))\n",
    "        else:\n",
    "            x_p.append(x[i])\n",
    "    return torch.cat(x_p), torch.cat(y).view(-1)"
   ]
  },
  {
   "cell_type": "code",
   "execution_count": 5,
   "metadata": {},
   "outputs": [],
   "source": [
    "def prepare_sequence(seq, to_index):\n",
    "    idxs = list(map(lambda w: to_index[w] if to_index.get(w) is not None else to_index[\"<UNK>\"], seq))\n",
    "    return Variable(LongTensor(idxs))"
   ]
  },
  {
   "cell_type": "markdown",
   "metadata": {},
   "source": [
    "## Data Loading and Pre-processing"
   ]
  },
  {
   "cell_type": "code",
   "execution_count": 8,
   "metadata": {},
   "outputs": [],
   "source": [
    "inspire_data = pd.read_pickle('inspire_data_with_reference_fractions/inspire_data_with_reference_fractions.df')\n",
    "\n",
    "inspire_data = inspire_data.reindex(np.random.permutation(inspire_data.index))\n",
    "inspire_data = inspire_data.reset_index(drop=True)\n",
    "\n",
    "training_samples = 3 * len(inspire_data) // 5\n",
    "validation_samples = len(inspire_data) // 5"
   ]
  },
  {
   "cell_type": "code",
   "execution_count": 9,
   "metadata": {},
   "outputs": [],
   "source": [
    "X = list(inspire_data['text'])\n",
    "y = list(inspire_data['labels'])"
   ]
  },
  {
   "cell_type": "code",
   "execution_count": 10,
   "metadata": {},
   "outputs": [],
   "source": [
    "# Get the class weights\n",
    "rejected_count = y.count(0)\n",
    "noncore_count = y.count(1)\n",
    "core_count = y.count(2)\n",
    "\n",
    "total_count = len(y)\n",
    "\n",
    "inverse_rejected_fraction = total_count / rejected_count\n",
    "inverse_noncore_fraction = total_count / noncore_count\n",
    "inverse_core_fraction = total_count / core_count \n",
    "\n",
    "sum_fractions = inverse_rejected_fraction + inverse_noncore_fraction + inverse_core_fraction\n",
    "\n",
    "# Specify the class weights (for the loss function specified later)\n",
    "class_weights = torch.cuda.FloatTensor((inverse_rejected_fraction/sum_fractions,\n",
    "                                        inverse_noncore_fraction/sum_fractions,\n",
    "                                        inverse_core_fraction/sum_fractions))"
   ]
  },
  {
   "cell_type": "code",
   "execution_count": 11,
   "metadata": {},
   "outputs": [
    {
     "name": "stdout",
     "output_type": "stream",
     "text": [
      "\n",
      " 1.6888\n",
      " 1.0000\n",
      " 0.8967\n",
      "[torch.cuda.FloatTensor of size 3 (GPU 0)]\n",
      "\n"
     ]
    }
   ],
   "source": [
    "class_weights = class_weights / class_weights[1]\n",
    "print(class_weights)"
   ]
  },
  {
   "cell_type": "markdown",
   "metadata": {},
   "source": [
    "##### Lowercase all text"
   ]
  },
  {
   "cell_type": "code",
   "execution_count": 12,
   "metadata": {},
   "outputs": [],
   "source": [
    "# Lowercase the entire text corpora\n",
    "X = [x.lower() for x in X]"
   ]
  },
  {
   "cell_type": "markdown",
   "metadata": {},
   "source": [
    "##### Remove punctuation"
   ]
  },
  {
   "cell_type": "code",
   "execution_count": 13,
   "metadata": {},
   "outputs": [],
   "source": [
    "punc_to_remove = str('!\"%&\\'()*+,./:;<=>?@[\\\\]^_`{|}~')\n",
    "for i, x in enumerate(X):\n",
    "    X[i] = ' '.join(word.strip(punc_to_remove) for word in x.split())"
   ]
  },
  {
   "cell_type": "markdown",
   "metadata": {},
   "source": [
    "##### Num Masking"
   ]
  },
  {
   "cell_type": "code",
   "execution_count": 14,
   "metadata": {},
   "outputs": [],
   "source": [
    "for i, x in enumerate(X):\n",
    "    X[i] = re.sub('\\d+', '<NUM>', x)"
   ]
  },
  {
   "cell_type": "markdown",
   "metadata": {},
   "source": [
    "##### Replace Latex Equations"
   ]
  },
  {
   "cell_type": "code",
   "execution_count": 15,
   "metadata": {},
   "outputs": [],
   "source": [
    "for i, _ in enumerate(X):\n",
    "    f = re.search(r\"(.+(?P<name>\\$.+\\$).+)+\", X[i])\n",
    "    while f is not None:\n",
    "        X[i] = re.sub(re.escape(f.group('name')), '<FORMULA>', X[i])\n",
    "        f = re.search(r\"(.+(?P<name>\\$.+\\$).+)+\", X[i])"
   ]
  },
  {
   "cell_type": "markdown",
   "metadata": {},
   "source": [
    "##### Tokenize the text"
   ]
  },
  {
   "cell_type": "code",
   "execution_count": 18,
   "metadata": {},
   "outputs": [],
   "source": [
    "X = [nltk.word_tokenize(x) for x in X]"
   ]
  },
  {
   "cell_type": "markdown",
   "metadata": {},
   "source": [
    "##### Lemmatize the text"
   ]
  },
  {
   "cell_type": "code",
   "execution_count": 21,
   "metadata": {},
   "outputs": [],
   "source": [
    "wordnet_lemmatizer = nltk.stem.WordNetLemmatizer()\n",
    "X = [[wordnet_lemmatizer.lemmatize(word) for word in x] for x in X]"
   ]
  },
  {
   "cell_type": "markdown",
   "metadata": {},
   "source": [
    "##### Build vocabulary"
   ]
  },
  {
   "cell_type": "code",
   "execution_count": 22,
   "metadata": {},
   "outputs": [
    {
     "name": "stdout",
     "output_type": "stream",
     "text": [
      "282885\n"
     ]
    }
   ],
   "source": [
    "vocab = list(set(flatten(X)))\n",
    "print(len(vocab))"
   ]
  },
  {
   "cell_type": "code",
   "execution_count": 23,
   "metadata": {},
   "outputs": [
    {
     "name": "stdout",
     "output_type": "stream",
     "text": [
      "3\n"
     ]
    }
   ],
   "source": [
    "print(len(set(y))) # Number of classes"
   ]
  },
  {
   "cell_type": "code",
   "execution_count": 24,
   "metadata": {},
   "outputs": [],
   "source": [
    "word2index={'<PAD>': 0, '<UNK>': 1}\n",
    "\n",
    "for vo in vocab:\n",
    "    if word2index.get(vo) is None:\n",
    "        word2index[vo] = len(word2index)\n",
    "        \n",
    "index2word = {v:k for k, v in word2index.items()}\n",
    "\n",
    "target2index = {}\n",
    "\n",
    "for cl in set(y):\n",
    "    if target2index.get(cl) is None:\n",
    "        target2index[cl] = len(target2index)\n",
    "\n",
    "index2target = {v:k for k, v in target2index.items()}"
   ]
  },
  {
   "cell_type": "code",
   "execution_count": 25,
   "metadata": {},
   "outputs": [],
   "source": [
    "X_p, y_p = [], []\n",
    "for pair in zip(X,y):\n",
    "    X_p.append(prepare_sequence(pair[0], word2index).view(1, -1))\n",
    "    y_p.append(Variable(LongTensor([target2index[pair[1]]])).view(1, -1))\n",
    "    \n",
    "data_p = list(zip(X_p, y_p))\n",
    "random.shuffle(data_p)\n",
    "\n",
    "train_data = data_p[: int(len(data_p) * 0.6)]\n",
    "val_data = data_p[int(len(data_p) * 0.6):int(len(data_p) * 0.8)]\n",
    "test_data = data_p[int(len(data_p) * 0.8):]"
   ]
  },
  {
   "cell_type": "markdown",
   "metadata": {},
   "source": [
    "##### Load pre-trained Word Vectors"
   ]
  },
  {
   "cell_type": "code",
   "execution_count": 28,
   "metadata": {},
   "outputs": [],
   "source": [
    "import gensim"
   ]
  },
  {
   "cell_type": "code",
   "execution_count": 29,
   "metadata": {},
   "outputs": [],
   "source": [
    "model = gensim.models.KeyedVectors.load_word2vec_format('data/GoogleNews-vectors-negative300.bin', binary=True)"
   ]
  },
  {
   "cell_type": "code",
   "execution_count": 30,
   "metadata": {},
   "outputs": [
    {
     "data": {
      "text/plain": [
       "3000000"
      ]
     },
     "execution_count": 30,
     "metadata": {},
     "output_type": "execute_result"
    }
   ],
   "source": [
    "len(model.index2word)"
   ]
  },
  {
   "cell_type": "code",
   "execution_count": 31,
   "metadata": {},
   "outputs": [],
   "source": [
    "pretrained = []\n",
    "\n",
    "for key in word2index.keys():\n",
    "    try:\n",
    "        pretrained.append(model[word2index[key]])\n",
    "    except:\n",
    "        pretrained.append(np.random.randn(300))\n",
    "        \n",
    "pretrained_vectors = np.vstack(pretrained)"
   ]
  },
  {
   "cell_type": "markdown",
   "metadata": {},
   "source": [
    "## CNN Model Definition"
   ]
  },
  {
   "cell_type": "code",
   "execution_count": 32,
   "metadata": {},
   "outputs": [],
   "source": [
    "class  CNNClassifier(nn.Module):\n",
    "    \n",
    "    def __init__(self, vocab_size, embedding_dim, output_size, kernel_dim=100, kernel_sizes=(3, 4, 5), dropout=0.5):\n",
    "        super(CNNClassifier,self).__init__()\n",
    "\n",
    "        self.embedding = nn.Embedding(vocab_size, embedding_dim)\n",
    "        self.convs = nn.ModuleList([nn.Conv2d(1, kernel_dim, (K, embedding_dim)) for K in kernel_sizes])\n",
    "\n",
    "        # kernal_size = (K,D) \n",
    "        self.dropout = nn.Dropout(dropout)\n",
    "        self.fc = nn.Linear(len(kernel_sizes) * kernel_dim, output_size)\n",
    "    \n",
    "    \n",
    "    def init_weights(self, pretrained_word_vectors, is_static=False):\n",
    "        self.embedding.weight = nn.Parameter(torch.from_numpy(pretrained_word_vectors).float())\n",
    "        if is_static:\n",
    "            self.embedding.weight.requires_grad = False\n",
    "\n",
    "\n",
    "    def forward(self, inputs, is_training=False):\n",
    "        inputs = self.embedding(inputs).unsqueeze(1) # (B,1,T,D)\n",
    "        inputs = [F.relu(conv(inputs)).squeeze(3) for conv in self.convs] #[(N,Co,W), ...]*len(Ks)\n",
    "        inputs = [F.max_pool1d(i, i.size(2)).squeeze(2) for i in inputs] #[(N,Co), ...]*len(Ks)\n",
    "\n",
    "        concated = torch.cat(inputs, 1)\n",
    "\n",
    "        if is_training:\n",
    "            concated = self.dropout(concated) # (N,len(Ks)*Co)\n",
    "        out = self.fc(concated)\n",
    "        return F.log_softmax(out,1)"
   ]
  },
  {
   "cell_type": "markdown",
   "metadata": {},
   "source": [
    "## Train"
   ]
  },
  {
   "cell_type": "code",
   "execution_count": 33,
   "metadata": {},
   "outputs": [],
   "source": [
    "EPOCH = 10\n",
    "BATCH_SIZE = 64\n",
    "KERNEL_SIZES = [3,4,5,6]\n",
    "KERNEL_DIM = 200\n",
    "LR = 0.001"
   ]
  },
  {
   "cell_type": "code",
   "execution_count": 34,
   "metadata": {},
   "outputs": [],
   "source": [
    "model = CNNClassifier(len(word2index), 300, len(target2index), KERNEL_DIM, KERNEL_SIZES)\n",
    "model.init_weights(pretrained_vectors) # initialize embedding matrix using pretrained vectors\n",
    "\n",
    "if USE_CUDA:\n",
    "    model = model.cuda()\n",
    "    \n",
    "loss_function = nn.CrossEntropyLoss(weight=class_weights)\n",
    "optimizer = optim.Adam(model.parameters(), lr=LR)\n",
    "scheduler = optim.lr_scheduler.StepLR(optimizer, step_size=5, gamma=0.1)"
   ]
  },
  {
   "cell_type": "code",
   "execution_count": 35,
   "metadata": {},
   "outputs": [
    {
     "name": "stdout",
     "output_type": "stream",
     "text": [
      "CNNClassifier(\n",
      "  (embedding): Embedding(282887, 300)\n",
      "  (convs): ModuleList(\n",
      "    (0): Conv2d(1, 200, kernel_size=(3, 300), stride=(1, 1))\n",
      "    (1): Conv2d(1, 200, kernel_size=(4, 300), stride=(1, 1))\n",
      "    (2): Conv2d(1, 200, kernel_size=(5, 300), stride=(1, 1))\n",
      "    (3): Conv2d(1, 200, kernel_size=(6, 300), stride=(1, 1))\n",
      "  )\n",
      "  (dropout): Dropout(p=0.5)\n",
      "  (fc): Linear(in_features=800, out_features=3, bias=True)\n",
      ")\n"
     ]
    }
   ],
   "source": [
    "print(model)"
   ]
  },
  {
   "cell_type": "code",
   "execution_count": 44,
   "metadata": {},
   "outputs": [],
   "source": [
    "def train_model(train_data, model, loss_function, epoch):\n",
    "    '''\n",
    "    Trains the model for one epoch\n",
    "    '''\n",
    "    \n",
    "    model.train()\n",
    "    avg_loss = []\n",
    "    avg_train_acc = []\n",
    "    \n",
    "    for i, batch in enumerate(getBatch(BATCH_SIZE, train_data)):\n",
    "        inputs, targets = pad_to_batch(batch)\n",
    "        \n",
    "        model.zero_grad()\n",
    "        preds = model(inputs, True)\n",
    "        \n",
    "        loss = loss_function(preds, targets)\n",
    "        loss.backward()\n",
    "        \n",
    "        optimizer.step()\n",
    "        \n",
    "        train_acc = (sum(preds.max(1)[1] == targets).data[0] / BATCH_SIZE) * 100\n",
    "        \n",
    "        if i % 100 == 0:\n",
    "            print('TRAIN [Epoch : {}/{}][Batch: {}] Batch Train Loss: {}, Batch Train Accuracy: {}'.format(epoch, EPOCH, \n",
    "                                                                                                i, loss.data.tolist(),\n",
    "                                                                                                train_acc))\n",
    "    \n",
    "        avg_loss.append(loss.data)\n",
    "        avg_train_acc.append(train_acc)\n",
    "        \n",
    "    avg_loss = np.mean(avg_loss)\n",
    "    avg_train_acc = np.mean(avg_train_acc)\n",
    "\n",
    "    return avg_loss, avg_train_acc\n",
    "\n",
    "def validate(val_data, model, loss_function, epoch):\n",
    "    \n",
    "    model.eval()\n",
    "    avg_loss = []\n",
    "    avg_test_acc = []\n",
    "    \n",
    "    for i, batch in enumerate(getBatch(BATCH_SIZE, val_data)):\n",
    "        inputs, targets = pad_to_batch(batch)\n",
    "        \n",
    "        preds = model(inputs, False)\n",
    "        \n",
    "        loss = loss_function(preds, targets)\n",
    "        \n",
    "        test_acc = (sum(preds.max(1)[1] == targets).data[0] / BATCH_SIZE) * 100\n",
    "        \n",
    "        if i % 100 == 0:\n",
    "            print('VAL [Epoch : {}/{}][Batch: {}] Batch Test Loss: {}, Batch Test Accuracy: {}'.format(epoch, EPOCH, \n",
    "                                                                                                i, loss.data.tolist(),\n",
    "                                                                                                test_acc))\n",
    "    \n",
    "        avg_loss.append(loss.data)\n",
    "        avg_test_acc.append(test_acc)\n",
    "        \n",
    "    avg_loss = np.mean(avg_loss)\n",
    "    avg_test_acc = np.mean(avg_test_acc)\n",
    "\n",
    "    return avg_loss, avg_test_acc"
   ]
  },
  {
   "cell_type": "code",
   "execution_count": 45,
   "metadata": {},
   "outputs": [
    {
     "name": "stdout",
     "output_type": "stream",
     "text": [
      "<<<<<<<<<<<<<TRAINING>>>>>>>>>>>>\n",
      "TRAIN [Epoch : 0/10][Batch: 0] Batch Train Loss: [0.4501466155052185], Batch Train Accuracy: 81.25\n",
      "TRAIN [Epoch : 0/10][Batch: 100] Batch Train Loss: [0.5571895837783813], Batch Train Accuracy: 75.0\n",
      "TRAIN [Epoch : 0/10][Batch: 200] Batch Train Loss: [0.520718514919281], Batch Train Accuracy: 79.6875\n",
      "TRAIN [Epoch : 0/10][Batch: 300] Batch Train Loss: [0.49307775497436523], Batch Train Accuracy: 82.8125\n",
      "TRAIN [Epoch : 0/10][Batch: 400] Batch Train Loss: [0.8101258277893066], Batch Train Accuracy: 70.3125\n",
      "TRAIN [Epoch : 0/10][Batch: 500] Batch Train Loss: [0.44115152955055237], Batch Train Accuracy: 84.375\n",
      "TRAIN [Epoch : 0/10][Batch: 600] Batch Train Loss: [0.5407145619392395], Batch Train Accuracy: 78.125\n",
      "TRAIN [Epoch : 0/10][Batch: 700] Batch Train Loss: [0.49585211277008057], Batch Train Accuracy: 79.6875\n",
      "TRAIN [Epoch : 0/10][Batch: 800] Batch Train Loss: [0.761465847492218], Batch Train Accuracy: 81.25\n",
      "TRAIN [Epoch : 0/10][Batch: 900] Batch Train Loss: [0.565515398979187], Batch Train Accuracy: 73.4375\n",
      "TRAIN [Epoch : 0/10][Batch: 1000] Batch Train Loss: [0.5960495471954346], Batch Train Accuracy: 73.4375\n",
      "TRAIN [Epoch : 0/10][Batch: 1100] Batch Train Loss: [0.2878037989139557], Batch Train Accuracy: 84.375\n",
      "TRAIN [Epoch : 0/10][Batch: 1200] Batch Train Loss: [0.6817705631256104], Batch Train Accuracy: 75.0\n",
      "TRAIN [Epoch : 0/10][Batch: 1300] Batch Train Loss: [0.6409894227981567], Batch Train Accuracy: 76.5625\n",
      "TRAIN [Epoch : 0/10][Batch: 1400] Batch Train Loss: [0.3354957699775696], Batch Train Accuracy: 84.375\n",
      "TRAIN [Epoch : 0/10][Batch: 1500] Batch Train Loss: [0.47448354959487915], Batch Train Accuracy: 81.25\n",
      "TRAIN [Epoch : 0/10][Batch: 1600] Batch Train Loss: [0.368913859128952], Batch Train Accuracy: 84.375\n",
      "TRAIN [Epoch : 0/10][Batch: 1700] Batch Train Loss: [0.29089799523353577], Batch Train Accuracy: 92.1875\n",
      "[TRAIN] EPOCH: 0, Loss: 0.4852953255176544, Accuracy: 80.03780819954129\n",
      "<<<<<<<<<<<<< VALIDATING >>>>>>>>>>>>\n",
      "VAL [Epoch : 0/10][Batch: 0] Batch Test Loss: [0.3799586296081543], Batch Test Accuracy: 89.0625\n",
      "VAL [Epoch : 0/10][Batch: 100] Batch Test Loss: [0.31768834590911865], Batch Test Accuracy: 87.5\n",
      "VAL [Epoch : 0/10][Batch: 200] Batch Test Loss: [0.19539546966552734], Batch Test Accuracy: 90.625\n",
      "VAL [Epoch : 0/10][Batch: 300] Batch Test Loss: [0.3495921790599823], Batch Test Accuracy: 87.5\n",
      "VAL [Epoch : 0/10][Batch: 400] Batch Test Loss: [0.6348817348480225], Batch Test Accuracy: 76.5625\n",
      "VAL [Epoch : 0/10][Batch: 500] Batch Test Loss: [0.45769861340522766], Batch Test Accuracy: 79.6875\n",
      "[VAL] EPOCH: 0, Loss: 0.3627370297908783, Accuracy: 84.56292955326461\n",
      "<<<<<<<<<<<<<TRAINING>>>>>>>>>>>>\n",
      "TRAIN [Epoch : 1/10][Batch: 0] Batch Train Loss: [0.3998854458332062], Batch Train Accuracy: 81.25\n",
      "TRAIN [Epoch : 1/10][Batch: 100] Batch Train Loss: [0.30606335401535034], Batch Train Accuracy: 90.625\n",
      "TRAIN [Epoch : 1/10][Batch: 200] Batch Train Loss: [0.17916135489940643], Batch Train Accuracy: 92.1875\n",
      "TRAIN [Epoch : 1/10][Batch: 300] Batch Train Loss: [0.43600741028785706], Batch Train Accuracy: 82.8125\n",
      "TRAIN [Epoch : 1/10][Batch: 400] Batch Train Loss: [0.4037502706050873], Batch Train Accuracy: 78.125\n",
      "TRAIN [Epoch : 1/10][Batch: 500] Batch Train Loss: [0.17017509043216705], Batch Train Accuracy: 93.75\n",
      "TRAIN [Epoch : 1/10][Batch: 600] Batch Train Loss: [0.4346059262752533], Batch Train Accuracy: 81.25\n",
      "TRAIN [Epoch : 1/10][Batch: 700] Batch Train Loss: [0.37030214071273804], Batch Train Accuracy: 89.0625\n",
      "TRAIN [Epoch : 1/10][Batch: 800] Batch Train Loss: [0.5320613980293274], Batch Train Accuracy: 76.5625\n",
      "TRAIN [Epoch : 1/10][Batch: 900] Batch Train Loss: [0.36218565702438354], Batch Train Accuracy: 82.8125\n",
      "TRAIN [Epoch : 1/10][Batch: 1000] Batch Train Loss: [0.5287358164787292], Batch Train Accuracy: 81.25\n",
      "TRAIN [Epoch : 1/10][Batch: 1100] Batch Train Loss: [0.5145663619041443], Batch Train Accuracy: 81.25\n",
      "TRAIN [Epoch : 1/10][Batch: 1200] Batch Train Loss: [0.23481802642345428], Batch Train Accuracy: 92.1875\n",
      "TRAIN [Epoch : 1/10][Batch: 1300] Batch Train Loss: [0.2597414255142212], Batch Train Accuracy: 92.1875\n",
      "TRAIN [Epoch : 1/10][Batch: 1400] Batch Train Loss: [0.4590345025062561], Batch Train Accuracy: 81.25\n",
      "TRAIN [Epoch : 1/10][Batch: 1500] Batch Train Loss: [0.5514919757843018], Batch Train Accuracy: 81.25\n",
      "TRAIN [Epoch : 1/10][Batch: 1600] Batch Train Loss: [0.4230715334415436], Batch Train Accuracy: 81.25\n",
      "TRAIN [Epoch : 1/10][Batch: 1700] Batch Train Loss: [0.2517029941082001], Batch Train Accuracy: 87.5\n",
      "[TRAIN] EPOCH: 1, Loss: 0.34887000918388367, Accuracy: 85.6543864678899\n",
      "<<<<<<<<<<<<< VALIDATING >>>>>>>>>>>>\n",
      "VAL [Epoch : 1/10][Batch: 0] Batch Test Loss: [0.26332953572273254], Batch Test Accuracy: 87.5\n",
      "VAL [Epoch : 1/10][Batch: 100] Batch Test Loss: [0.4620969295501709], Batch Test Accuracy: 84.375\n",
      "VAL [Epoch : 1/10][Batch: 200] Batch Test Loss: [0.28753241896629333], Batch Test Accuracy: 87.5\n",
      "VAL [Epoch : 1/10][Batch: 300] Batch Test Loss: [0.3417799770832062], Batch Test Accuracy: 89.0625\n",
      "VAL [Epoch : 1/10][Batch: 400] Batch Test Loss: [0.5057130455970764], Batch Test Accuracy: 81.25\n",
      "VAL [Epoch : 1/10][Batch: 500] Batch Test Loss: [0.2756461203098297], Batch Test Accuracy: 90.625\n",
      "[VAL] EPOCH: 1, Loss: 0.3636241555213928, Accuracy: 85.80326460481099\n",
      "<<<<<<<<<<<<<TRAINING>>>>>>>>>>>>\n",
      "TRAIN [Epoch : 2/10][Batch: 0] Batch Train Loss: [0.2601417005062103], Batch Train Accuracy: 85.9375\n",
      "TRAIN [Epoch : 2/10][Batch: 100] Batch Train Loss: [0.2533394396305084], Batch Train Accuracy: 90.625\n",
      "TRAIN [Epoch : 2/10][Batch: 200] Batch Train Loss: [0.20288585126399994], Batch Train Accuracy: 90.625\n",
      "TRAIN [Epoch : 2/10][Batch: 300] Batch Train Loss: [0.2055034190416336], Batch Train Accuracy: 89.0625\n",
      "TRAIN [Epoch : 2/10][Batch: 400] Batch Train Loss: [0.26837411522865295], Batch Train Accuracy: 89.0625\n",
      "TRAIN [Epoch : 2/10][Batch: 500] Batch Train Loss: [0.2827150821685791], Batch Train Accuracy: 89.0625\n",
      "TRAIN [Epoch : 2/10][Batch: 600] Batch Train Loss: [0.29072466492652893], Batch Train Accuracy: 87.5\n",
      "TRAIN [Epoch : 2/10][Batch: 700] Batch Train Loss: [0.2698062062263489], Batch Train Accuracy: 84.375\n",
      "TRAIN [Epoch : 2/10][Batch: 800] Batch Train Loss: [0.21585284173488617], Batch Train Accuracy: 90.625\n",
      "TRAIN [Epoch : 2/10][Batch: 900] Batch Train Loss: [0.16463381052017212], Batch Train Accuracy: 90.625\n",
      "TRAIN [Epoch : 2/10][Batch: 1000] Batch Train Loss: [0.3173973858356476], Batch Train Accuracy: 92.1875\n",
      "TRAIN [Epoch : 2/10][Batch: 1100] Batch Train Loss: [0.48528385162353516], Batch Train Accuracy: 81.25\n",
      "TRAIN [Epoch : 2/10][Batch: 1200] Batch Train Loss: [0.3061808943748474], Batch Train Accuracy: 82.8125\n",
      "TRAIN [Epoch : 2/10][Batch: 1300] Batch Train Loss: [0.21242700517177582], Batch Train Accuracy: 90.625\n",
      "TRAIN [Epoch : 2/10][Batch: 1400] Batch Train Loss: [0.2211838662624359], Batch Train Accuracy: 84.375\n",
      "TRAIN [Epoch : 2/10][Batch: 1500] Batch Train Loss: [0.2674697935581207], Batch Train Accuracy: 84.375\n",
      "TRAIN [Epoch : 2/10][Batch: 1600] Batch Train Loss: [0.24832171201705933], Batch Train Accuracy: 90.625\n",
      "TRAIN [Epoch : 2/10][Batch: 1700] Batch Train Loss: [0.3289085626602173], Batch Train Accuracy: 82.8125\n",
      "[TRAIN] EPOCH: 2, Loss: 0.27551209926605225, Accuracy: 88.81163990825688\n",
      "<<<<<<<<<<<<< VALIDATING >>>>>>>>>>>>\n",
      "VAL [Epoch : 2/10][Batch: 0] Batch Test Loss: [0.45327305793762207], Batch Test Accuracy: 82.8125\n",
      "VAL [Epoch : 2/10][Batch: 100] Batch Test Loss: [0.13083523511886597], Batch Test Accuracy: 93.75\n",
      "VAL [Epoch : 2/10][Batch: 200] Batch Test Loss: [0.3164522051811218], Batch Test Accuracy: 82.8125\n",
      "VAL [Epoch : 2/10][Batch: 300] Batch Test Loss: [0.5309544205665588], Batch Test Accuracy: 82.8125\n",
      "VAL [Epoch : 2/10][Batch: 400] Batch Test Loss: [0.254692941904068], Batch Test Accuracy: 89.0625\n",
      "VAL [Epoch : 2/10][Batch: 500] Batch Test Loss: [0.5151904225349426], Batch Test Accuracy: 84.375\n",
      "[VAL] EPOCH: 2, Loss: 0.36340829730033875, Accuracy: 85.89454467353951\n",
      "<<<<<<<<<<<<<TRAINING>>>>>>>>>>>>\n",
      "TRAIN [Epoch : 3/10][Batch: 0] Batch Train Loss: [0.1316196471452713], Batch Train Accuracy: 95.3125\n",
      "TRAIN [Epoch : 3/10][Batch: 100] Batch Train Loss: [0.1858266144990921], Batch Train Accuracy: 95.3125\n",
      "TRAIN [Epoch : 3/10][Batch: 200] Batch Train Loss: [0.2212541252374649], Batch Train Accuracy: 92.1875\n"
     ]
    },
    {
     "name": "stdout",
     "output_type": "stream",
     "text": [
      "TRAIN [Epoch : 3/10][Batch: 300] Batch Train Loss: [0.19712434709072113], Batch Train Accuracy: 92.1875\n",
      "TRAIN [Epoch : 3/10][Batch: 400] Batch Train Loss: [0.03933235630393028], Batch Train Accuracy: 98.4375\n",
      "TRAIN [Epoch : 3/10][Batch: 500] Batch Train Loss: [0.3391522765159607], Batch Train Accuracy: 87.5\n",
      "TRAIN [Epoch : 3/10][Batch: 600] Batch Train Loss: [0.22092968225479126], Batch Train Accuracy: 90.625\n",
      "TRAIN [Epoch : 3/10][Batch: 700] Batch Train Loss: [0.20338626205921173], Batch Train Accuracy: 89.0625\n",
      "TRAIN [Epoch : 3/10][Batch: 800] Batch Train Loss: [0.09591348469257355], Batch Train Accuracy: 95.3125\n",
      "TRAIN [Epoch : 3/10][Batch: 900] Batch Train Loss: [0.0715511292219162], Batch Train Accuracy: 96.875\n",
      "TRAIN [Epoch : 3/10][Batch: 1000] Batch Train Loss: [0.25357863306999207], Batch Train Accuracy: 90.625\n",
      "TRAIN [Epoch : 3/10][Batch: 1100] Batch Train Loss: [0.30550265312194824], Batch Train Accuracy: 85.9375\n",
      "TRAIN [Epoch : 3/10][Batch: 1200] Batch Train Loss: [0.18786633014678955], Batch Train Accuracy: 96.875\n",
      "TRAIN [Epoch : 3/10][Batch: 1300] Batch Train Loss: [0.2723957598209381], Batch Train Accuracy: 90.625\n",
      "TRAIN [Epoch : 3/10][Batch: 1400] Batch Train Loss: [0.1874113529920578], Batch Train Accuracy: 90.625\n",
      "TRAIN [Epoch : 3/10][Batch: 1500] Batch Train Loss: [0.4570479094982147], Batch Train Accuracy: 87.5\n",
      "TRAIN [Epoch : 3/10][Batch: 1600] Batch Train Loss: [0.3134610056877136], Batch Train Accuracy: 89.0625\n",
      "TRAIN [Epoch : 3/10][Batch: 1700] Batch Train Loss: [0.6648706197738647], Batch Train Accuracy: 84.375\n",
      "[TRAIN] EPOCH: 3, Loss: 0.20736446976661682, Accuracy: 91.58722763761467\n",
      "<<<<<<<<<<<<< VALIDATING >>>>>>>>>>>>\n",
      "VAL [Epoch : 3/10][Batch: 0] Batch Test Loss: [0.14031855762004852], Batch Test Accuracy: 96.875\n",
      "VAL [Epoch : 3/10][Batch: 100] Batch Test Loss: [0.3635297417640686], Batch Test Accuracy: 87.5\n",
      "VAL [Epoch : 3/10][Batch: 200] Batch Test Loss: [0.4717799723148346], Batch Test Accuracy: 82.8125\n",
      "VAL [Epoch : 3/10][Batch: 300] Batch Test Loss: [0.6000803709030151], Batch Test Accuracy: 85.9375\n",
      "VAL [Epoch : 3/10][Batch: 400] Batch Test Loss: [0.39837998151779175], Batch Test Accuracy: 87.5\n",
      "VAL [Epoch : 3/10][Batch: 500] Batch Test Loss: [0.6373583078384399], Batch Test Accuracy: 87.5\n",
      "[VAL] EPOCH: 3, Loss: 0.4337150752544403, Accuracy: 85.74151632302406\n",
      "<<<<<<<<<<<<<TRAINING>>>>>>>>>>>>\n",
      "TRAIN [Epoch : 4/10][Batch: 0] Batch Train Loss: [0.12392429262399673], Batch Train Accuracy: 92.1875\n",
      "TRAIN [Epoch : 4/10][Batch: 100] Batch Train Loss: [0.12975627183914185], Batch Train Accuracy: 93.75\n",
      "TRAIN [Epoch : 4/10][Batch: 200] Batch Train Loss: [0.09157059341669083], Batch Train Accuracy: 96.875\n",
      "TRAIN [Epoch : 4/10][Batch: 300] Batch Train Loss: [0.16647030413150787], Batch Train Accuracy: 95.3125\n",
      "TRAIN [Epoch : 4/10][Batch: 400] Batch Train Loss: [0.04502330347895622], Batch Train Accuracy: 98.4375\n",
      "TRAIN [Epoch : 4/10][Batch: 500] Batch Train Loss: [0.09101548790931702], Batch Train Accuracy: 96.875\n",
      "TRAIN [Epoch : 4/10][Batch: 600] Batch Train Loss: [0.06627348810434341], Batch Train Accuracy: 98.4375\n",
      "TRAIN [Epoch : 4/10][Batch: 700] Batch Train Loss: [0.149995356798172], Batch Train Accuracy: 92.1875\n",
      "TRAIN [Epoch : 4/10][Batch: 800] Batch Train Loss: [0.3555419445037842], Batch Train Accuracy: 85.9375\n",
      "TRAIN [Epoch : 4/10][Batch: 900] Batch Train Loss: [0.0969526544213295], Batch Train Accuracy: 95.3125\n",
      "TRAIN [Epoch : 4/10][Batch: 1000] Batch Train Loss: [0.25979745388031006], Batch Train Accuracy: 89.0625\n",
      "TRAIN [Epoch : 4/10][Batch: 1100] Batch Train Loss: [0.2100502997636795], Batch Train Accuracy: 90.625\n",
      "TRAIN [Epoch : 4/10][Batch: 1200] Batch Train Loss: [0.1576506644487381], Batch Train Accuracy: 96.875\n",
      "TRAIN [Epoch : 4/10][Batch: 1300] Batch Train Loss: [0.13506735861301422], Batch Train Accuracy: 93.75\n",
      "TRAIN [Epoch : 4/10][Batch: 1400] Batch Train Loss: [0.14158327877521515], Batch Train Accuracy: 90.625\n",
      "TRAIN [Epoch : 4/10][Batch: 1500] Batch Train Loss: [0.10841306298971176], Batch Train Accuracy: 96.875\n",
      "TRAIN [Epoch : 4/10][Batch: 1600] Batch Train Loss: [0.06220720335841179], Batch Train Accuracy: 98.4375\n",
      "TRAIN [Epoch : 4/10][Batch: 1700] Batch Train Loss: [0.07696571946144104], Batch Train Accuracy: 96.875\n",
      "[TRAIN] EPOCH: 4, Loss: 0.15583066642284393, Accuracy: 93.85213589449542\n",
      "<<<<<<<<<<<<< VALIDATING >>>>>>>>>>>>\n",
      "VAL [Epoch : 4/10][Batch: 0] Batch Test Loss: [0.5026909708976746], Batch Test Accuracy: 85.9375\n",
      "VAL [Epoch : 4/10][Batch: 100] Batch Test Loss: [0.5466185212135315], Batch Test Accuracy: 85.9375\n",
      "VAL [Epoch : 4/10][Batch: 200] Batch Test Loss: [0.5078535676002502], Batch Test Accuracy: 81.25\n",
      "VAL [Epoch : 4/10][Batch: 300] Batch Test Loss: [0.7841450572013855], Batch Test Accuracy: 85.9375\n",
      "VAL [Epoch : 4/10][Batch: 400] Batch Test Loss: [0.38885098695755005], Batch Test Accuracy: 87.5\n",
      "VAL [Epoch : 4/10][Batch: 500] Batch Test Loss: [0.7948771715164185], Batch Test Accuracy: 84.375\n",
      "[VAL] EPOCH: 4, Loss: 0.5315905809402466, Accuracy: 85.77104810996563\n",
      "<<<<<<<<<<<<<TRAINING>>>>>>>>>>>>\n",
      "TRAIN [Epoch : 5/10][Batch: 0] Batch Train Loss: [0.13376088440418243], Batch Train Accuracy: 93.75\n",
      "TRAIN [Epoch : 5/10][Batch: 100] Batch Train Loss: [0.06656014919281006], Batch Train Accuracy: 96.875\n",
      "TRAIN [Epoch : 5/10][Batch: 200] Batch Train Loss: [0.03045116923749447], Batch Train Accuracy: 98.4375\n",
      "TRAIN [Epoch : 5/10][Batch: 300] Batch Train Loss: [0.10790877789258957], Batch Train Accuracy: 95.3125\n",
      "TRAIN [Epoch : 5/10][Batch: 400] Batch Train Loss: [0.16188089549541473], Batch Train Accuracy: 93.75\n",
      "TRAIN [Epoch : 5/10][Batch: 500] Batch Train Loss: [0.08726487308740616], Batch Train Accuracy: 95.3125\n",
      "TRAIN [Epoch : 5/10][Batch: 600] Batch Train Loss: [0.1733873039484024], Batch Train Accuracy: 92.1875\n",
      "TRAIN [Epoch : 5/10][Batch: 700] Batch Train Loss: [0.07961700111627579], Batch Train Accuracy: 96.875\n",
      "TRAIN [Epoch : 5/10][Batch: 800] Batch Train Loss: [0.21505394577980042], Batch Train Accuracy: 96.875\n",
      "TRAIN [Epoch : 5/10][Batch: 900] Batch Train Loss: [0.10117585957050323], Batch Train Accuracy: 93.75\n",
      "TRAIN [Epoch : 5/10][Batch: 1000] Batch Train Loss: [0.0789727047085762], Batch Train Accuracy: 95.3125\n",
      "TRAIN [Epoch : 5/10][Batch: 1100] Batch Train Loss: [0.024210166186094284], Batch Train Accuracy: 100.0\n",
      "TRAIN [Epoch : 5/10][Batch: 1200] Batch Train Loss: [0.06559968739748001], Batch Train Accuracy: 95.3125\n",
      "TRAIN [Epoch : 5/10][Batch: 1300] Batch Train Loss: [0.08382028341293335], Batch Train Accuracy: 95.3125\n",
      "TRAIN [Epoch : 5/10][Batch: 1400] Batch Train Loss: [0.22470469772815704], Batch Train Accuracy: 92.1875\n",
      "TRAIN [Epoch : 5/10][Batch: 1500] Batch Train Loss: [0.04424743726849556], Batch Train Accuracy: 100.0\n",
      "TRAIN [Epoch : 5/10][Batch: 1600] Batch Train Loss: [0.1902446150779724], Batch Train Accuracy: 93.75\n",
      "TRAIN [Epoch : 5/10][Batch: 1700] Batch Train Loss: [0.09069002419710159], Batch Train Accuracy: 96.875\n",
      "[TRAIN] EPOCH: 5, Loss: 0.12688575685024261, Accuracy: 95.27755877293578\n",
      "<<<<<<<<<<<<< VALIDATING >>>>>>>>>>>>\n",
      "VAL [Epoch : 5/10][Batch: 0] Batch Test Loss: [0.402910977602005], Batch Test Accuracy: 84.375\n",
      "VAL [Epoch : 5/10][Batch: 100] Batch Test Loss: [0.729871928691864], Batch Test Accuracy: 84.375\n",
      "VAL [Epoch : 5/10][Batch: 200] Batch Test Loss: [0.5688121914863586], Batch Test Accuracy: 85.9375\n",
      "VAL [Epoch : 5/10][Batch: 300] Batch Test Loss: [0.8547987937927246], Batch Test Accuracy: 84.375\n",
      "VAL [Epoch : 5/10][Batch: 400] Batch Test Loss: [0.6551212668418884], Batch Test Accuracy: 84.375\n",
      "VAL [Epoch : 5/10][Batch: 500] Batch Test Loss: [0.43674352765083313], Batch Test Accuracy: 93.75\n",
      "[VAL] EPOCH: 5, Loss: 0.647351861000061, Accuracy: 85.7629939862543\n",
      "<<<<<<<<<<<<<TRAINING>>>>>>>>>>>>\n",
      "TRAIN [Epoch : 6/10][Batch: 0] Batch Train Loss: [0.1581026166677475], Batch Train Accuracy: 90.625\n",
      "TRAIN [Epoch : 6/10][Batch: 100] Batch Train Loss: [0.05242712050676346], Batch Train Accuracy: 96.875\n",
      "TRAIN [Epoch : 6/10][Batch: 200] Batch Train Loss: [0.11041898280382156], Batch Train Accuracy: 92.1875\n",
      "TRAIN [Epoch : 6/10][Batch: 300] Batch Train Loss: [0.07501866668462753], Batch Train Accuracy: 95.3125\n",
      "TRAIN [Epoch : 6/10][Batch: 400] Batch Train Loss: [0.13076317310333252], Batch Train Accuracy: 95.3125\n",
      "TRAIN [Epoch : 6/10][Batch: 500] Batch Train Loss: [0.04160178452730179], Batch Train Accuracy: 98.4375\n"
     ]
    },
    {
     "name": "stdout",
     "output_type": "stream",
     "text": [
      "TRAIN [Epoch : 6/10][Batch: 600] Batch Train Loss: [0.09067265689373016], Batch Train Accuracy: 92.1875\n",
      "TRAIN [Epoch : 6/10][Batch: 700] Batch Train Loss: [0.07032909989356995], Batch Train Accuracy: 98.4375\n",
      "TRAIN [Epoch : 6/10][Batch: 800] Batch Train Loss: [0.08120155334472656], Batch Train Accuracy: 98.4375\n",
      "TRAIN [Epoch : 6/10][Batch: 900] Batch Train Loss: [0.10661263018846512], Batch Train Accuracy: 96.875\n",
      "TRAIN [Epoch : 6/10][Batch: 1000] Batch Train Loss: [0.18751858174800873], Batch Train Accuracy: 95.3125\n"
     ]
    },
    {
     "ename": "KeyboardInterrupt",
     "evalue": "",
     "output_type": "error",
     "traceback": [
      "\u001b[0;31m---------------------------------------------------------------------------\u001b[0m",
      "\u001b[0;31mKeyboardInterrupt\u001b[0m                         Traceback (most recent call last)",
      "\u001b[0;32m<ipython-input-45-3b5d55d09ffc>\u001b[0m in \u001b[0;36m<module>\u001b[0;34m()\u001b[0m\n\u001b[1;32m      5\u001b[0m \u001b[0;34m\u001b[0m\u001b[0m\n\u001b[1;32m      6\u001b[0m     \u001b[0mprint\u001b[0m\u001b[0;34m(\u001b[0m\u001b[0;34m'<<<<<<<<<<<<<TRAINING>>>>>>>>>>>>'\u001b[0m\u001b[0;34m)\u001b[0m\u001b[0;34m\u001b[0m\u001b[0m\n\u001b[0;32m----> 7\u001b[0;31m     \u001b[0mepoch_train_loss\u001b[0m\u001b[0;34m,\u001b[0m \u001b[0mepoch_train_acc\u001b[0m \u001b[0;34m=\u001b[0m \u001b[0mtrain_model\u001b[0m\u001b[0;34m(\u001b[0m\u001b[0mtrain_data\u001b[0m\u001b[0;34m,\u001b[0m \u001b[0mmodel\u001b[0m\u001b[0;34m,\u001b[0m \u001b[0mloss_function\u001b[0m\u001b[0;34m,\u001b[0m \u001b[0mepoch\u001b[0m\u001b[0;34m)\u001b[0m\u001b[0;34m\u001b[0m\u001b[0m\n\u001b[0m\u001b[1;32m      8\u001b[0m     \u001b[0mprint\u001b[0m\u001b[0;34m(\u001b[0m\u001b[0;34m'[TRAIN] EPOCH: {}, Loss: {}, Accuracy: {}'\u001b[0m\u001b[0;34m.\u001b[0m\u001b[0mformat\u001b[0m\u001b[0;34m(\u001b[0m\u001b[0mepoch\u001b[0m\u001b[0;34m,\u001b[0m \u001b[0mepoch_train_loss\u001b[0m\u001b[0;34m,\u001b[0m \u001b[0mepoch_train_acc\u001b[0m\u001b[0;34m)\u001b[0m\u001b[0;34m)\u001b[0m\u001b[0;34m\u001b[0m\u001b[0m\n\u001b[1;32m      9\u001b[0m     \u001b[0mtrain_loss\u001b[0m\u001b[0;34m.\u001b[0m\u001b[0mappend\u001b[0m\u001b[0;34m(\u001b[0m\u001b[0mepoch_train_loss\u001b[0m\u001b[0;34m)\u001b[0m\u001b[0;34m\u001b[0m\u001b[0m\n",
      "\u001b[0;32m<ipython-input-44-0076b9bfbeab>\u001b[0m in \u001b[0;36mtrain_model\u001b[0;34m(train_data, model, loss_function, epoch)\u001b[0m\n\u001b[1;32m     19\u001b[0m         \u001b[0moptimizer\u001b[0m\u001b[0;34m.\u001b[0m\u001b[0mstep\u001b[0m\u001b[0;34m(\u001b[0m\u001b[0;34m)\u001b[0m\u001b[0;34m\u001b[0m\u001b[0m\n\u001b[1;32m     20\u001b[0m \u001b[0;34m\u001b[0m\u001b[0m\n\u001b[0;32m---> 21\u001b[0;31m         \u001b[0mtrain_acc\u001b[0m \u001b[0;34m=\u001b[0m \u001b[0;34m(\u001b[0m\u001b[0msum\u001b[0m\u001b[0;34m(\u001b[0m\u001b[0mpreds\u001b[0m\u001b[0;34m.\u001b[0m\u001b[0mmax\u001b[0m\u001b[0;34m(\u001b[0m\u001b[0;36m1\u001b[0m\u001b[0;34m)\u001b[0m\u001b[0;34m[\u001b[0m\u001b[0;36m1\u001b[0m\u001b[0;34m]\u001b[0m \u001b[0;34m==\u001b[0m \u001b[0mtargets\u001b[0m\u001b[0;34m)\u001b[0m\u001b[0;34m.\u001b[0m\u001b[0mdata\u001b[0m\u001b[0;34m[\u001b[0m\u001b[0;36m0\u001b[0m\u001b[0;34m]\u001b[0m \u001b[0;34m/\u001b[0m \u001b[0mBATCH_SIZE\u001b[0m\u001b[0;34m)\u001b[0m \u001b[0;34m*\u001b[0m \u001b[0;36m100\u001b[0m\u001b[0;34m\u001b[0m\u001b[0m\n\u001b[0m\u001b[1;32m     22\u001b[0m \u001b[0;34m\u001b[0m\u001b[0m\n\u001b[1;32m     23\u001b[0m         \u001b[0;32mif\u001b[0m \u001b[0mi\u001b[0m \u001b[0;34m%\u001b[0m \u001b[0;36m100\u001b[0m \u001b[0;34m==\u001b[0m \u001b[0;36m0\u001b[0m\u001b[0;34m:\u001b[0m\u001b[0;34m\u001b[0m\u001b[0m\n",
      "\u001b[0;31mKeyboardInterrupt\u001b[0m: "
     ]
    }
   ],
   "source": [
    "train_loss, train_acc, val_loss, val_acc = [], [], [], []\n",
    "for epoch in range(EPOCH):\n",
    "    \n",
    "#     scheduler.step()\n",
    "    \n",
    "    print('<<<<<<<<<<<<<TRAINING>>>>>>>>>>>>')\n",
    "    epoch_train_loss, epoch_train_acc = train_model(train_data, model, loss_function, epoch)\n",
    "    print('[TRAIN] EPOCH: {}, Loss: {}, Accuracy: {}'.format(epoch, epoch_train_loss, epoch_train_acc))\n",
    "    train_loss.append(epoch_train_loss)\n",
    "    train_acc.append(epoch_train_acc)\n",
    "    \n",
    "    print('<<<<<<<<<<<<< VALIDATING >>>>>>>>>>>>')\n",
    "    epoch_val_loss, epoch_val_acc = validate(val_data, model, loss_function, epoch)\n",
    "    print('[VAL] EPOCH: {}, Loss: {}, Accuracy: {}'.format(epoch, epoch_val_loss, epoch_val_acc))    \n",
    "    val_loss.append(epoch_val_loss)\n",
    "    val_acc.append(epoch_val_acc)"
   ]
  },
  {
   "cell_type": "markdown",
   "metadata": {},
   "source": [
    "#### Make loss and accuracy plots"
   ]
  },
  {
   "cell_type": "code",
   "execution_count": 48,
   "metadata": {},
   "outputs": [
    {
     "data": {
      "image/png": "[encoded data removed]",
      "text/plain": [
       "<Figure size 1152x648 with 1 Axes>"
      ]
     },
     "metadata": {},
     "output_type": "display_data"
    }
   ],
   "source": [
    "# Accuracy\n",
    "epochs = range(1, 6 + 1)\n",
    "\n",
    "plt.figure(figsize=(16, 9))\n",
    "plt.plot(epochs, train_acc, 'r', label='Training acc')\n",
    "plt.plot(epochs, val_acc, 'b', label='Validation acc')\n",
    "plt.title('Training and validation accuracy')\n",
    "plt.legend()\n",
    "\n",
    "plt.show()"
   ]
  },
  {
   "cell_type": "code",
   "execution_count": 49,
   "metadata": {},
   "outputs": [
    {
     "data": {
      "image/png": "[encoded data removed]",
      "text/plain": [
       "<Figure size 1152x648 with 1 Axes>"
      ]
     },
     "metadata": {},
     "output_type": "display_data"
    }
   ],
   "source": [
    "# Loss\n",
    "\n",
    "plt.figure(figsize=(16, 9))\n",
    "plt.plot(epochs, train_loss, 'r', label='Training loss')\n",
    "plt.plot(epochs, val_loss, 'b', label='Validation loss')\n",
    "plt.title('Training and validation loss')\n",
    "plt.legend()\n",
    "\n",
    "plt.show()"
   ]
  },
  {
   "cell_type": "markdown",
   "metadata": {},
   "source": [
    "## Evaluate on validation set"
   ]
  },
  {
   "cell_type": "code",
   "execution_count": 50,
   "metadata": {},
   "outputs": [
    {
     "name": "stdout",
     "output_type": "stream",
     "text": [
      "85.55952796967824\n"
     ]
    }
   ],
   "source": [
    "accuracy = 0\n",
    "\n",
    "for test in val_data:\n",
    "    pred = model(test[0], False).max(1)[1]\n",
    "    pred = pred.data.tolist()[0]\n",
    "    target = test[1].data.tolist()[0][0]\n",
    "    if pred == target:\n",
    "        accuracy += 1\n",
    "\n",
    "print(accuracy/len(val_data) * 100)"
   ]
  },
  {
   "cell_type": "markdown",
   "metadata": {},
   "source": [
    "#### Make nice plots"
   ]
  },
  {
   "cell_type": "code",
   "execution_count": 51,
   "metadata": {},
   "outputs": [],
   "source": [
    "if 'Y_VAL' in locals():\n",
    "    del Y_VAL, Y_VAL_PREDS\n",
    "    \n",
    "for data in getBatch(50, val_data):\n",
    "    inputs, targets = pad_to_batch(data)\n",
    "\n",
    "    y_val_pred = model(inputs, False)\n",
    "    preds = y_val_pred.max(1)[1]\n",
    "    \n",
    "    if 'Y_VAL' in locals():\n",
    "        Y_VAL = torch.cat((Y_VAL, targets), 0)\n",
    "        Y_VAL_PREDS = torch.cat((Y_VAL_PREDS, preds), 0)\n",
    "    else:\n",
    "        Y_VAL = targets\n",
    "        Y_VAL_PREDS = preds"
   ]
  },
  {
   "cell_type": "code",
   "execution_count": 52,
   "metadata": {},
   "outputs": [],
   "source": [
    "from sklearn.metrics import confusion_matrix"
   ]
  },
  {
   "cell_type": "code",
   "execution_count": 57,
   "metadata": {},
   "outputs": [],
   "source": [
    "conf_mat = confusion_matrix(Y_VAL.data, Y_VAL_PREDS.data, labels = [0, 1, 2])"
   ]
  },
  {
   "cell_type": "code",
   "execution_count": 58,
   "metadata": {},
   "outputs": [],
   "source": [
    "# funtion to plot confusion matrices, will be needed later\n",
    "\n",
    "def plot_confusion_matrix(cm, classes,\n",
    "                          normalize=False,\n",
    "                          title='Confusion matrix',\n",
    "                          cmap=plt.cm.Blues):\n",
    "    \"\"\"\n",
    "    This function prints and plots the confusion matrix.\n",
    "    Normalization can be applied by setting `normalize=True`.\n",
    "    \"\"\"\n",
    "    if normalize:\n",
    "        cm = cm.astype('float') / cm.sum(axis=1)[:, np.newaxis]\n",
    "        print(\"Normalized confusion matrix\")\n",
    "        plt.imshow(cm, interpolation='nearest', cmap=cmap, vmin=0, vmax=1)\n",
    "    else:\n",
    "        print('Confusion matrix, without normalization')\n",
    "        plt.imshow(cm, interpolation='nearest', cmap=cmap)\n",
    "\n",
    "    print(cm)\n",
    "    \n",
    "    \n",
    "    plt.title(title)\n",
    "    plt.colorbar( )\n",
    "    tick_marks = np.arange(len(classes))\n",
    "    plt.xticks(tick_marks, classes, rotation=45)\n",
    "    plt.yticks(tick_marks, classes)\n",
    "\n",
    "    fmt = '.2f' if normalize else 'd'\n",
    "    thresh = cm.max() / 2.\n",
    "    for i, j in itertools.product(range(cm.shape[0]), range(cm.shape[1])):\n",
    "        plt.text(j, i, format(cm[i, j], fmt),\n",
    "                 horizontalalignment=\"center\",\n",
    "                 color=\"white\" if cm[i, j] > thresh else \"black\")\n",
    "\n",
    "    plt.tight_layout()\n",
    "    plt.ylabel('True label')\n",
    "    plt.xlabel('Predicted label')"
   ]
  },
  {
   "cell_type": "code",
   "execution_count": 59,
   "metadata": {},
   "outputs": [
    {
     "name": "stdout",
     "output_type": "stream",
     "text": [
      "Normalized confusion matrix\n",
      "[[0.93321726 0.01169009 0.05509265]\n",
      " [0.02367288 0.84713056 0.12919656]\n",
      " [0.08357424 0.09415243 0.82227332]]\n"
     ]
    },
    {
     "data": {
      "image/png": "[encoded data removed]",
      "text/plain": [
       "<Figure size 432x288 with 2 Axes>"
      ]
     },
     "metadata": {},
     "output_type": "display_data"
    }
   ],
   "source": [
    "plt.figure()\n",
    "plot_confusion_matrix(conf_mat, ['Rejected', 'Non-Core', 'Core'], normalize=True)\n",
    "plt.show()"
   ]
  },
  {
   "cell_type": "markdown",
   "metadata": {},
   "source": [
    "#### Repeat for test data"
   ]
  },
  {
   "cell_type": "code",
   "execution_count": 60,
   "metadata": {},
   "outputs": [],
   "source": [
    "if 'Y_TEST' in locals():\n",
    "    del Y_TEST, Y_TEST_PREDS\n",
    "    \n",
    "for data in getBatch(50, test_data):\n",
    "    inputs, targets = pad_to_batch(data)\n",
    "\n",
    "    y_test_pred = model(inputs, False)\n",
    "    preds = y_test_pred.max(1)[1]\n",
    "    \n",
    "    if 'Y_TEST' in locals():\n",
    "        Y_TEST = torch.cat((Y_TEST, targets), 0)\n",
    "        Y_TEST_PREDS = torch.cat((Y_TEST_PREDS, preds), 0)\n",
    "    else:\n",
    "        Y_TEST = targets\n",
    "        Y_TEST_PREDS = preds"
   ]
  },
  {
   "cell_type": "code",
   "execution_count": 61,
   "metadata": {},
   "outputs": [],
   "source": [
    "from sklearn.metrics import confusion_matrix"
   ]
  },
  {
   "cell_type": "code",
   "execution_count": 62,
   "metadata": {},
   "outputs": [],
   "source": [
    "conf_mat = confusion_matrix(Y_TEST.data, Y_TEST_PREDS.data, labels = [0, 1, 2])"
   ]
  },
  {
   "cell_type": "code",
   "execution_count": 63,
   "metadata": {},
   "outputs": [],
   "source": [
    "# funtion to plot confusion matrices, will be needed later\n",
    "\n",
    "def plot_confusion_matrix(cm, classes,\n",
    "                          normalize=False,\n",
    "                          title='Confusion matrix',\n",
    "                          cmap=plt.cm.Blues):\n",
    "    \"\"\"\n",
    "    This function prints and plots the confusion matrix.\n",
    "    Normalization can be applied by setting `normalize=True`.\n",
    "    \"\"\"\n",
    "    if normalize:\n",
    "        cm = cm.astype('float') / cm.sum(axis=1)[:, np.newaxis]\n",
    "        print(\"Normalized confusion matrix\")\n",
    "        plt.imshow(cm, interpolation='nearest', cmap=cmap, vmin=0, vmax=1)\n",
    "    else:\n",
    "        print('Confusion matrix, without normalization')\n",
    "        plt.imshow(cm, interpolation='nearest', cmap=cmap)\n",
    "\n",
    "    print(cm)\n",
    "    \n",
    "    \n",
    "    plt.title(title)\n",
    "    plt.colorbar( )\n",
    "    tick_marks = np.arange(len(classes))\n",
    "    plt.xticks(tick_marks, classes, rotation=45)\n",
    "    plt.yticks(tick_marks, classes)\n",
    "\n",
    "    fmt = '.2f' if normalize else 'd'\n",
    "    thresh = cm.max() / 2.\n",
    "    for i, j in itertools.product(range(cm.shape[0]), range(cm.shape[1])):\n",
    "        plt.text(j, i, format(cm[i, j], fmt),\n",
    "                 horizontalalignment=\"center\",\n",
    "                 color=\"white\" if cm[i, j] > thresh else \"black\")\n",
    "\n",
    "    plt.tight_layout()\n",
    "    plt.ylabel('True label')\n",
    "    plt.xlabel('Predicted label')"
   ]
  },
  {
   "cell_type": "code",
   "execution_count": 64,
   "metadata": {},
   "outputs": [
    {
     "name": "stdout",
     "output_type": "stream",
     "text": [
      "Normalized confusion matrix\n",
      "[[0.92916516 0.0099988  0.06083604]\n",
      " [0.0252809  0.84173566 0.13298344]\n",
      " [0.0841085  0.0919144  0.8239771 ]]\n"
     ]
    },
    {
     "data": {
      "image/png": "[encoded data removed]",
      "text/plain": [
       "<Figure size 432x288 with 2 Axes>"
      ]
     },
     "metadata": {},
     "output_type": "display_data"
    }
   ],
   "source": [
    "plt.figure()\n",
    "plot_confusion_matrix(conf_mat, ['Rejected', 'Non-Core', 'Core'], normalize=True)\n",
    "plt.show()"
   ]
  },
  {
   "cell_type": "markdown",
   "metadata": {},
   "source": [
    "### Repeat training using 80 - 20 train-val split"
   ]
  },
  {
   "cell_type": "code",
   "execution_count": 65,
   "metadata": {},
   "outputs": [],
   "source": [
    "X_p, y_p = [], []\n",
    "for pair in zip(X,y):\n",
    "    X_p.append(prepare_sequence(pair[0], word2index).view(1, -1))\n",
    "    y_p.append(Variable(LongTensor([target2index[pair[1]]])).view(1, -1))\n",
    "    \n",
    "data_p = list(zip(X_p, y_p))\n",
    "random.shuffle(data_p)\n",
    "\n",
    "train_data = data_p[: int(len(data_p) * 0.8)]\n",
    "val_data = data_p[int(len(data_p) * 0.8):]"
   ]
  },
  {
   "cell_type": "code",
   "execution_count": 66,
   "metadata": {},
   "outputs": [],
   "source": [
    "model = gensim.models.KeyedVectors.load_word2vec_format('data/GoogleNews-vectors-negative300.bin', binary=True)"
   ]
  },
  {
   "cell_type": "code",
   "execution_count": 67,
   "metadata": {},
   "outputs": [
    {
     "data": {
      "text/plain": [
       "3000000"
      ]
     },
     "execution_count": 67,
     "metadata": {},
     "output_type": "execute_result"
    }
   ],
   "source": [
    "len(model.index2word)"
   ]
  },
  {
   "cell_type": "code",
   "execution_count": 68,
   "metadata": {},
   "outputs": [],
   "source": [
    "pretrained = []\n",
    "\n",
    "for key in word2index.keys():\n",
    "    try:\n",
    "        pretrained.append(model[word2index[key]])\n",
    "    except:\n",
    "        pretrained.append(np.random.randn(300))\n",
    "        \n",
    "pretrained_vectors = np.vstack(pretrained)"
   ]
  },
  {
   "cell_type": "code",
   "execution_count": 69,
   "metadata": {},
   "outputs": [],
   "source": [
    "EPOCH = 6\n",
    "BATCH_SIZE = 64\n",
    "KERNEL_SIZES = [3,4,5,6]\n",
    "KERNEL_DIM = 200\n",
    "LR = 0.001"
   ]
  },
  {
   "cell_type": "code",
   "execution_count": 70,
   "metadata": {},
   "outputs": [],
   "source": [
    "model = CNNClassifier(len(word2index), 300, len(target2index), KERNEL_DIM, KERNEL_SIZES)\n",
    "model.init_weights(pretrained_vectors) # initialize embedding matrix using pretrained vectors\n",
    "\n",
    "if USE_CUDA:\n",
    "    model = model.cuda()\n",
    "    \n",
    "loss_function = nn.CrossEntropyLoss(weight=class_weights)\n",
    "optimizer = optim.Adam(model.parameters(), lr=LR)\n",
    "scheduler = optim.lr_scheduler.StepLR(optimizer, step_size=5, gamma=0.1)"
   ]
  },
  {
   "cell_type": "code",
   "execution_count": 71,
   "metadata": {},
   "outputs": [
    {
     "name": "stdout",
     "output_type": "stream",
     "text": [
      "CNNClassifier(\n",
      "  (embedding): Embedding(282887, 300)\n",
      "  (convs): ModuleList(\n",
      "    (0): Conv2d(1, 200, kernel_size=(3, 300), stride=(1, 1))\n",
      "    (1): Conv2d(1, 200, kernel_size=(4, 300), stride=(1, 1))\n",
      "    (2): Conv2d(1, 200, kernel_size=(5, 300), stride=(1, 1))\n",
      "    (3): Conv2d(1, 200, kernel_size=(6, 300), stride=(1, 1))\n",
      "  )\n",
      "  (dropout): Dropout(p=0.5)\n",
      "  (fc): Linear(in_features=800, out_features=3, bias=True)\n",
      ")\n"
     ]
    }
   ],
   "source": [
    "print(model)"
   ]
  },
  {
   "cell_type": "code",
   "execution_count": 72,
   "metadata": {},
   "outputs": [
    {
     "name": "stdout",
     "output_type": "stream",
     "text": [
      "<<<<<<<<<<<<<TRAINING>>>>>>>>>>>>\n",
      "TRAIN [Epoch : 0/6][Batch: 0] Batch Train Loss: [1.4623905420303345], Batch Train Accuracy: 21.875\n",
      "TRAIN [Epoch : 0/6][Batch: 100] Batch Train Loss: [0.7397686243057251], Batch Train Accuracy: 57.8125\n",
      "TRAIN [Epoch : 0/6][Batch: 200] Batch Train Loss: [0.6144537329673767], Batch Train Accuracy: 78.125\n",
      "TRAIN [Epoch : 0/6][Batch: 300] Batch Train Loss: [0.5305109024047852], Batch Train Accuracy: 79.6875\n",
      "TRAIN [Epoch : 0/6][Batch: 400] Batch Train Loss: [0.7213408350944519], Batch Train Accuracy: 70.3125\n",
      "TRAIN [Epoch : 0/6][Batch: 500] Batch Train Loss: [0.6289648413658142], Batch Train Accuracy: 73.4375\n",
      "TRAIN [Epoch : 0/6][Batch: 600] Batch Train Loss: [0.5892300605773926], Batch Train Accuracy: 78.125\n",
      "TRAIN [Epoch : 0/6][Batch: 700] Batch Train Loss: [0.49695953726768494], Batch Train Accuracy: 82.8125\n",
      "TRAIN [Epoch : 0/6][Batch: 800] Batch Train Loss: [0.463302880525589], Batch Train Accuracy: 82.8125\n",
      "TRAIN [Epoch : 0/6][Batch: 900] Batch Train Loss: [0.6611754894256592], Batch Train Accuracy: 65.625\n",
      "TRAIN [Epoch : 0/6][Batch: 1000] Batch Train Loss: [0.5275078415870667], Batch Train Accuracy: 79.6875\n",
      "TRAIN [Epoch : 0/6][Batch: 1100] Batch Train Loss: [0.5353125929832458], Batch Train Accuracy: 78.125\n",
      "TRAIN [Epoch : 0/6][Batch: 1200] Batch Train Loss: [0.6080135703086853], Batch Train Accuracy: 79.6875\n",
      "TRAIN [Epoch : 0/6][Batch: 1300] Batch Train Loss: [0.5025686025619507], Batch Train Accuracy: 84.375\n",
      "TRAIN [Epoch : 0/6][Batch: 1400] Batch Train Loss: [0.2945655286312103], Batch Train Accuracy: 84.375\n",
      "TRAIN [Epoch : 0/6][Batch: 1500] Batch Train Loss: [0.3667992651462555], Batch Train Accuracy: 89.0625\n",
      "TRAIN [Epoch : 0/6][Batch: 1600] Batch Train Loss: [0.5448762774467468], Batch Train Accuracy: 81.25\n",
      "TRAIN [Epoch : 0/6][Batch: 1700] Batch Train Loss: [0.3733871281147003], Batch Train Accuracy: 85.9375\n",
      "TRAIN [Epoch : 0/6][Batch: 1800] Batch Train Loss: [0.38375839591026306], Batch Train Accuracy: 87.5\n",
      "TRAIN [Epoch : 0/6][Batch: 1900] Batch Train Loss: [0.372723788022995], Batch Train Accuracy: 82.8125\n",
      "TRAIN [Epoch : 0/6][Batch: 2000] Batch Train Loss: [0.618331789970398], Batch Train Accuracy: 82.8125\n",
      "TRAIN [Epoch : 0/6][Batch: 2100] Batch Train Loss: [0.3267763555049896], Batch Train Accuracy: 85.9375\n",
      "TRAIN [Epoch : 0/6][Batch: 2200] Batch Train Loss: [0.3530491888523102], Batch Train Accuracy: 79.6875\n",
      "TRAIN [Epoch : 0/6][Batch: 2300] Batch Train Loss: [0.25904935598373413], Batch Train Accuracy: 89.0625\n",
      "[TRAIN] EPOCH: 0, Loss: 0.5190008878707886, Accuracy: 78.36212919174548\n",
      "<<<<<<<<<<<<< VALIDATING >>>>>>>>>>>>\n",
      "VAL [Epoch : 0/6][Batch: 0] Batch Test Loss: [0.37243327498435974], Batch Test Accuracy: 81.25\n",
      "VAL [Epoch : 0/6][Batch: 100] Batch Test Loss: [0.4507954716682434], Batch Test Accuracy: 79.6875\n",
      "VAL [Epoch : 0/6][Batch: 200] Batch Test Loss: [0.42854034900665283], Batch Test Accuracy: 85.9375\n",
      "VAL [Epoch : 0/6][Batch: 300] Batch Test Loss: [0.34978941082954407], Batch Test Accuracy: 89.0625\n",
      "VAL [Epoch : 0/6][Batch: 400] Batch Test Loss: [0.2923378646373749], Batch Test Accuracy: 84.375\n",
      "VAL [Epoch : 0/6][Batch: 500] Batch Test Loss: [0.3632921278476715], Batch Test Accuracy: 84.375\n",
      "[VAL] EPOCH: 0, Loss: 0.34390878677368164, Accuracy: 86.38047680412372\n",
      "<<<<<<<<<<<<<TRAINING>>>>>>>>>>>>\n",
      "TRAIN [Epoch : 1/6][Batch: 0] Batch Train Loss: [0.5217161178588867], Batch Train Accuracy: 76.5625\n",
      "TRAIN [Epoch : 1/6][Batch: 100] Batch Train Loss: [0.38561877608299255], Batch Train Accuracy: 85.9375\n",
      "TRAIN [Epoch : 1/6][Batch: 200] Batch Train Loss: [0.20197655260562897], Batch Train Accuracy: 93.75\n",
      "TRAIN [Epoch : 1/6][Batch: 300] Batch Train Loss: [0.4696608781814575], Batch Train Accuracy: 81.25\n",
      "TRAIN [Epoch : 1/6][Batch: 400] Batch Train Loss: [0.30644121766090393], Batch Train Accuracy: 85.9375\n",
      "TRAIN [Epoch : 1/6][Batch: 500] Batch Train Loss: [0.5200782418251038], Batch Train Accuracy: 90.625\n",
      "TRAIN [Epoch : 1/6][Batch: 600] Batch Train Loss: [0.2692635953426361], Batch Train Accuracy: 92.1875\n",
      "TRAIN [Epoch : 1/6][Batch: 700] Batch Train Loss: [0.2242523431777954], Batch Train Accuracy: 87.5\n",
      "TRAIN [Epoch : 1/6][Batch: 800] Batch Train Loss: [0.30404308438301086], Batch Train Accuracy: 87.5\n",
      "TRAIN [Epoch : 1/6][Batch: 900] Batch Train Loss: [0.5919106006622314], Batch Train Accuracy: 81.25\n",
      "TRAIN [Epoch : 1/6][Batch: 1000] Batch Train Loss: [0.29883861541748047], Batch Train Accuracy: 85.9375\n",
      "TRAIN [Epoch : 1/6][Batch: 1100] Batch Train Loss: [0.35376471281051636], Batch Train Accuracy: 84.375\n",
      "TRAIN [Epoch : 1/6][Batch: 1200] Batch Train Loss: [0.27321502566337585], Batch Train Accuracy: 85.9375\n",
      "TRAIN [Epoch : 1/6][Batch: 1300] Batch Train Loss: [0.44363120198249817], Batch Train Accuracy: 78.125\n",
      "TRAIN [Epoch : 1/6][Batch: 1400] Batch Train Loss: [0.2982999086380005], Batch Train Accuracy: 87.5\n",
      "TRAIN [Epoch : 1/6][Batch: 1500] Batch Train Loss: [0.4471895098686218], Batch Train Accuracy: 82.8125\n",
      "TRAIN [Epoch : 1/6][Batch: 1600] Batch Train Loss: [0.25279709696769714], Batch Train Accuracy: 85.9375\n",
      "TRAIN [Epoch : 1/6][Batch: 1700] Batch Train Loss: [0.50202876329422], Batch Train Accuracy: 81.25\n",
      "TRAIN [Epoch : 1/6][Batch: 1800] Batch Train Loss: [0.4732735753059387], Batch Train Accuracy: 79.6875\n",
      "TRAIN [Epoch : 1/6][Batch: 1900] Batch Train Loss: [0.32182881236076355], Batch Train Accuracy: 85.9375\n",
      "TRAIN [Epoch : 1/6][Batch: 2000] Batch Train Loss: [0.32812023162841797], Batch Train Accuracy: 90.625\n",
      "TRAIN [Epoch : 1/6][Batch: 2100] Batch Train Loss: [0.20625635981559753], Batch Train Accuracy: 89.0625\n",
      "TRAIN [Epoch : 1/6][Batch: 2200] Batch Train Loss: [0.24387602508068085], Batch Train Accuracy: 87.5\n",
      "TRAIN [Epoch : 1/6][Batch: 2300] Batch Train Loss: [0.42997175455093384], Batch Train Accuracy: 82.8125\n",
      "[TRAIN] EPOCH: 1, Loss: 0.34893855452537537, Accuracy: 85.82733233018057\n",
      "<<<<<<<<<<<<< VALIDATING >>>>>>>>>>>>\n",
      "VAL [Epoch : 1/6][Batch: 0] Batch Test Loss: [0.4515475034713745], Batch Test Accuracy: 82.8125\n",
      "VAL [Epoch : 1/6][Batch: 100] Batch Test Loss: [0.2826301157474518], Batch Test Accuracy: 89.0625\n",
      "VAL [Epoch : 1/6][Batch: 200] Batch Test Loss: [0.4964202046394348], Batch Test Accuracy: 82.8125\n",
      "VAL [Epoch : 1/6][Batch: 300] Batch Test Loss: [0.3978736102581024], Batch Test Accuracy: 84.375\n",
      "VAL [Epoch : 1/6][Batch: 400] Batch Test Loss: [0.2992837429046631], Batch Test Accuracy: 87.5\n",
      "VAL [Epoch : 1/6][Batch: 500] Batch Test Loss: [0.486964613199234], Batch Test Accuracy: 78.125\n",
      "[VAL] EPOCH: 1, Loss: 0.341642826795578, Accuracy: 86.0985824742268\n",
      "<<<<<<<<<<<<<TRAINING>>>>>>>>>>>>\n",
      "TRAIN [Epoch : 2/6][Batch: 0] Batch Train Loss: [0.35445210337638855], Batch Train Accuracy: 87.5\n",
      "TRAIN [Epoch : 2/6][Batch: 100] Batch Train Loss: [0.2016543745994568], Batch Train Accuracy: 92.1875\n",
      "TRAIN [Epoch : 2/6][Batch: 200] Batch Train Loss: [0.24998553097248077], Batch Train Accuracy: 95.3125\n",
      "TRAIN [Epoch : 2/6][Batch: 300] Batch Train Loss: [0.381910115480423], Batch Train Accuracy: 85.9375\n",
      "TRAIN [Epoch : 2/6][Batch: 400] Batch Train Loss: [0.139961838722229], Batch Train Accuracy: 96.875\n",
      "TRAIN [Epoch : 2/6][Batch: 500] Batch Train Loss: [0.20506201684474945], Batch Train Accuracy: 92.1875\n",
      "TRAIN [Epoch : 2/6][Batch: 600] Batch Train Loss: [0.2403167188167572], Batch Train Accuracy: 92.1875\n",
      "TRAIN [Epoch : 2/6][Batch: 700] Batch Train Loss: [0.2562451958656311], Batch Train Accuracy: 87.5\n",
      "TRAIN [Epoch : 2/6][Batch: 800] Batch Train Loss: [0.3517017662525177], Batch Train Accuracy: 84.375\n",
      "TRAIN [Epoch : 2/6][Batch: 900] Batch Train Loss: [0.20092348754405975], Batch Train Accuracy: 90.625\n",
      "TRAIN [Epoch : 2/6][Batch: 1000] Batch Train Loss: [0.2963765263557434], Batch Train Accuracy: 87.5\n",
      "TRAIN [Epoch : 2/6][Batch: 1100] Batch Train Loss: [0.2363271713256836], Batch Train Accuracy: 90.625\n",
      "TRAIN [Epoch : 2/6][Batch: 1200] Batch Train Loss: [0.2147144079208374], Batch Train Accuracy: 90.625\n",
      "TRAIN [Epoch : 2/6][Batch: 1300] Batch Train Loss: [0.2925039529800415], Batch Train Accuracy: 87.5\n",
      "TRAIN [Epoch : 2/6][Batch: 1400] Batch Train Loss: [0.4647500514984131], Batch Train Accuracy: 89.0625\n",
      "TRAIN [Epoch : 2/6][Batch: 1500] Batch Train Loss: [0.30406472086906433], Batch Train Accuracy: 87.5\n",
      "TRAIN [Epoch : 2/6][Batch: 1600] Batch Train Loss: [0.3204353153705597], Batch Train Accuracy: 87.5\n"
     ]
    },
    {
     "name": "stdout",
     "output_type": "stream",
     "text": [
      "TRAIN [Epoch : 2/6][Batch: 1700] Batch Train Loss: [0.23273801803588867], Batch Train Accuracy: 92.1875\n",
      "TRAIN [Epoch : 2/6][Batch: 1800] Batch Train Loss: [0.3389826714992523], Batch Train Accuracy: 85.9375\n",
      "TRAIN [Epoch : 2/6][Batch: 1900] Batch Train Loss: [0.20546874403953552], Batch Train Accuracy: 90.625\n",
      "TRAIN [Epoch : 2/6][Batch: 2000] Batch Train Loss: [0.28505027294158936], Batch Train Accuracy: 90.625\n",
      "TRAIN [Epoch : 2/6][Batch: 2100] Batch Train Loss: [0.326116681098938], Batch Train Accuracy: 85.9375\n",
      "TRAIN [Epoch : 2/6][Batch: 2200] Batch Train Loss: [0.15611249208450317], Batch Train Accuracy: 93.75\n",
      "TRAIN [Epoch : 2/6][Batch: 2300] Batch Train Loss: [0.23866385221481323], Batch Train Accuracy: 90.625\n",
      "[TRAIN] EPOCH: 2, Loss: 0.2800513505935669, Accuracy: 88.73669926913156\n",
      "<<<<<<<<<<<<< VALIDATING >>>>>>>>>>>>\n",
      "VAL [Epoch : 2/6][Batch: 0] Batch Test Loss: [0.2440955936908722], Batch Test Accuracy: 90.625\n",
      "VAL [Epoch : 2/6][Batch: 100] Batch Test Loss: [0.30443185567855835], Batch Test Accuracy: 87.5\n",
      "VAL [Epoch : 2/6][Batch: 200] Batch Test Loss: [0.5966402292251587], Batch Test Accuracy: 79.6875\n",
      "VAL [Epoch : 2/6][Batch: 300] Batch Test Loss: [0.4897356927394867], Batch Test Accuracy: 76.5625\n",
      "VAL [Epoch : 2/6][Batch: 400] Batch Test Loss: [0.3252102732658386], Batch Test Accuracy: 92.1875\n",
      "VAL [Epoch : 2/6][Batch: 500] Batch Test Loss: [0.38315123319625854], Batch Test Accuracy: 82.8125\n",
      "[VAL] EPOCH: 2, Loss: 0.4313913881778717, Accuracy: 84.31862113402062\n",
      "<<<<<<<<<<<<<TRAINING>>>>>>>>>>>>\n",
      "TRAIN [Epoch : 3/6][Batch: 0] Batch Train Loss: [0.16673581302165985], Batch Train Accuracy: 95.3125\n",
      "TRAIN [Epoch : 3/6][Batch: 100] Batch Train Loss: [0.15538515150547028], Batch Train Accuracy: 93.75\n",
      "TRAIN [Epoch : 3/6][Batch: 200] Batch Train Loss: [0.1774452179670334], Batch Train Accuracy: 92.1875\n",
      "TRAIN [Epoch : 3/6][Batch: 300] Batch Train Loss: [0.1775645613670349], Batch Train Accuracy: 93.75\n",
      "TRAIN [Epoch : 3/6][Batch: 400] Batch Train Loss: [0.17517581582069397], Batch Train Accuracy: 92.1875\n",
      "TRAIN [Epoch : 3/6][Batch: 500] Batch Train Loss: [0.178466334939003], Batch Train Accuracy: 90.625\n",
      "TRAIN [Epoch : 3/6][Batch: 600] Batch Train Loss: [0.15107332170009613], Batch Train Accuracy: 93.75\n",
      "TRAIN [Epoch : 3/6][Batch: 700] Batch Train Loss: [0.1917608678340912], Batch Train Accuracy: 96.875\n",
      "TRAIN [Epoch : 3/6][Batch: 800] Batch Train Loss: [0.13406920433044434], Batch Train Accuracy: 93.75\n",
      "TRAIN [Epoch : 3/6][Batch: 900] Batch Train Loss: [0.21038484573364258], Batch Train Accuracy: 87.5\n",
      "TRAIN [Epoch : 3/6][Batch: 1000] Batch Train Loss: [0.3307136297225952], Batch Train Accuracy: 84.375\n",
      "TRAIN [Epoch : 3/6][Batch: 1100] Batch Train Loss: [0.3915269076824188], Batch Train Accuracy: 85.9375\n",
      "TRAIN [Epoch : 3/6][Batch: 1200] Batch Train Loss: [0.21212732791900635], Batch Train Accuracy: 92.1875\n",
      "TRAIN [Epoch : 3/6][Batch: 1300] Batch Train Loss: [0.3079892694950104], Batch Train Accuracy: 90.625\n",
      "TRAIN [Epoch : 3/6][Batch: 1400] Batch Train Loss: [0.08605211228132248], Batch Train Accuracy: 95.3125\n",
      "TRAIN [Epoch : 3/6][Batch: 1500] Batch Train Loss: [0.3666982352733612], Batch Train Accuracy: 84.375\n",
      "TRAIN [Epoch : 3/6][Batch: 1600] Batch Train Loss: [0.20697344839572906], Batch Train Accuracy: 92.1875\n",
      "TRAIN [Epoch : 3/6][Batch: 1700] Batch Train Loss: [0.17327550053596497], Batch Train Accuracy: 95.3125\n",
      "TRAIN [Epoch : 3/6][Batch: 1800] Batch Train Loss: [0.17059727013111115], Batch Train Accuracy: 90.625\n",
      "TRAIN [Epoch : 3/6][Batch: 1900] Batch Train Loss: [0.37946292757987976], Batch Train Accuracy: 79.6875\n",
      "TRAIN [Epoch : 3/6][Batch: 2000] Batch Train Loss: [0.2900097966194153], Batch Train Accuracy: 93.75\n",
      "TRAIN [Epoch : 3/6][Batch: 2100] Batch Train Loss: [0.1933564692735672], Batch Train Accuracy: 93.75\n",
      "TRAIN [Epoch : 3/6][Batch: 2200] Batch Train Loss: [0.1592990607023239], Batch Train Accuracy: 90.625\n",
      "TRAIN [Epoch : 3/6][Batch: 2300] Batch Train Loss: [0.35316523909568787], Batch Train Accuracy: 87.5\n",
      "[TRAIN] EPOCH: 3, Loss: 0.2198895961046219, Accuracy: 91.25309006878761\n",
      "<<<<<<<<<<<<< VALIDATING >>>>>>>>>>>>\n",
      "VAL [Epoch : 3/6][Batch: 0] Batch Test Loss: [0.29959437251091003], Batch Test Accuracy: 89.0625\n",
      "VAL [Epoch : 3/6][Batch: 100] Batch Test Loss: [0.7288444638252258], Batch Test Accuracy: 82.8125\n",
      "VAL [Epoch : 3/6][Batch: 200] Batch Test Loss: [0.4256215989589691], Batch Test Accuracy: 84.375\n",
      "VAL [Epoch : 3/6][Batch: 300] Batch Test Loss: [0.3554786145687103], Batch Test Accuracy: 84.375\n",
      "VAL [Epoch : 3/6][Batch: 400] Batch Test Loss: [0.8837610483169556], Batch Test Accuracy: 82.8125\n",
      "VAL [Epoch : 3/6][Batch: 500] Batch Test Loss: [0.39398664236068726], Batch Test Accuracy: 79.6875\n",
      "[VAL] EPOCH: 3, Loss: 0.42890122532844543, Accuracy: 86.67579467353951\n",
      "<<<<<<<<<<<<<TRAINING>>>>>>>>>>>>\n",
      "TRAIN [Epoch : 4/6][Batch: 0] Batch Train Loss: [0.10092146694660187], Batch Train Accuracy: 95.3125\n",
      "TRAIN [Epoch : 4/6][Batch: 100] Batch Train Loss: [0.268067330121994], Batch Train Accuracy: 84.375\n",
      "TRAIN [Epoch : 4/6][Batch: 200] Batch Train Loss: [0.13526977598667145], Batch Train Accuracy: 95.3125\n",
      "TRAIN [Epoch : 4/6][Batch: 300] Batch Train Loss: [0.2429691106081009], Batch Train Accuracy: 84.375\n",
      "TRAIN [Epoch : 4/6][Batch: 400] Batch Train Loss: [0.07190635800361633], Batch Train Accuracy: 98.4375\n",
      "TRAIN [Epoch : 4/6][Batch: 500] Batch Train Loss: [0.13253916800022125], Batch Train Accuracy: 96.875\n",
      "TRAIN [Epoch : 4/6][Batch: 600] Batch Train Loss: [0.23154550790786743], Batch Train Accuracy: 87.5\n",
      "TRAIN [Epoch : 4/6][Batch: 700] Batch Train Loss: [0.11364823579788208], Batch Train Accuracy: 96.875\n",
      "TRAIN [Epoch : 4/6][Batch: 800] Batch Train Loss: [0.14184536039829254], Batch Train Accuracy: 90.625\n",
      "TRAIN [Epoch : 4/6][Batch: 900] Batch Train Loss: [0.1863745152950287], Batch Train Accuracy: 92.1875\n",
      "TRAIN [Epoch : 4/6][Batch: 1000] Batch Train Loss: [0.1024002805352211], Batch Train Accuracy: 96.875\n",
      "TRAIN [Epoch : 4/6][Batch: 1100] Batch Train Loss: [0.09892906248569489], Batch Train Accuracy: 92.1875\n",
      "TRAIN [Epoch : 4/6][Batch: 1200] Batch Train Loss: [0.16976307332515717], Batch Train Accuracy: 95.3125\n",
      "TRAIN [Epoch : 4/6][Batch: 1300] Batch Train Loss: [0.12730973958969116], Batch Train Accuracy: 93.75\n",
      "TRAIN [Epoch : 4/6][Batch: 1400] Batch Train Loss: [0.17413048446178436], Batch Train Accuracy: 92.1875\n",
      "TRAIN [Epoch : 4/6][Batch: 1500] Batch Train Loss: [0.2596699595451355], Batch Train Accuracy: 93.75\n",
      "TRAIN [Epoch : 4/6][Batch: 1600] Batch Train Loss: [0.1213119700551033], Batch Train Accuracy: 93.75\n",
      "TRAIN [Epoch : 4/6][Batch: 1700] Batch Train Loss: [0.185017392039299], Batch Train Accuracy: 93.75\n",
      "TRAIN [Epoch : 4/6][Batch: 1800] Batch Train Loss: [0.291339248418808], Batch Train Accuracy: 90.625\n",
      "TRAIN [Epoch : 4/6][Batch: 1900] Batch Train Loss: [0.35143429040908813], Batch Train Accuracy: 85.9375\n",
      "TRAIN [Epoch : 4/6][Batch: 2000] Batch Train Loss: [0.24540063738822937], Batch Train Accuracy: 92.1875\n",
      "TRAIN [Epoch : 4/6][Batch: 2100] Batch Train Loss: [0.3410963714122772], Batch Train Accuracy: 87.5\n",
      "TRAIN [Epoch : 4/6][Batch: 2200] Batch Train Loss: [0.1986125260591507], Batch Train Accuracy: 90.625\n",
      "TRAIN [Epoch : 4/6][Batch: 2300] Batch Train Loss: [0.15728908777236938], Batch Train Accuracy: 93.75\n",
      "[TRAIN] EPOCH: 4, Loss: 0.17050690948963165, Accuracy: 93.2475279449699\n",
      "<<<<<<<<<<<<< VALIDATING >>>>>>>>>>>>\n",
      "VAL [Epoch : 4/6][Batch: 0] Batch Test Loss: [0.8417981863021851], Batch Test Accuracy: 84.375\n",
      "VAL [Epoch : 4/6][Batch: 100] Batch Test Loss: [0.441847562789917], Batch Test Accuracy: 92.1875\n",
      "VAL [Epoch : 4/6][Batch: 200] Batch Test Loss: [0.5254744291305542], Batch Test Accuracy: 87.5\n",
      "VAL [Epoch : 4/6][Batch: 300] Batch Test Loss: [0.49667006731033325], Batch Test Accuracy: 82.8125\n",
      "VAL [Epoch : 4/6][Batch: 400] Batch Test Loss: [0.445980966091156], Batch Test Accuracy: 82.8125\n",
      "VAL [Epoch : 4/6][Batch: 500] Batch Test Loss: [0.8222562074661255], Batch Test Accuracy: 81.25\n",
      "[VAL] EPOCH: 4, Loss: 0.5160552859306335, Accuracy: 86.09589776632302\n",
      "<<<<<<<<<<<<<TRAINING>>>>>>>>>>>>\n",
      "TRAIN [Epoch : 5/6][Batch: 0] Batch Train Loss: [0.03422907739877701], Batch Train Accuracy: 100.0\n",
      "TRAIN [Epoch : 5/6][Batch: 100] Batch Train Loss: [0.14317107200622559], Batch Train Accuracy: 92.1875\n"
     ]
    },
    {
     "name": "stdout",
     "output_type": "stream",
     "text": [
      "TRAIN [Epoch : 5/6][Batch: 200] Batch Train Loss: [0.04968564584851265], Batch Train Accuracy: 100.0\n",
      "TRAIN [Epoch : 5/6][Batch: 300] Batch Train Loss: [0.057037353515625], Batch Train Accuracy: 96.875\n",
      "TRAIN [Epoch : 5/6][Batch: 400] Batch Train Loss: [0.17904233932495117], Batch Train Accuracy: 93.75\n",
      "TRAIN [Epoch : 5/6][Batch: 500] Batch Train Loss: [0.03824222460389137], Batch Train Accuracy: 96.875\n",
      "TRAIN [Epoch : 5/6][Batch: 600] Batch Train Loss: [0.13130611181259155], Batch Train Accuracy: 92.1875\n",
      "TRAIN [Epoch : 5/6][Batch: 700] Batch Train Loss: [0.13940124213695526], Batch Train Accuracy: 90.625\n",
      "TRAIN [Epoch : 5/6][Batch: 800] Batch Train Loss: [0.11825788766145706], Batch Train Accuracy: 95.3125\n",
      "TRAIN [Epoch : 5/6][Batch: 900] Batch Train Loss: [0.07492814213037491], Batch Train Accuracy: 96.875\n",
      "TRAIN [Epoch : 5/6][Batch: 1000] Batch Train Loss: [0.05316253751516342], Batch Train Accuracy: 98.4375\n",
      "TRAIN [Epoch : 5/6][Batch: 1100] Batch Train Loss: [0.031555477529764175], Batch Train Accuracy: 100.0\n",
      "TRAIN [Epoch : 5/6][Batch: 1200] Batch Train Loss: [0.1334681212902069], Batch Train Accuracy: 93.75\n",
      "TRAIN [Epoch : 5/6][Batch: 1300] Batch Train Loss: [0.10079115629196167], Batch Train Accuracy: 95.3125\n",
      "TRAIN [Epoch : 5/6][Batch: 1400] Batch Train Loss: [0.08325657248497009], Batch Train Accuracy: 95.3125\n",
      "TRAIN [Epoch : 5/6][Batch: 1500] Batch Train Loss: [0.2655116319656372], Batch Train Accuracy: 89.0625\n",
      "TRAIN [Epoch : 5/6][Batch: 1600] Batch Train Loss: [0.03458321839570999], Batch Train Accuracy: 98.4375\n",
      "TRAIN [Epoch : 5/6][Batch: 1700] Batch Train Loss: [0.04672421142458916], Batch Train Accuracy: 98.4375\n",
      "TRAIN [Epoch : 5/6][Batch: 1800] Batch Train Loss: [0.10547296702861786], Batch Train Accuracy: 96.875\n",
      "TRAIN [Epoch : 5/6][Batch: 1900] Batch Train Loss: [0.232288658618927], Batch Train Accuracy: 93.75\n",
      "TRAIN [Epoch : 5/6][Batch: 2000] Batch Train Loss: [0.25166064500808716], Batch Train Accuracy: 89.0625\n",
      "TRAIN [Epoch : 5/6][Batch: 2100] Batch Train Loss: [0.15446391701698303], Batch Train Accuracy: 92.1875\n",
      "TRAIN [Epoch : 5/6][Batch: 2200] Batch Train Loss: [0.2376125156879425], Batch Train Accuracy: 90.625\n",
      "TRAIN [Epoch : 5/6][Batch: 2300] Batch Train Loss: [0.1810968518257141], Batch Train Accuracy: 95.3125\n",
      "[TRAIN] EPOCH: 5, Loss: 0.13432249426841736, Accuracy: 94.9819969905417\n",
      "<<<<<<<<<<<<< VALIDATING >>>>>>>>>>>>\n",
      "VAL [Epoch : 5/6][Batch: 0] Batch Test Loss: [0.7566677927970886], Batch Test Accuracy: 79.6875\n",
      "VAL [Epoch : 5/6][Batch: 100] Batch Test Loss: [0.7907040119171143], Batch Test Accuracy: 79.6875\n",
      "VAL [Epoch : 5/6][Batch: 200] Batch Test Loss: [0.17445872724056244], Batch Test Accuracy: 92.1875\n",
      "VAL [Epoch : 5/6][Batch: 300] Batch Test Loss: [0.37817540764808655], Batch Test Accuracy: 84.375\n",
      "VAL [Epoch : 5/6][Batch: 400] Batch Test Loss: [0.48098692297935486], Batch Test Accuracy: 92.1875\n",
      "VAL [Epoch : 5/6][Batch: 500] Batch Test Loss: [0.45027363300323486], Batch Test Accuracy: 87.5\n",
      "[VAL] EPOCH: 5, Loss: 0.635185718536377, Accuracy: 85.87843642611683\n"
     ]
    }
   ],
   "source": [
    "train_loss, train_acc, val_loss, val_acc = [], [], [], []\n",
    "for epoch in range(EPOCH):\n",
    "    \n",
    "#     scheduler.step()\n",
    "    \n",
    "    print('<<<<<<<<<<<<<TRAINING>>>>>>>>>>>>')\n",
    "    epoch_train_loss, epoch_train_acc = train_model(train_data, model, loss_function, epoch)\n",
    "    print('[TRAIN] EPOCH: {}, Loss: {}, Accuracy: {}'.format(epoch, epoch_train_loss, epoch_train_acc))\n",
    "    train_loss.append(epoch_train_loss)\n",
    "    train_acc.append(epoch_train_acc)\n",
    "    \n",
    "    print('<<<<<<<<<<<<< VALIDATING >>>>>>>>>>>>')\n",
    "    epoch_val_loss, epoch_val_acc = validate(val_data, model, loss_function, epoch)\n",
    "    print('[VAL] EPOCH: {}, Loss: {}, Accuracy: {}'.format(epoch, epoch_val_loss, epoch_val_acc))    \n",
    "    val_loss.append(epoch_val_loss)\n",
    "    val_acc.append(epoch_val_acc)"
   ]
  },
  {
   "cell_type": "code",
   "execution_count": 73,
   "metadata": {},
   "outputs": [
    {
     "data": {
      "image/png": "[encoded data removed]",
      "text/plain": [
       "<Figure size 1152x648 with 1 Axes>"
      ]
     },
     "metadata": {},
     "output_type": "display_data"
    }
   ],
   "source": [
    "# Accuracy\n",
    "epochs = range(1, 6 + 1)\n",
    "\n",
    "plt.figure(figsize=(16, 9))\n",
    "plt.plot(epochs, train_acc, 'r', label='Training acc')\n",
    "plt.plot(epochs, val_acc, 'b', label='Validation acc')\n",
    "plt.title('Training and validation accuracy')\n",
    "plt.legend()\n",
    "\n",
    "plt.show()"
   ]
  },
  {
   "cell_type": "code",
   "execution_count": 74,
   "metadata": {},
   "outputs": [
    {
     "data": {
      "image/png": "[encoded data removed]",
      "text/plain": [
       "<Figure size 1152x648 with 1 Axes>"
      ]
     },
     "metadata": {},
     "output_type": "display_data"
    }
   ],
   "source": [
    "# Loss\n",
    "\n",
    "plt.figure(figsize=(16, 9))\n",
    "plt.plot(epochs, train_loss, 'r', label='Training loss')\n",
    "plt.plot(epochs, val_loss, 'b', label='Validation loss')\n",
    "plt.title('Training and validation loss')\n",
    "plt.legend()\n",
    "\n",
    "plt.show()"
   ]
  },
  {
   "cell_type": "code",
   "execution_count": null,
   "metadata": {},
   "outputs": [],
   "source": [
    "accuracy = 0\n",
    "\n",
    "for test in val_data:\n",
    "    pred = model(test[0], False).max(1)[1]\n",
    "    pred = pred.data.tolist()[0]\n",
    "    target = test[1].data.tolist()[0][0]\n",
    "    if pred == target:\n",
    "        accuracy += 1\n",
    "\n",
    "print(accuracy/len(val_data) * 100)"
   ]
  },
  {
   "cell_type": "code",
   "execution_count": 87,
   "metadata": {},
   "outputs": [],
   "source": [
    "if 'Y_VAL' in locals():\n",
    "    del Y_VAL, Y_VAL_PREDS\n",
    "    \n",
    "for data in getBatch(50, val_data):\n",
    "    inputs, targets = pad_to_batch(data)\n",
    "\n",
    "    y_val_pred = model(inputs, False)\n",
    "    preds = y_val_pred.max(1)[1]\n",
    "    \n",
    "    if 'Y_VAL' in locals():\n",
    "        Y_VAL = torch.cat((Y_VAL, targets), 0)\n",
    "        Y_VAL_PREDS = torch.cat((Y_VAL_PREDS, preds), 0)\n",
    "    else:\n",
    "        Y_VAL = targets\n",
    "        Y_VAL_PREDS = preds"
   ]
  },
  {
   "cell_type": "code",
   "execution_count": 88,
   "metadata": {},
   "outputs": [],
   "source": [
    "from sklearn.metrics import confusion_matrix"
   ]
  },
  {
   "cell_type": "code",
   "execution_count": 89,
   "metadata": {},
   "outputs": [],
   "source": [
    "conf_mat = confusion_matrix(Y_VAL.data, Y_VAL_PREDS.data, labels = [0, 1, 2])"
   ]
  },
  {
   "cell_type": "code",
   "execution_count": 90,
   "metadata": {},
   "outputs": [],
   "source": [
    "# funtion to plot confusion matrices, will be needed later\n",
    "\n",
    "def plot_confusion_matrix(cm, classes,\n",
    "                          normalize=False,\n",
    "                          title='Confusion matrix',\n",
    "                          cmap=plt.cm.Blues):\n",
    "    \"\"\"\n",
    "    This function prints and plots the confusion matrix.\n",
    "    Normalization can be applied by setting `normalize=True`.\n",
    "    \"\"\"\n",
    "    if normalize:\n",
    "        cm = cm.astype('float') / cm.sum(axis=1)[:, np.newaxis]\n",
    "        print(\"Normalized confusion matrix\")\n",
    "        plt.imshow(cm, interpolation='nearest', cmap=cmap, vmin=0, vmax=1)\n",
    "    else:\n",
    "        print('Confusion matrix, without normalization')\n",
    "        plt.imshow(cm, interpolation='nearest', cmap=cmap)\n",
    "\n",
    "    print(cm)\n",
    "    \n",
    "    \n",
    "    plt.title(title)\n",
    "    plt.colorbar( )\n",
    "    tick_marks = np.arange(len(classes))\n",
    "    plt.xticks(tick_marks, classes, rotation=45)\n",
    "    plt.yticks(tick_marks, classes)\n",
    "\n",
    "    fmt = '.2f' if normalize else 'd'\n",
    "    thresh = cm.max() / 2.\n",
    "    for i, j in itertools.product(range(cm.shape[0]), range(cm.shape[1])):\n",
    "        plt.text(j, i, format(cm[i, j], fmt),\n",
    "                 horizontalalignment=\"center\",\n",
    "                 color=\"white\" if cm[i, j] > thresh else \"black\")\n",
    "\n",
    "    plt.tight_layout()\n",
    "    plt.ylabel('True label')\n",
    "    plt.xlabel('Predicted label')"
   ]
  },
  {
   "cell_type": "code",
   "execution_count": 91,
   "metadata": {},
   "outputs": [
    {
     "name": "stdout",
     "output_type": "stream",
     "text": [
      "Normalized confusion matrix\n",
      "[[0.89422135 0.01971107 0.08606758]\n",
      " [0.01251637 0.86632222 0.1211614 ]\n",
      " [0.05754643 0.10685326 0.83560031]]\n"
     ]
    },
    {
     "data": {
      "image/png": "[encoded data removed]",
      "text/plain": [
       "<Figure size 432x288 with 2 Axes>"
      ]
     },
     "metadata": {},
     "output_type": "display_data"
    }
   ],
   "source": [
    "plt.figure()\n",
    "plot_confusion_matrix(conf_mat, ['Rejected', 'Non-Core', 'Core'], normalize=True)\n",
    "plt.show()"
   ]
  }
 ],
 "metadata": {
  "kernelspec": {
   "display_name": "Python 3",
   "language": "python",
   "name": "python3"
  },
  "language_info": {
   "codemirror_mode": {
    "name": "ipython",
    "version": 3
   },
   "file_extension": ".py",
   "mimetype": "text/x-python",
   "name": "python",
   "nbconvert_exporter": "python",
   "pygments_lexer": "ipython3",
   "version": "3.6.5"
  }
 },
 "nbformat": 4,
 "nbformat_minor": 2
}
