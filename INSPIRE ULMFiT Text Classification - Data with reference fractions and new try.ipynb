{
 "cells": [
  {
   "cell_type": "code",
   "execution_count": 1,
   "metadata": {},
   "outputs": [
    {
     "name": "stderr",
     "output_type": "stream",
     "text": [
      "/root/py36venv/lib64/python3.6/site-packages/sklearn/ensemble/weight_boosting.py:29: DeprecationWarning: numpy.core.umath_tests is an internal NumPy module and should not be imported. It will be removed in a future NumPy release.\n",
      "  from numpy.core.umath_tests import inner1d\n"
     ]
    }
   ],
   "source": [
    "from fastai.text import *\n",
    "import html\n",
    "import pandas as pd\n",
    "\n",
    "from spacy.lang.en import English\n",
    "from spacy.symbols import ORTH"
   ]
  },
  {
   "cell_type": "markdown",
   "metadata": {},
   "source": [
    "## Load INSPIRE data"
   ]
  },
  {
   "cell_type": "code",
   "execution_count": 2,
   "metadata": {},
   "outputs": [],
   "source": [
    "class PoolingLinearClassifier(nn.Module):\n",
    "    def __init__(self, layers, drops):\n",
    "        super().__init__()\n",
    "        self.layers = nn.ModuleList([\n",
    "            LinearBlock(layers[i], layers[i + 1], drops[i]) for i in range(len(layers) - 1)])\n",
    "        self.ref_layers = nn.ModuleList([\n",
    "            LinearBlock(6, 200,0.0),\n",
    "            LinearBlock(200,100,0.2)])\n",
    "\n",
    "    def pool(self, x, bs, is_max):\n",
    "        f = F.adaptive_max_pool1d if is_max else F.adaptive_avg_pool1d\n",
    "        return f(x.permute(1,2,0), (1,)).view(bs,-1)\n",
    "\n",
    "    def forward(self, text_input, ref_input):\n",
    "        raw_outputs, outputs = text_input\n",
    "        output = outputs[-1]\n",
    "        sl,bs,_ = output.size()\n",
    "        avgpool = self.pool(output, bs, False)\n",
    "        mxpool = self.pool(output, bs, True)\n",
    "        ref_x = ref_input\n",
    "        for l_ref in self.ref_layers:\n",
    "            ref_output = l_ref(ref_x)\n",
    "            ref_x = F.relu(ref_output)\n",
    "        x = torch.cat([output[-1], mxpool, avgpool, ref_output], 1)\n",
    "        for l in self.layers:\n",
    "            l_x = l(x)\n",
    "            x = F.relu(l_x)\n",
    "        return l_x, raw_outputs, outputs\n",
    "\n",
    "\n",
    "class TextPlusReferencesDataset(Dataset):\n",
    "    def __init__(self, x_text, x_ref, y, backwards=False, sos=None, eos=None):\n",
    "        self.x_text, self.x_ref, self.y, self.backwards, self.sos, self.eos = \\\n",
    "        x_text, x_ref, y, backwards, sos, eos\n",
    "        \n",
    "    def __getitem__(self, idx):\n",
    "        x_text = self.x_text[idx]\n",
    "        x_ref = self.x_ref[idx]\n",
    "        if self.backwards: x_text = list(reversed(x_text))\n",
    "        if self.eos is not None: x_text = x_text + [self.eos]\n",
    "        if self.sos is not None: x_text = [self.sos] + x_text\n",
    "        return np.array(x_text), x_ref, self.y[idx]\n",
    "\n",
    "    def __len__(self):\n",
    "        return len(self.x_text)\n",
    "\n",
    "    \n",
    "class MultiInputRNN(nn.Module):\n",
    "\n",
    "    def __init__(self, rnn_encoder, final_classifier_layers, final_classifier_dropouts=[0.2, 0.1]):\n",
    "        super(MultiInputRNN, self).__init__()\n",
    "        self.text_network = rnn_encoder\n",
    "        if hasattr(self.text_network, 'reset'):\n",
    "            self.text_network.reset()\n",
    "        self.combined_network = PoolingLinearClassifier(layers=final_classifier_layers,\n",
    "                                                        drops=final_classifier_dropouts)\n",
    "\n",
    "#         self.reference_network = nn.Linear(in_features=6, out_features=50)\n",
    "#         self.combined_network = nn.ModuleList([\n",
    "#             LinearBlock(final_classifier_layers[i], final_classifier_layers[i + 1],\n",
    "#                         final_classifier_dropouts[i]) for i in range(len(final_classifier_layers) - 1)])\n",
    "\n",
    "    def forward(self, x_text, x_ref):\n",
    "#         x_ref = (x_ref, x_ref)\n",
    "        text_network_output = self.text_network(x_text)\n",
    "#         reference_network_output = self.reference_network(x_ref)\n",
    "        \n",
    "        output = self.combined_network(text_network_output, x_ref)\n",
    "        \n",
    "        return output\n",
    "    \n",
    "    \n",
    "class TextPlusRefModel(BasicModel):\n",
    "    def get_layer_groups(self):\n",
    "        m = self.model\n",
    "        return [(m.text_network.encoder, m.text_network.dropouti),\n",
    "                *zip(m.text_network.rnns, m.text_network.dropouths),\n",
    "                (m.combined_network)]\n",
    "    \n",
    "    \n",
    "def get_rnn_classifier(bptt, max_seq, n_class, n_tok, emb_sz, n_hid, n_layers, pad_token, layers, drops, bidir=False,\n",
    "                      dropouth=0.3, dropouti=0.5, dropoute=0.1, wdrop=0.5, qrnn=False):\n",
    "    rnn_enc = MultiBatchRNN(bptt, max_seq, n_tok, emb_sz, n_hid, n_layers, pad_token=pad_token, bidir=bidir,\n",
    "                      dropouth=dropouth, dropouti=dropouti, dropoute=dropoute, wdrop=wdrop, qrnn=qrnn)\n",
    "    return MultiInputRNN(rnn_enc, layers, drops)"
   ]
  },
  {
   "cell_type": "code",
   "execution_count": 3,
   "metadata": {},
   "outputs": [],
   "source": [
    "BOS = 'xbos'  # beginning-of-sentence tag\n",
    "FLD = 'xfld'  # data field tag\n",
    "\n",
    "PATH=Path('inspire_data_with_reference_fractions_and_num_references_corrected/')\n",
    "PATH.mkdir(exist_ok=True)"
   ]
  },
  {
   "cell_type": "code",
   "execution_count": 4,
   "metadata": {},
   "outputs": [],
   "source": [
    "CLAS_PATH = PATH / 'inspire_clas'\n",
    "CLAS_PATH.mkdir(exist_ok=True)\n",
    "\n",
    "LM_PATH = PATH / 'inspire_lm'\n",
    "LM_PATH.mkdir(exist_ok=True)"
   ]
  },
  {
   "cell_type": "code",
   "execution_count": 88,
   "metadata": {},
   "outputs": [],
   "source": [
    "df_trn = pd.read_pickle('inspire_data_with_reference_fractions_and_num_references/inspire_data_train_corrected.df')\n",
    "df_val = pd.read_pickle('inspire_data_with_reference_fractions_and_num_references/inspire_data_test_corrected.df')"
   ]
  },
  {
   "cell_type": "code",
   "execution_count": 89,
   "metadata": {},
   "outputs": [
    {
     "data": {
      "text/html": [
       "<div>\n",
       "<style scoped>\n",
       "    .dataframe tbody tr th:only-of-type {\n",
       "        vertical-align: middle;\n",
       "    }\n",
       "\n",
       "    .dataframe tbody tr th {\n",
       "        vertical-align: top;\n",
       "    }\n",
       "\n",
       "    .dataframe thead th {\n",
       "        text-align: right;\n",
       "    }\n",
       "</style>\n",
       "<table border=\"1\" class=\"dataframe\">\n",
       "  <thead>\n",
       "    <tr style=\"text-align: right;\">\n",
       "      <th></th>\n",
       "      <th>core_references_fraction_first_order</th>\n",
       "      <th>core_references_fraction_second_order</th>\n",
       "      <th>noncore_references_fraction_first_order</th>\n",
       "      <th>noncore_references_fraction_second_order</th>\n",
       "      <th>total_first_order_references</th>\n",
       "      <th>total_second_order_references</th>\n",
       "      <th>labels</th>\n",
       "      <th>text</th>\n",
       "    </tr>\n",
       "  </thead>\n",
       "  <tbody>\n",
       "    <tr>\n",
       "      <th>0</th>\n",
       "      <td>0.000000</td>\n",
       "      <td>0.000000</td>\n",
       "      <td>0.000000</td>\n",
       "      <td>0.000000</td>\n",
       "      <td>7</td>\n",
       "      <td>0</td>\n",
       "      <td>1</td>\n",
       "      <td>Fusion Neutronics Benchmark Experiment on Stru...</td>\n",
       "    </tr>\n",
       "    <tr>\n",
       "      <th>1</th>\n",
       "      <td>0.000000</td>\n",
       "      <td>0.000000</td>\n",
       "      <td>0.000000</td>\n",
       "      <td>0.000000</td>\n",
       "      <td>0</td>\n",
       "      <td>0</td>\n",
       "      <td>1</td>\n",
       "      <td>Variatsionnye kharakteristiki istochnika ehlek...</td>\n",
       "    </tr>\n",
       "    <tr>\n",
       "      <th>2</th>\n",
       "      <td>0.666667</td>\n",
       "      <td>0.880000</td>\n",
       "      <td>0.166667</td>\n",
       "      <td>0.106667</td>\n",
       "      <td>6</td>\n",
       "      <td>75</td>\n",
       "      <td>2</td>\n",
       "      <td>Axodraw Version 2 &lt;ENDTITLE&gt; We present versio...</td>\n",
       "    </tr>\n",
       "    <tr>\n",
       "      <th>3</th>\n",
       "      <td>0.375000</td>\n",
       "      <td>0.289256</td>\n",
       "      <td>0.437500</td>\n",
       "      <td>0.301653</td>\n",
       "      <td>16</td>\n",
       "      <td>242</td>\n",
       "      <td>1</td>\n",
       "      <td>In-plane correlations between protons and deut...</td>\n",
       "    </tr>\n",
       "    <tr>\n",
       "      <th>4</th>\n",
       "      <td>0.766990</td>\n",
       "      <td>0.795699</td>\n",
       "      <td>0.155340</td>\n",
       "      <td>0.130108</td>\n",
       "      <td>103</td>\n",
       "      <td>6510</td>\n",
       "      <td>2</td>\n",
       "      <td>Strange quark matter and quark stars with the ...</td>\n",
       "    </tr>\n",
       "    <tr>\n",
       "      <th>5</th>\n",
       "      <td>0.166667</td>\n",
       "      <td>0.166667</td>\n",
       "      <td>0.083333</td>\n",
       "      <td>0.333333</td>\n",
       "      <td>12</td>\n",
       "      <td>6</td>\n",
       "      <td>1</td>\n",
       "      <td>The Cosmotron and the Bevatron: The first GeV ...</td>\n",
       "    </tr>\n",
       "    <tr>\n",
       "      <th>6</th>\n",
       "      <td>0.000000</td>\n",
       "      <td>0.000000</td>\n",
       "      <td>0.000000</td>\n",
       "      <td>0.000000</td>\n",
       "      <td>18</td>\n",
       "      <td>0</td>\n",
       "      <td>0</td>\n",
       "      <td>Tableau Proof Systems for Justification Logics...</td>\n",
       "    </tr>\n",
       "    <tr>\n",
       "      <th>7</th>\n",
       "      <td>0.000000</td>\n",
       "      <td>0.000000</td>\n",
       "      <td>0.153846</td>\n",
       "      <td>0.227273</td>\n",
       "      <td>13</td>\n",
       "      <td>22</td>\n",
       "      <td>1</td>\n",
       "      <td>Prompt emission of nucleons in heavy-ion colli...</td>\n",
       "    </tr>\n",
       "    <tr>\n",
       "      <th>8</th>\n",
       "      <td>0.000000</td>\n",
       "      <td>0.000383</td>\n",
       "      <td>0.800000</td>\n",
       "      <td>0.506324</td>\n",
       "      <td>30</td>\n",
       "      <td>2609</td>\n",
       "      <td>1</td>\n",
       "      <td>Star formation in a galactic outflow &lt;ENDTITLE...</td>\n",
       "    </tr>\n",
       "    <tr>\n",
       "      <th>9</th>\n",
       "      <td>0.142857</td>\n",
       "      <td>0.000000</td>\n",
       "      <td>0.000000</td>\n",
       "      <td>0.000000</td>\n",
       "      <td>28</td>\n",
       "      <td>6</td>\n",
       "      <td>0</td>\n",
       "      <td>Transition probabilities of normal states dete...</td>\n",
       "    </tr>\n",
       "    <tr>\n",
       "      <th>10</th>\n",
       "      <td>0.149533</td>\n",
       "      <td>0.095824</td>\n",
       "      <td>0.719626</td>\n",
       "      <td>0.729563</td>\n",
       "      <td>107</td>\n",
       "      <td>8453</td>\n",
       "      <td>1</td>\n",
       "      <td>Looking through the same lens: Shear calibrati...</td>\n",
       "    </tr>\n",
       "    <tr>\n",
       "      <th>11</th>\n",
       "      <td>0.000000</td>\n",
       "      <td>0.000000</td>\n",
       "      <td>0.000000</td>\n",
       "      <td>0.000000</td>\n",
       "      <td>10</td>\n",
       "      <td>0</td>\n",
       "      <td>0</td>\n",
       "      <td>Sparse Hamburger Moment Sequences &lt;ENDTITLE&gt; P...</td>\n",
       "    </tr>\n",
       "    <tr>\n",
       "      <th>12</th>\n",
       "      <td>0.000000</td>\n",
       "      <td>0.000000</td>\n",
       "      <td>0.000000</td>\n",
       "      <td>0.000000</td>\n",
       "      <td>0</td>\n",
       "      <td>0</td>\n",
       "      <td>1</td>\n",
       "      <td>Neutron capture cross sections of 84,86Kr and ...</td>\n",
       "    </tr>\n",
       "    <tr>\n",
       "      <th>13</th>\n",
       "      <td>0.625000</td>\n",
       "      <td>0.938704</td>\n",
       "      <td>0.000000</td>\n",
       "      <td>0.022767</td>\n",
       "      <td>8</td>\n",
       "      <td>571</td>\n",
       "      <td>2</td>\n",
       "      <td>The Hierarchy Problem and Physics Beyond the S...</td>\n",
       "    </tr>\n",
       "    <tr>\n",
       "      <th>14</th>\n",
       "      <td>0.736842</td>\n",
       "      <td>0.735974</td>\n",
       "      <td>0.000000</td>\n",
       "      <td>0.054455</td>\n",
       "      <td>19</td>\n",
       "      <td>606</td>\n",
       "      <td>2</td>\n",
       "      <td>Anarchy and Neutrino Physics &lt;ENDTITLE&gt; The ne...</td>\n",
       "    </tr>\n",
       "    <tr>\n",
       "      <th>15</th>\n",
       "      <td>0.884615</td>\n",
       "      <td>0.576316</td>\n",
       "      <td>0.115385</td>\n",
       "      <td>0.322680</td>\n",
       "      <td>52</td>\n",
       "      <td>4881</td>\n",
       "      <td>2</td>\n",
       "      <td>General Constraints on Dark Matter Decay from ...</td>\n",
       "    </tr>\n",
       "    <tr>\n",
       "      <th>16</th>\n",
       "      <td>0.000000</td>\n",
       "      <td>0.000000</td>\n",
       "      <td>0.312500</td>\n",
       "      <td>0.260870</td>\n",
       "      <td>16</td>\n",
       "      <td>115</td>\n",
       "      <td>1</td>\n",
       "      <td>The excited states of 129 Te populated in the ...</td>\n",
       "    </tr>\n",
       "    <tr>\n",
       "      <th>17</th>\n",
       "      <td>0.000000</td>\n",
       "      <td>0.000000</td>\n",
       "      <td>0.000000</td>\n",
       "      <td>0.000000</td>\n",
       "      <td>54</td>\n",
       "      <td>0</td>\n",
       "      <td>0</td>\n",
       "      <td>Vaporous Marketing: Uncovering Pervasive Elect...</td>\n",
       "    </tr>\n",
       "    <tr>\n",
       "      <th>18</th>\n",
       "      <td>0.357143</td>\n",
       "      <td>0.319502</td>\n",
       "      <td>0.357143</td>\n",
       "      <td>0.365145</td>\n",
       "      <td>14</td>\n",
       "      <td>241</td>\n",
       "      <td>1</td>\n",
       "      <td>Covariant Brackets for Particles and Fields &lt;E...</td>\n",
       "    </tr>\n",
       "    <tr>\n",
       "      <th>19</th>\n",
       "      <td>0.016667</td>\n",
       "      <td>0.057895</td>\n",
       "      <td>0.083333</td>\n",
       "      <td>0.200000</td>\n",
       "      <td>60</td>\n",
       "      <td>190</td>\n",
       "      <td>0</td>\n",
       "      <td>Dynamics of a Qubit in a High-Impedance Transm...</td>\n",
       "    </tr>\n",
       "    <tr>\n",
       "      <th>20</th>\n",
       "      <td>0.000000</td>\n",
       "      <td>0.000000</td>\n",
       "      <td>0.348837</td>\n",
       "      <td>0.291105</td>\n",
       "      <td>43</td>\n",
       "      <td>371</td>\n",
       "      <td>1</td>\n",
       "      <td>Angular distribution and correlation measureme...</td>\n",
       "    </tr>\n",
       "    <tr>\n",
       "      <th>21</th>\n",
       "      <td>0.000000</td>\n",
       "      <td>0.000000</td>\n",
       "      <td>0.000000</td>\n",
       "      <td>0.000000</td>\n",
       "      <td>30</td>\n",
       "      <td>0</td>\n",
       "      <td>0</td>\n",
       "      <td>Verify LTL with Fairness Assumptions Efficient...</td>\n",
       "    </tr>\n",
       "    <tr>\n",
       "      <th>22</th>\n",
       "      <td>1.000000</td>\n",
       "      <td>0.946985</td>\n",
       "      <td>0.000000</td>\n",
       "      <td>0.018760</td>\n",
       "      <td>183</td>\n",
       "      <td>11940</td>\n",
       "      <td>2</td>\n",
       "      <td>A 3-3-1 model with right-handed neutrinos base...</td>\n",
       "    </tr>\n",
       "    <tr>\n",
       "      <th>23</th>\n",
       "      <td>0.000000</td>\n",
       "      <td>0.014085</td>\n",
       "      <td>0.666667</td>\n",
       "      <td>0.319249</td>\n",
       "      <td>9</td>\n",
       "      <td>213</td>\n",
       "      <td>1</td>\n",
       "      <td>Spontaneous fission of isometric states in 250...</td>\n",
       "    </tr>\n",
       "    <tr>\n",
       "      <th>24</th>\n",
       "      <td>0.041667</td>\n",
       "      <td>0.093750</td>\n",
       "      <td>0.333333</td>\n",
       "      <td>0.598958</td>\n",
       "      <td>24</td>\n",
       "      <td>192</td>\n",
       "      <td>2</td>\n",
       "      <td>Studies of Unstable Nuclei with Spin-Polarized...</td>\n",
       "    </tr>\n",
       "    <tr>\n",
       "      <th>25</th>\n",
       "      <td>0.113402</td>\n",
       "      <td>0.231304</td>\n",
       "      <td>0.309278</td>\n",
       "      <td>0.463304</td>\n",
       "      <td>97</td>\n",
       "      <td>2875</td>\n",
       "      <td>1</td>\n",
       "      <td>Fornax: a Flexible Code for Multiphysics Astro...</td>\n",
       "    </tr>\n",
       "    <tr>\n",
       "      <th>26</th>\n",
       "      <td>0.000000</td>\n",
       "      <td>0.000000</td>\n",
       "      <td>0.000000</td>\n",
       "      <td>0.000000</td>\n",
       "      <td>3</td>\n",
       "      <td>0</td>\n",
       "      <td>0</td>\n",
       "      <td>Topological Symmetries of R^3, II &lt;ENDTITLE&gt; I...</td>\n",
       "    </tr>\n",
       "    <tr>\n",
       "      <th>27</th>\n",
       "      <td>0.000000</td>\n",
       "      <td>0.000000</td>\n",
       "      <td>0.000000</td>\n",
       "      <td>0.000000</td>\n",
       "      <td>45</td>\n",
       "      <td>0</td>\n",
       "      <td>0</td>\n",
       "      <td>Producing nanodot arrays with improved hexagon...</td>\n",
       "    </tr>\n",
       "    <tr>\n",
       "      <th>28</th>\n",
       "      <td>0.272727</td>\n",
       "      <td>0.695817</td>\n",
       "      <td>0.000000</td>\n",
       "      <td>0.007605</td>\n",
       "      <td>22</td>\n",
       "      <td>263</td>\n",
       "      <td>2</td>\n",
       "      <td>Research infrastructures in the LHC era: a sci...</td>\n",
       "    </tr>\n",
       "    <tr>\n",
       "      <th>29</th>\n",
       "      <td>0.701923</td>\n",
       "      <td>0.825865</td>\n",
       "      <td>0.038462</td>\n",
       "      <td>0.041596</td>\n",
       "      <td>104</td>\n",
       "      <td>5289</td>\n",
       "      <td>2</td>\n",
       "      <td>Search for the MSSM Neutral Higgs Boson in the...</td>\n",
       "    </tr>\n",
       "    <tr>\n",
       "      <th>...</th>\n",
       "      <td>...</td>\n",
       "      <td>...</td>\n",
       "      <td>...</td>\n",
       "      <td>...</td>\n",
       "      <td>...</td>\n",
       "      <td>...</td>\n",
       "      <td>...</td>\n",
       "      <td>...</td>\n",
       "    </tr>\n",
       "    <tr>\n",
       "      <th>148783</th>\n",
       "      <td>0.000000</td>\n",
       "      <td>0.000000</td>\n",
       "      <td>0.000000</td>\n",
       "      <td>0.000000</td>\n",
       "      <td>0</td>\n",
       "      <td>0</td>\n",
       "      <td>1</td>\n",
       "      <td>Limit on the electric dipole moment of 199Hg &lt;...</td>\n",
       "    </tr>\n",
       "    <tr>\n",
       "      <th>148784</th>\n",
       "      <td>0.000000</td>\n",
       "      <td>0.000000</td>\n",
       "      <td>0.000000</td>\n",
       "      <td>0.000000</td>\n",
       "      <td>0</td>\n",
       "      <td>0</td>\n",
       "      <td>1</td>\n",
       "      <td>Nuclear Giant Resonances in Coordinate Space -...</td>\n",
       "    </tr>\n",
       "    <tr>\n",
       "      <th>148785</th>\n",
       "      <td>0.000000</td>\n",
       "      <td>0.000000</td>\n",
       "      <td>0.000000</td>\n",
       "      <td>0.000000</td>\n",
       "      <td>0</td>\n",
       "      <td>0</td>\n",
       "      <td>1</td>\n",
       "      <td>La Decouverte de la Radioactivite Beta Positiv...</td>\n",
       "    </tr>\n",
       "    <tr>\n",
       "      <th>148786</th>\n",
       "      <td>0.000000</td>\n",
       "      <td>0.000000</td>\n",
       "      <td>0.000000</td>\n",
       "      <td>0.000000</td>\n",
       "      <td>0</td>\n",
       "      <td>0</td>\n",
       "      <td>1</td>\n",
       "      <td>ÉTUDE DES RÉACTIONS (d, t), (d, 3He), (α, t), ...</td>\n",
       "    </tr>\n",
       "    <tr>\n",
       "      <th>148787</th>\n",
       "      <td>0.000000</td>\n",
       "      <td>0.000000</td>\n",
       "      <td>0.000000</td>\n",
       "      <td>0.000000</td>\n",
       "      <td>0</td>\n",
       "      <td>0</td>\n",
       "      <td>1</td>\n",
       "      <td>Dark matter and cosmic plasma physical process...</td>\n",
       "    </tr>\n",
       "    <tr>\n",
       "      <th>148788</th>\n",
       "      <td>0.000000</td>\n",
       "      <td>0.000000</td>\n",
       "      <td>0.000000</td>\n",
       "      <td>0.000000</td>\n",
       "      <td>0</td>\n",
       "      <td>0</td>\n",
       "      <td>1</td>\n",
       "      <td>Positron-Electron Differences in Energy Loss a...</td>\n",
       "    </tr>\n",
       "    <tr>\n",
       "      <th>148789</th>\n",
       "      <td>0.000000</td>\n",
       "      <td>0.000000</td>\n",
       "      <td>0.000000</td>\n",
       "      <td>0.000000</td>\n",
       "      <td>0</td>\n",
       "      <td>0</td>\n",
       "      <td>1</td>\n",
       "      <td>The long wavelength spectrum of the Cosmic Mic...</td>\n",
       "    </tr>\n",
       "    <tr>\n",
       "      <th>148790</th>\n",
       "      <td>0.000000</td>\n",
       "      <td>0.000000</td>\n",
       "      <td>0.000000</td>\n",
       "      <td>0.000000</td>\n",
       "      <td>0</td>\n",
       "      <td>0</td>\n",
       "      <td>1</td>\n",
       "      <td>Development of large-aperture hybrid photo-det...</td>\n",
       "    </tr>\n",
       "    <tr>\n",
       "      <th>148791</th>\n",
       "      <td>0.000000</td>\n",
       "      <td>0.000000</td>\n",
       "      <td>0.000000</td>\n",
       "      <td>0.000000</td>\n",
       "      <td>0</td>\n",
       "      <td>0</td>\n",
       "      <td>1</td>\n",
       "      <td>Feasibility study for the use of Cerenkov radi...</td>\n",
       "    </tr>\n",
       "    <tr>\n",
       "      <th>148792</th>\n",
       "      <td>0.000000</td>\n",
       "      <td>0.000000</td>\n",
       "      <td>0.000000</td>\n",
       "      <td>0.000000</td>\n",
       "      <td>0</td>\n",
       "      <td>0</td>\n",
       "      <td>1</td>\n",
       "      <td>Graphical user interfaces of the dark energy s...</td>\n",
       "    </tr>\n",
       "    <tr>\n",
       "      <th>148793</th>\n",
       "      <td>0.000000</td>\n",
       "      <td>0.000000</td>\n",
       "      <td>0.000000</td>\n",
       "      <td>0.000000</td>\n",
       "      <td>0</td>\n",
       "      <td>0</td>\n",
       "      <td>2</td>\n",
       "      <td>Interpretation of Multiplicity Distributions &lt;...</td>\n",
       "    </tr>\n",
       "    <tr>\n",
       "      <th>148794</th>\n",
       "      <td>0.000000</td>\n",
       "      <td>0.000000</td>\n",
       "      <td>0.000000</td>\n",
       "      <td>0.000000</td>\n",
       "      <td>0</td>\n",
       "      <td>0</td>\n",
       "      <td>1</td>\n",
       "      <td>The application of the Lanczos algorithm for t...</td>\n",
       "    </tr>\n",
       "    <tr>\n",
       "      <th>148795</th>\n",
       "      <td>0.000000</td>\n",
       "      <td>0.000000</td>\n",
       "      <td>0.000000</td>\n",
       "      <td>0.000000</td>\n",
       "      <td>0</td>\n",
       "      <td>0</td>\n",
       "      <td>1</td>\n",
       "      <td>Nuclear EMC effect in non-extensive statistica...</td>\n",
       "    </tr>\n",
       "    <tr>\n",
       "      <th>148796</th>\n",
       "      <td>0.000000</td>\n",
       "      <td>0.000000</td>\n",
       "      <td>0.000000</td>\n",
       "      <td>0.000000</td>\n",
       "      <td>0</td>\n",
       "      <td>0</td>\n",
       "      <td>2</td>\n",
       "      <td>Complex Action Problems in Models for QCD at F...</td>\n",
       "    </tr>\n",
       "    <tr>\n",
       "      <th>148797</th>\n",
       "      <td>0.000000</td>\n",
       "      <td>0.000000</td>\n",
       "      <td>0.000000</td>\n",
       "      <td>0.000000</td>\n",
       "      <td>0</td>\n",
       "      <td>0</td>\n",
       "      <td>1</td>\n",
       "      <td>Production and Beta Half Lives of Nuclei Close...</td>\n",
       "    </tr>\n",
       "    <tr>\n",
       "      <th>148798</th>\n",
       "      <td>0.000000</td>\n",
       "      <td>0.000000</td>\n",
       "      <td>0.000000</td>\n",
       "      <td>0.000000</td>\n",
       "      <td>0</td>\n",
       "      <td>0</td>\n",
       "      <td>1</td>\n",
       "      <td>FIELD THEORY OF THE ELECTRON: SPIN AND ZITTERB...</td>\n",
       "    </tr>\n",
       "    <tr>\n",
       "      <th>148799</th>\n",
       "      <td>0.000000</td>\n",
       "      <td>0.000000</td>\n",
       "      <td>0.000000</td>\n",
       "      <td>0.000000</td>\n",
       "      <td>0</td>\n",
       "      <td>0</td>\n",
       "      <td>2</td>\n",
       "      <td>Investigation of the influence of temperature ...</td>\n",
       "    </tr>\n",
       "    <tr>\n",
       "      <th>148800</th>\n",
       "      <td>0.000000</td>\n",
       "      <td>0.000000</td>\n",
       "      <td>0.000000</td>\n",
       "      <td>0.000000</td>\n",
       "      <td>0</td>\n",
       "      <td>0</td>\n",
       "      <td>1</td>\n",
       "      <td>Issledovaniya na impul'snom sil'notochnom usko...</td>\n",
       "    </tr>\n",
       "    <tr>\n",
       "      <th>148801</th>\n",
       "      <td>0.000000</td>\n",
       "      <td>0.000000</td>\n",
       "      <td>0.000000</td>\n",
       "      <td>0.000000</td>\n",
       "      <td>0</td>\n",
       "      <td>0</td>\n",
       "      <td>1</td>\n",
       "      <td>The low energy nuclear mechanics and the indep...</td>\n",
       "    </tr>\n",
       "    <tr>\n",
       "      <th>148802</th>\n",
       "      <td>0.000000</td>\n",
       "      <td>0.000000</td>\n",
       "      <td>0.000000</td>\n",
       "      <td>0.000000</td>\n",
       "      <td>0</td>\n",
       "      <td>0</td>\n",
       "      <td>1</td>\n",
       "      <td>Angular Distribution of Λ0 and θ0 Decays &lt;ENDT...</td>\n",
       "    </tr>\n",
       "    <tr>\n",
       "      <th>148803</th>\n",
       "      <td>0.000000</td>\n",
       "      <td>0.000000</td>\n",
       "      <td>0.000000</td>\n",
       "      <td>0.000000</td>\n",
       "      <td>0</td>\n",
       "      <td>0</td>\n",
       "      <td>1</td>\n",
       "      <td>Shell-focusing singularities in spherically sy...</td>\n",
       "    </tr>\n",
       "    <tr>\n",
       "      <th>148804</th>\n",
       "      <td>0.000000</td>\n",
       "      <td>0.000000</td>\n",
       "      <td>0.000000</td>\n",
       "      <td>0.000000</td>\n",
       "      <td>0</td>\n",
       "      <td>0</td>\n",
       "      <td>2</td>\n",
       "      <td>Benchmark studies of induced radioactivity and...</td>\n",
       "    </tr>\n",
       "    <tr>\n",
       "      <th>148805</th>\n",
       "      <td>0.000000</td>\n",
       "      <td>0.000000</td>\n",
       "      <td>0.000000</td>\n",
       "      <td>0.000000</td>\n",
       "      <td>0</td>\n",
       "      <td>0</td>\n",
       "      <td>1</td>\n",
       "      <td>Sub-Millimeter Planar Imaging with Positron Em...</td>\n",
       "    </tr>\n",
       "    <tr>\n",
       "      <th>148806</th>\n",
       "      <td>0.000000</td>\n",
       "      <td>0.000000</td>\n",
       "      <td>0.000000</td>\n",
       "      <td>0.000000</td>\n",
       "      <td>0</td>\n",
       "      <td>0</td>\n",
       "      <td>1</td>\n",
       "      <td>The Work of Vampir&amp;#039;s - Competing With the...</td>\n",
       "    </tr>\n",
       "    <tr>\n",
       "      <th>148807</th>\n",
       "      <td>0.000000</td>\n",
       "      <td>0.000000</td>\n",
       "      <td>0.000000</td>\n",
       "      <td>0.000000</td>\n",
       "      <td>0</td>\n",
       "      <td>0</td>\n",
       "      <td>1</td>\n",
       "      <td>Magnetic and Cryogenic Design of the KATRIN WG...</td>\n",
       "    </tr>\n",
       "    <tr>\n",
       "      <th>148808</th>\n",
       "      <td>0.000000</td>\n",
       "      <td>0.000000</td>\n",
       "      <td>0.000000</td>\n",
       "      <td>0.000000</td>\n",
       "      <td>0</td>\n",
       "      <td>0</td>\n",
       "      <td>1</td>\n",
       "      <td>Novel high-power Radio-Frequency sources for I...</td>\n",
       "    </tr>\n",
       "    <tr>\n",
       "      <th>148809</th>\n",
       "      <td>0.000000</td>\n",
       "      <td>0.000000</td>\n",
       "      <td>0.000000</td>\n",
       "      <td>0.000000</td>\n",
       "      <td>0</td>\n",
       "      <td>0</td>\n",
       "      <td>1</td>\n",
       "      <td>New information on r-process nuclei &lt;ENDTITLE&gt;...</td>\n",
       "    </tr>\n",
       "    <tr>\n",
       "      <th>148810</th>\n",
       "      <td>0.000000</td>\n",
       "      <td>0.000000</td>\n",
       "      <td>0.000000</td>\n",
       "      <td>0.000000</td>\n",
       "      <td>0</td>\n",
       "      <td>0</td>\n",
       "      <td>1</td>\n",
       "      <td>Black Holes and Gamma-ray Bursts &lt;ENDTITLE&gt; Ga...</td>\n",
       "    </tr>\n",
       "    <tr>\n",
       "      <th>148811</th>\n",
       "      <td>0.000000</td>\n",
       "      <td>0.000000</td>\n",
       "      <td>0.000000</td>\n",
       "      <td>0.000000</td>\n",
       "      <td>0</td>\n",
       "      <td>0</td>\n",
       "      <td>1</td>\n",
       "      <td>Neutron Interferometry and its Relation to Fun...</td>\n",
       "    </tr>\n",
       "    <tr>\n",
       "      <th>148812</th>\n",
       "      <td>0.000000</td>\n",
       "      <td>0.000000</td>\n",
       "      <td>0.000000</td>\n",
       "      <td>0.000000</td>\n",
       "      <td>0</td>\n",
       "      <td>0</td>\n",
       "      <td>1</td>\n",
       "      <td>Zapusk pozitron-ehlektronnogo istochnika dlya ...</td>\n",
       "    </tr>\n",
       "  </tbody>\n",
       "</table>\n",
       "<p>148813 rows × 8 columns</p>\n",
       "</div>"
      ],
      "text/plain": [
       "        core_references_fraction_first_order  \\\n",
       "0                                   0.000000   \n",
       "1                                   0.000000   \n",
       "2                                   0.666667   \n",
       "3                                   0.375000   \n",
       "4                                   0.766990   \n",
       "5                                   0.166667   \n",
       "6                                   0.000000   \n",
       "7                                   0.000000   \n",
       "8                                   0.000000   \n",
       "9                                   0.142857   \n",
       "10                                  0.149533   \n",
       "11                                  0.000000   \n",
       "12                                  0.000000   \n",
       "13                                  0.625000   \n",
       "14                                  0.736842   \n",
       "15                                  0.884615   \n",
       "16                                  0.000000   \n",
       "17                                  0.000000   \n",
       "18                                  0.357143   \n",
       "19                                  0.016667   \n",
       "20                                  0.000000   \n",
       "21                                  0.000000   \n",
       "22                                  1.000000   \n",
       "23                                  0.000000   \n",
       "24                                  0.041667   \n",
       "25                                  0.113402   \n",
       "26                                  0.000000   \n",
       "27                                  0.000000   \n",
       "28                                  0.272727   \n",
       "29                                  0.701923   \n",
       "...                                      ...   \n",
       "148783                              0.000000   \n",
       "148784                              0.000000   \n",
       "148785                              0.000000   \n",
       "148786                              0.000000   \n",
       "148787                              0.000000   \n",
       "148788                              0.000000   \n",
       "148789                              0.000000   \n",
       "148790                              0.000000   \n",
       "148791                              0.000000   \n",
       "148792                              0.000000   \n",
       "148793                              0.000000   \n",
       "148794                              0.000000   \n",
       "148795                              0.000000   \n",
       "148796                              0.000000   \n",
       "148797                              0.000000   \n",
       "148798                              0.000000   \n",
       "148799                              0.000000   \n",
       "148800                              0.000000   \n",
       "148801                              0.000000   \n",
       "148802                              0.000000   \n",
       "148803                              0.000000   \n",
       "148804                              0.000000   \n",
       "148805                              0.000000   \n",
       "148806                              0.000000   \n",
       "148807                              0.000000   \n",
       "148808                              0.000000   \n",
       "148809                              0.000000   \n",
       "148810                              0.000000   \n",
       "148811                              0.000000   \n",
       "148812                              0.000000   \n",
       "\n",
       "        core_references_fraction_second_order  \\\n",
       "0                                    0.000000   \n",
       "1                                    0.000000   \n",
       "2                                    0.880000   \n",
       "3                                    0.289256   \n",
       "4                                    0.795699   \n",
       "5                                    0.166667   \n",
       "6                                    0.000000   \n",
       "7                                    0.000000   \n",
       "8                                    0.000383   \n",
       "9                                    0.000000   \n",
       "10                                   0.095824   \n",
       "11                                   0.000000   \n",
       "12                                   0.000000   \n",
       "13                                   0.938704   \n",
       "14                                   0.735974   \n",
       "15                                   0.576316   \n",
       "16                                   0.000000   \n",
       "17                                   0.000000   \n",
       "18                                   0.319502   \n",
       "19                                   0.057895   \n",
       "20                                   0.000000   \n",
       "21                                   0.000000   \n",
       "22                                   0.946985   \n",
       "23                                   0.014085   \n",
       "24                                   0.093750   \n",
       "25                                   0.231304   \n",
       "26                                   0.000000   \n",
       "27                                   0.000000   \n",
       "28                                   0.695817   \n",
       "29                                   0.825865   \n",
       "...                                       ...   \n",
       "148783                               0.000000   \n",
       "148784                               0.000000   \n",
       "148785                               0.000000   \n",
       "148786                               0.000000   \n",
       "148787                               0.000000   \n",
       "148788                               0.000000   \n",
       "148789                               0.000000   \n",
       "148790                               0.000000   \n",
       "148791                               0.000000   \n",
       "148792                               0.000000   \n",
       "148793                               0.000000   \n",
       "148794                               0.000000   \n",
       "148795                               0.000000   \n",
       "148796                               0.000000   \n",
       "148797                               0.000000   \n",
       "148798                               0.000000   \n",
       "148799                               0.000000   \n",
       "148800                               0.000000   \n",
       "148801                               0.000000   \n",
       "148802                               0.000000   \n",
       "148803                               0.000000   \n",
       "148804                               0.000000   \n",
       "148805                               0.000000   \n",
       "148806                               0.000000   \n",
       "148807                               0.000000   \n",
       "148808                               0.000000   \n",
       "148809                               0.000000   \n",
       "148810                               0.000000   \n",
       "148811                               0.000000   \n",
       "148812                               0.000000   \n",
       "\n",
       "        noncore_references_fraction_first_order  \\\n",
       "0                                      0.000000   \n",
       "1                                      0.000000   \n",
       "2                                      0.166667   \n",
       "3                                      0.437500   \n",
       "4                                      0.155340   \n",
       "5                                      0.083333   \n",
       "6                                      0.000000   \n",
       "7                                      0.153846   \n",
       "8                                      0.800000   \n",
       "9                                      0.000000   \n",
       "10                                     0.719626   \n",
       "11                                     0.000000   \n",
       "12                                     0.000000   \n",
       "13                                     0.000000   \n",
       "14                                     0.000000   \n",
       "15                                     0.115385   \n",
       "16                                     0.312500   \n",
       "17                                     0.000000   \n",
       "18                                     0.357143   \n",
       "19                                     0.083333   \n",
       "20                                     0.348837   \n",
       "21                                     0.000000   \n",
       "22                                     0.000000   \n",
       "23                                     0.666667   \n",
       "24                                     0.333333   \n",
       "25                                     0.309278   \n",
       "26                                     0.000000   \n",
       "27                                     0.000000   \n",
       "28                                     0.000000   \n",
       "29                                     0.038462   \n",
       "...                                         ...   \n",
       "148783                                 0.000000   \n",
       "148784                                 0.000000   \n",
       "148785                                 0.000000   \n",
       "148786                                 0.000000   \n",
       "148787                                 0.000000   \n",
       "148788                                 0.000000   \n",
       "148789                                 0.000000   \n",
       "148790                                 0.000000   \n",
       "148791                                 0.000000   \n",
       "148792                                 0.000000   \n",
       "148793                                 0.000000   \n",
       "148794                                 0.000000   \n",
       "148795                                 0.000000   \n",
       "148796                                 0.000000   \n",
       "148797                                 0.000000   \n",
       "148798                                 0.000000   \n",
       "148799                                 0.000000   \n",
       "148800                                 0.000000   \n",
       "148801                                 0.000000   \n",
       "148802                                 0.000000   \n",
       "148803                                 0.000000   \n",
       "148804                                 0.000000   \n",
       "148805                                 0.000000   \n",
       "148806                                 0.000000   \n",
       "148807                                 0.000000   \n",
       "148808                                 0.000000   \n",
       "148809                                 0.000000   \n",
       "148810                                 0.000000   \n",
       "148811                                 0.000000   \n",
       "148812                                 0.000000   \n",
       "\n",
       "        noncore_references_fraction_second_order  \\\n",
       "0                                       0.000000   \n",
       "1                                       0.000000   \n",
       "2                                       0.106667   \n",
       "3                                       0.301653   \n",
       "4                                       0.130108   \n",
       "5                                       0.333333   \n",
       "6                                       0.000000   \n",
       "7                                       0.227273   \n",
       "8                                       0.506324   \n",
       "9                                       0.000000   \n",
       "10                                      0.729563   \n",
       "11                                      0.000000   \n",
       "12                                      0.000000   \n",
       "13                                      0.022767   \n",
       "14                                      0.054455   \n",
       "15                                      0.322680   \n",
       "16                                      0.260870   \n",
       "17                                      0.000000   \n",
       "18                                      0.365145   \n",
       "19                                      0.200000   \n",
       "20                                      0.291105   \n",
       "21                                      0.000000   \n",
       "22                                      0.018760   \n",
       "23                                      0.319249   \n",
       "24                                      0.598958   \n",
       "25                                      0.463304   \n",
       "26                                      0.000000   \n",
       "27                                      0.000000   \n",
       "28                                      0.007605   \n",
       "29                                      0.041596   \n",
       "...                                          ...   \n",
       "148783                                  0.000000   \n",
       "148784                                  0.000000   \n",
       "148785                                  0.000000   \n",
       "148786                                  0.000000   \n",
       "148787                                  0.000000   \n",
       "148788                                  0.000000   \n",
       "148789                                  0.000000   \n",
       "148790                                  0.000000   \n",
       "148791                                  0.000000   \n",
       "148792                                  0.000000   \n",
       "148793                                  0.000000   \n",
       "148794                                  0.000000   \n",
       "148795                                  0.000000   \n",
       "148796                                  0.000000   \n",
       "148797                                  0.000000   \n",
       "148798                                  0.000000   \n",
       "148799                                  0.000000   \n",
       "148800                                  0.000000   \n",
       "148801                                  0.000000   \n",
       "148802                                  0.000000   \n",
       "148803                                  0.000000   \n",
       "148804                                  0.000000   \n",
       "148805                                  0.000000   \n",
       "148806                                  0.000000   \n",
       "148807                                  0.000000   \n",
       "148808                                  0.000000   \n",
       "148809                                  0.000000   \n",
       "148810                                  0.000000   \n",
       "148811                                  0.000000   \n",
       "148812                                  0.000000   \n",
       "\n",
       "        total_first_order_references  total_second_order_references  labels  \\\n",
       "0                                  7                              0       1   \n",
       "1                                  0                              0       1   \n",
       "2                                  6                             75       2   \n",
       "3                                 16                            242       1   \n",
       "4                                103                           6510       2   \n",
       "5                                 12                              6       1   \n",
       "6                                 18                              0       0   \n",
       "7                                 13                             22       1   \n",
       "8                                 30                           2609       1   \n",
       "9                                 28                              6       0   \n",
       "10                               107                           8453       1   \n",
       "11                                10                              0       0   \n",
       "12                                 0                              0       1   \n",
       "13                                 8                            571       2   \n",
       "14                                19                            606       2   \n",
       "15                                52                           4881       2   \n",
       "16                                16                            115       1   \n",
       "17                                54                              0       0   \n",
       "18                                14                            241       1   \n",
       "19                                60                            190       0   \n",
       "20                                43                            371       1   \n",
       "21                                30                              0       0   \n",
       "22                               183                          11940       2   \n",
       "23                                 9                            213       1   \n",
       "24                                24                            192       2   \n",
       "25                                97                           2875       1   \n",
       "26                                 3                              0       0   \n",
       "27                                45                              0       0   \n",
       "28                                22                            263       2   \n",
       "29                               104                           5289       2   \n",
       "...                              ...                            ...     ...   \n",
       "148783                             0                              0       1   \n",
       "148784                             0                              0       1   \n",
       "148785                             0                              0       1   \n",
       "148786                             0                              0       1   \n",
       "148787                             0                              0       1   \n",
       "148788                             0                              0       1   \n",
       "148789                             0                              0       1   \n",
       "148790                             0                              0       1   \n",
       "148791                             0                              0       1   \n",
       "148792                             0                              0       1   \n",
       "148793                             0                              0       2   \n",
       "148794                             0                              0       1   \n",
       "148795                             0                              0       1   \n",
       "148796                             0                              0       2   \n",
       "148797                             0                              0       1   \n",
       "148798                             0                              0       1   \n",
       "148799                             0                              0       2   \n",
       "148800                             0                              0       1   \n",
       "148801                             0                              0       1   \n",
       "148802                             0                              0       1   \n",
       "148803                             0                              0       1   \n",
       "148804                             0                              0       2   \n",
       "148805                             0                              0       1   \n",
       "148806                             0                              0       1   \n",
       "148807                             0                              0       1   \n",
       "148808                             0                              0       1   \n",
       "148809                             0                              0       1   \n",
       "148810                             0                              0       1   \n",
       "148811                             0                              0       1   \n",
       "148812                             0                              0       1   \n",
       "\n",
       "                                                     text  \n",
       "0       Fusion Neutronics Benchmark Experiment on Stru...  \n",
       "1       Variatsionnye kharakteristiki istochnika ehlek...  \n",
       "2       Axodraw Version 2 <ENDTITLE> We present versio...  \n",
       "3       In-plane correlations between protons and deut...  \n",
       "4       Strange quark matter and quark stars with the ...  \n",
       "5       The Cosmotron and the Bevatron: The first GeV ...  \n",
       "6       Tableau Proof Systems for Justification Logics...  \n",
       "7       Prompt emission of nucleons in heavy-ion colli...  \n",
       "8       Star formation in a galactic outflow <ENDTITLE...  \n",
       "9       Transition probabilities of normal states dete...  \n",
       "10      Looking through the same lens: Shear calibrati...  \n",
       "11      Sparse Hamburger Moment Sequences <ENDTITLE> P...  \n",
       "12      Neutron capture cross sections of 84,86Kr and ...  \n",
       "13      The Hierarchy Problem and Physics Beyond the S...  \n",
       "14      Anarchy and Neutrino Physics <ENDTITLE> The ne...  \n",
       "15      General Constraints on Dark Matter Decay from ...  \n",
       "16      The excited states of 129 Te populated in the ...  \n",
       "17      Vaporous Marketing: Uncovering Pervasive Elect...  \n",
       "18      Covariant Brackets for Particles and Fields <E...  \n",
       "19      Dynamics of a Qubit in a High-Impedance Transm...  \n",
       "20      Angular distribution and correlation measureme...  \n",
       "21      Verify LTL with Fairness Assumptions Efficient...  \n",
       "22      A 3-3-1 model with right-handed neutrinos base...  \n",
       "23      Spontaneous fission of isometric states in 250...  \n",
       "24      Studies of Unstable Nuclei with Spin-Polarized...  \n",
       "25      Fornax: a Flexible Code for Multiphysics Astro...  \n",
       "26      Topological Symmetries of R^3, II <ENDTITLE> I...  \n",
       "27      Producing nanodot arrays with improved hexagon...  \n",
       "28      Research infrastructures in the LHC era: a sci...  \n",
       "29      Search for the MSSM Neutral Higgs Boson in the...  \n",
       "...                                                   ...  \n",
       "148783  Limit on the electric dipole moment of 199Hg <...  \n",
       "148784  Nuclear Giant Resonances in Coordinate Space -...  \n",
       "148785  La Decouverte de la Radioactivite Beta Positiv...  \n",
       "148786  ÉTUDE DES RÉACTIONS (d, t), (d, 3He), (α, t), ...  \n",
       "148787  Dark matter and cosmic plasma physical process...  \n",
       "148788  Positron-Electron Differences in Energy Loss a...  \n",
       "148789  The long wavelength spectrum of the Cosmic Mic...  \n",
       "148790  Development of large-aperture hybrid photo-det...  \n",
       "148791  Feasibility study for the use of Cerenkov radi...  \n",
       "148792  Graphical user interfaces of the dark energy s...  \n",
       "148793  Interpretation of Multiplicity Distributions <...  \n",
       "148794  The application of the Lanczos algorithm for t...  \n",
       "148795  Nuclear EMC effect in non-extensive statistica...  \n",
       "148796  Complex Action Problems in Models for QCD at F...  \n",
       "148797  Production and Beta Half Lives of Nuclei Close...  \n",
       "148798  FIELD THEORY OF THE ELECTRON: SPIN AND ZITTERB...  \n",
       "148799  Investigation of the influence of temperature ...  \n",
       "148800  Issledovaniya na impul'snom sil'notochnom usko...  \n",
       "148801  The low energy nuclear mechanics and the indep...  \n",
       "148802  Angular Distribution of Λ0 and θ0 Decays <ENDT...  \n",
       "148803  Shell-focusing singularities in spherically sy...  \n",
       "148804  Benchmark studies of induced radioactivity and...  \n",
       "148805  Sub-Millimeter Planar Imaging with Positron Em...  \n",
       "148806  The Work of Vampir&#039;s - Competing With the...  \n",
       "148807  Magnetic and Cryogenic Design of the KATRIN WG...  \n",
       "148808  Novel high-power Radio-Frequency sources for I...  \n",
       "148809  New information on r-process nuclei <ENDTITLE>...  \n",
       "148810  Black Holes and Gamma-ray Bursts <ENDTITLE> Ga...  \n",
       "148811  Neutron Interferometry and its Relation to Fun...  \n",
       "148812  Zapusk pozitron-ehlektronnogo istochnika dlya ...  \n",
       "\n",
       "[148813 rows x 8 columns]"
      ]
     },
     "execution_count": 89,
     "metadata": {},
     "output_type": "execute_result"
    }
   ],
   "source": [
    "df_trn"
   ]
  },
  {
   "cell_type": "code",
   "execution_count": 11,
   "metadata": {},
   "outputs": [],
   "source": [
    "df_trn = df_trn.sample(frac=1).reset_index(drop=True)\n",
    "df_val = df_val.sample(frac=1).reset_index(drop=True)"
   ]
  },
  {
   "cell_type": "code",
   "execution_count": 12,
   "metadata": {},
   "outputs": [],
   "source": [
    "means = df_trn.iloc[:,:-2].mean().values\n",
    "stds = df_trn.iloc[:,:-2].std().values\n",
    "\n",
    "df_trn.iloc[:,:-2] = (df_trn.iloc[:,:-2] - means) / stds\n",
    "df_val.iloc[:,:-2] = (df_val.iloc[:,:-2] - means) / stds"
   ]
  },
  {
   "cell_type": "markdown",
   "metadata": {},
   "source": [
    "## Prepare data for the Language Model"
   ]
  },
  {
   "cell_type": "code",
   "execution_count": 15,
   "metadata": {},
   "outputs": [],
   "source": [
    "# Split the data into training (80 %) and validation (20 % splits)\n",
    "trn_texts = np.array(df_trn['text'])\n",
    "val_texts = np.array(df_val['text'])"
   ]
  },
  {
   "cell_type": "code",
   "execution_count": 16,
   "metadata": {},
   "outputs": [
    {
     "name": "stdout",
     "output_type": "stream",
     "text": [
      "148813, 37203\n"
     ]
    }
   ],
   "source": [
    "print('{}, {}'. format(len(trn_texts), len(val_texts)))"
   ]
  },
  {
   "cell_type": "code",
   "execution_count": 17,
   "metadata": {},
   "outputs": [],
   "source": [
    "CLASSES = ['rejected', 'noncore', 'core']\n",
    "\n",
    "df_trn.to_csv(CLAS_PATH/'train.csv', header=False, index=False)\n",
    "df_val.to_csv(CLAS_PATH/'test.csv', header=False, index=False)\n",
    "\n",
    "\n",
    "(CLAS_PATH/'classes.txt').open('w').writelines(f'{o}\\n' for o in CLASSES)"
   ]
  },
  {
   "cell_type": "code",
   "execution_count": 18,
   "metadata": {},
   "outputs": [],
   "source": [
    "col_names = ['labels','text']\n",
    "\n",
    "df_trn = pd.DataFrame({'text':trn_texts, 'labels':[0]*len(trn_texts)}, columns=col_names)\n",
    "df_val = pd.DataFrame({'text':val_texts, 'labels':[0]*len(val_texts)}, columns=col_names)\n",
    "\n",
    "df_trn.to_csv(LM_PATH/'train.csv', header=False, index=False)\n",
    "df_val.to_csv(LM_PATH/'test.csv', header=False, index=False)"
   ]
  },
  {
   "cell_type": "markdown",
   "metadata": {},
   "source": [
    "## Language Model Tokens"
   ]
  },
  {
   "cell_type": "code",
   "execution_count": 19,
   "metadata": {},
   "outputs": [],
   "source": [
    "class FastLoadTokenizer(Tokenizer):\n",
    "    \"\"\"\n",
    "    Tokenizer which avoids redundant loading of spacy language model\n",
    "\n",
    "    The FastAI Tokenizer class loads all the pipeline components of the spacy model which significantly increases\n",
    "    loading time, especially when doing inference on CPU. This class inherits from the FastAI Tokenizer and is\n",
    "    refactored to avoid redundant loading of the classifier.\n",
    "    \"\"\"\n",
    "    def __init__(self):\n",
    "        self.re_br = re.compile(r'<\\s*br\\s*/?>', re.IGNORECASE)\n",
    "        self.tok = English()\n",
    "        for w in ('<eos>', '<bos>', '<unk>'):\n",
    "            self.tok.tokenizer.add_special_case(w, [{ORTH: w}])\n",
    "\n",
    "    def proc_all(self, ss):\n",
    "        return [self.proc_text(s) for s in ss]\n",
    "\n",
    "    def proc_all_mp(self, ss, ncpus=None):\n",
    "        ncpus = ncpus or num_cpus() // 2\n",
    "        with ProcessPoolExecutor(ncpus) as executor:\n",
    "            return sum(executor.map(self.proc_all, ss), [])"
   ]
  },
  {
   "cell_type": "code",
   "execution_count": 20,
   "metadata": {},
   "outputs": [],
   "source": [
    "re1 = re.compile(r'  +')\n",
    "\n",
    "def fixup(x):\n",
    "    x = x.replace('#39;', \"'\").replace('amp;', '&').replace('#146;', \"'\").replace(\n",
    "        'nbsp;', ' ').replace('#36;', '$').replace('\\\\n', \"\\n\").replace('quot;', \"'\").replace(\n",
    "        '<br />', \"\\n\").replace('\\\\\"', '\"').replace('<unk>', 'u_n').replace(' @.@ ', '.').replace(\n",
    "        ' @-@ ', '-').replace('\\\\', ' \\\\ ')\n",
    "    return re1.sub(' ', html.unescape(x))"
   ]
  },
  {
   "cell_type": "code",
   "execution_count": 21,
   "metadata": {},
   "outputs": [],
   "source": [
    "def get_texts(df):\n",
    "    labels = df[0].values.astype(np.int64)\n",
    "    texts = f'\\n{BOS} {FLD} 1 ' + df[1].astype(str)\n",
    "    texts = list(texts.apply(fixup).values)\n",
    "\n",
    "    tokens = FastLoadTokenizer().proc_all_mp(partition_by_cores(texts))\n",
    "    return tokens, list(labels)"
   ]
  },
  {
   "cell_type": "code",
   "execution_count": 16,
   "metadata": {},
   "outputs": [],
   "source": [
    "df_trn = pd.read_csv(LM_PATH/'train.csv', header=None)\n",
    "df_val = pd.read_csv(LM_PATH/'test.csv', header=None)"
   ]
  },
  {
   "cell_type": "code",
   "execution_count": 17,
   "metadata": {},
   "outputs": [],
   "source": [
    "tok_trn, trn_labels = get_texts(df_trn)\n",
    "tok_val, val_labels = get_texts(df_val)"
   ]
  },
  {
   "cell_type": "code",
   "execution_count": 18,
   "metadata": {},
   "outputs": [
    {
     "data": {
      "text/plain": [
       "223207"
      ]
     },
     "execution_count": 18,
     "metadata": {},
     "output_type": "execute_result"
    }
   ],
   "source": [
    "len(tok_trn)"
   ]
  },
  {
   "cell_type": "code",
   "execution_count": 19,
   "metadata": {},
   "outputs": [],
   "source": [
    "(LM_PATH/'tmp').mkdir(exist_ok=True)"
   ]
  },
  {
   "cell_type": "code",
   "execution_count": 20,
   "metadata": {},
   "outputs": [],
   "source": [
    "np.save(LM_PATH/'tmp'/'tok_trn.npy', tok_trn)\n",
    "np.save(LM_PATH/'tmp'/'tok_val.npy', tok_val)"
   ]
  },
  {
   "cell_type": "code",
   "execution_count": 21,
   "metadata": {},
   "outputs": [],
   "source": [
    "tok_trn = np.load(LM_PATH/'tmp'/'tok_trn.npy')\n",
    "tok_val = np.load(LM_PATH/'tmp'/'tok_val.npy')"
   ]
  },
  {
   "cell_type": "code",
   "execution_count": 22,
   "metadata": {},
   "outputs": [
    {
     "data": {
      "text/plain": [
       "[('the', 2499630),\n",
       " ('of', 1452245),\n",
       " ('.', 1200227),\n",
       " (',', 1139522),\n",
       " ('-', 859041),\n",
       " ('and', 857040),\n",
       " ('in', 739523),\n",
       " ('a', 718441),\n",
       " ('t_up', 703543),\n",
       " ('to', 606198),\n",
       " ('for', 409539),\n",
       " ('is', 398692),\n",
       " ('we', 361115),\n",
       " (')', 347612),\n",
       " ('with', 324668),\n",
       " ('(', 304521),\n",
       " ('$', 273222),\n",
       " ('\\\\', 270513),\n",
       " ('1', 264731),\n",
       " ('\\n', 253217),\n",
       " ('<', 245336),\n",
       " ('that', 242356),\n",
       " ('>', 238730),\n",
       " ('are', 237492),\n",
       " ('xbos', 223207)]"
      ]
     },
     "execution_count": 22,
     "metadata": {},
     "output_type": "execute_result"
    }
   ],
   "source": [
    "freq = Counter(p for o in tok_trn for p in o)\n",
    "freq.most_common(25)"
   ]
  },
  {
   "cell_type": "code",
   "execution_count": 23,
   "metadata": {},
   "outputs": [],
   "source": [
    "max_vocab = 60000\n",
    "min_freq = 2"
   ]
  },
  {
   "cell_type": "code",
   "execution_count": 24,
   "metadata": {},
   "outputs": [],
   "source": [
    "itos = [o for o,c in freq.most_common(max_vocab) if c>min_freq]\n",
    "itos.insert(0, '_pad_')\n",
    "itos.insert(0, '_unk_')"
   ]
  },
  {
   "cell_type": "code",
   "execution_count": 25,
   "metadata": {},
   "outputs": [
    {
     "data": {
      "text/plain": [
       "60002"
      ]
     },
     "execution_count": 25,
     "metadata": {},
     "output_type": "execute_result"
    }
   ],
   "source": [
    "stoi = collections.defaultdict(lambda:0, {v:k for k,v in enumerate(itos)})\n",
    "len(itos)"
   ]
  },
  {
   "cell_type": "code",
   "execution_count": 26,
   "metadata": {},
   "outputs": [],
   "source": [
    "trn_lm = np.array([[stoi[o] for o in p] for p in tok_trn])\n",
    "val_lm = np.array([[stoi[o] for o in p] for p in tok_val])"
   ]
  },
  {
   "cell_type": "code",
   "execution_count": 27,
   "metadata": {},
   "outputs": [],
   "source": [
    "np.save(LM_PATH/'tmp'/'trn_ids.npy', trn_lm)\n",
    "np.save(LM_PATH/'tmp'/'val_ids.npy', val_lm)\n",
    "pickle.dump(itos, open(LM_PATH/'tmp'/'itos.pkl', 'wb'))"
   ]
  },
  {
   "cell_type": "code",
   "execution_count": 28,
   "metadata": {},
   "outputs": [],
   "source": [
    "trn_lm = np.load(LM_PATH/'tmp'/'trn_ids.npy')\n",
    "val_lm = np.load(LM_PATH/'tmp'/'val_ids.npy')\n",
    "itos = pickle.load(open(LM_PATH/'tmp'/'itos.pkl', 'rb'))"
   ]
  },
  {
   "cell_type": "code",
   "execution_count": 29,
   "metadata": {},
   "outputs": [
    {
     "data": {
      "text/plain": [
       "(60002, 223207)"
      ]
     },
     "execution_count": 29,
     "metadata": {},
     "output_type": "execute_result"
    }
   ],
   "source": [
    "vs=len(itos)\n",
    "vs,len(trn_lm)"
   ]
  },
  {
   "cell_type": "markdown",
   "metadata": {},
   "source": [
    "## wikitext103 conversion"
   ]
  },
  {
   "cell_type": "code",
   "execution_count": null,
   "metadata": {},
   "outputs": [],
   "source": [
    "# ! wget -nH -r -np -P {PATH} http://files.fast.ai/models/wt103/"
   ]
  },
  {
   "cell_type": "code",
   "execution_count": 30,
   "metadata": {},
   "outputs": [],
   "source": [
    "em_sz,nh,nl = 400,1150,3"
   ]
  },
  {
   "cell_type": "code",
   "execution_count": 31,
   "metadata": {},
   "outputs": [],
   "source": [
    "PRE_PATH = PATH/'models'/'wt103'\n",
    "PRE_LM_PATH = PRE_PATH/'fwd_wt103.h5'"
   ]
  },
  {
   "cell_type": "code",
   "execution_count": 32,
   "metadata": {},
   "outputs": [],
   "source": [
    "wgts = torch.load(PRE_LM_PATH, map_location=lambda storage, loc: storage)"
   ]
  },
  {
   "cell_type": "code",
   "execution_count": 33,
   "metadata": {},
   "outputs": [],
   "source": [
    "enc_wgts = to_np(wgts['0.encoder.weight'])\n",
    "row_m = enc_wgts.mean(0)"
   ]
  },
  {
   "cell_type": "code",
   "execution_count": 34,
   "metadata": {},
   "outputs": [],
   "source": [
    "itos2 = pickle.load((PRE_PATH/'itos_wt103.pkl').open('rb'))\n",
    "stoi2 = collections.defaultdict(lambda:-1, {v:k for k,v in enumerate(itos2)})"
   ]
  },
  {
   "cell_type": "code",
   "execution_count": 35,
   "metadata": {},
   "outputs": [],
   "source": [
    "new_w = np.zeros((vs, em_sz), dtype=np.float32)\n",
    "for i,w in enumerate(itos):\n",
    "    r = stoi2[w]\n",
    "    new_w[i] = enc_wgts[r] if r>=0 else row_m"
   ]
  },
  {
   "cell_type": "code",
   "execution_count": 36,
   "metadata": {},
   "outputs": [],
   "source": [
    "wgts['0.encoder.weight'] = T(new_w)\n",
    "wgts['0.encoder_with_dropout.embed.weight'] = T(np.copy(new_w))\n",
    "wgts['1.decoder.weight'] = T(np.copy(new_w))"
   ]
  },
  {
   "cell_type": "markdown",
   "metadata": {},
   "source": [
    "## Language Model"
   ]
  },
  {
   "cell_type": "code",
   "execution_count": 37,
   "metadata": {},
   "outputs": [],
   "source": [
    "wd=1e-7\n",
    "bptt=70\n",
    "bs=32\n",
    "opt_fn = partial(optim.Adam, betas=(0.8, 0.99))"
   ]
  },
  {
   "cell_type": "code",
   "execution_count": 38,
   "metadata": {},
   "outputs": [],
   "source": [
    "trn_dl = LanguageModelLoader(np.concatenate(trn_lm), bs, bptt)\n",
    "val_dl = LanguageModelLoader(np.concatenate(val_lm), bs, bptt)\n",
    "md = LanguageModelData(PATH, 1, vs, trn_dl, val_dl, bs=bs, bptt=bptt)"
   ]
  },
  {
   "cell_type": "code",
   "execution_count": 39,
   "metadata": {},
   "outputs": [],
   "source": [
    "drops = np.array([0.25, 0.1, 0.2, 0.02, 0.15])*0.7"
   ]
  },
  {
   "cell_type": "code",
   "execution_count": 40,
   "metadata": {},
   "outputs": [],
   "source": [
    "learner= md.get_model(opt_fn, em_sz, nh, nl, \n",
    "    dropouti=drops[0], dropout=drops[1], wdrop=drops[2], dropoute=drops[3], dropouth=drops[4])\n",
    "\n",
    "learner.metrics = [accuracy]\n",
    "learner.freeze_to(-1)"
   ]
  },
  {
   "cell_type": "code",
   "execution_count": 41,
   "metadata": {},
   "outputs": [],
   "source": [
    "learner.model.load_state_dict(wgts)"
   ]
  },
  {
   "cell_type": "code",
   "execution_count": 42,
   "metadata": {},
   "outputs": [],
   "source": [
    "lr=1e-3\n",
    "lrs = lr"
   ]
  },
  {
   "cell_type": "code",
   "execution_count": null,
   "metadata": {},
   "outputs": [
    {
     "data": {
      "application/vnd.jupyter.widget-view+json": {
       "model_id": "9689945234f548a783b7baa73b1582ff",
       "version_major": 2,
       "version_minor": 0
      },
      "text/plain": [
       "HBox(children=(IntProgress(value=0, description='Epoch', max=1), HTML(value='')))"
      ]
     },
     "metadata": {},
     "output_type": "display_data"
    },
    {
     "name": "stdout",
     "output_type": "stream",
     "text": [
      " 53%|█████▎    | 9499/17992 [17:43<15:50,  8.94it/s, loss=4.57]"
     ]
    }
   ],
   "source": [
    "learner.fit(lrs/2, 1, wds=wd, use_clr=(32,2), cycle_len=1)"
   ]
  },
  {
   "cell_type": "code",
   "execution_count": null,
   "metadata": {},
   "outputs": [],
   "source": [
    "learner.save('lm_last_ft')"
   ]
  },
  {
   "cell_type": "code",
   "execution_count": null,
   "metadata": {},
   "outputs": [],
   "source": [
    "learner.load('lm_last_ft')"
   ]
  },
  {
   "cell_type": "code",
   "execution_count": null,
   "metadata": {},
   "outputs": [],
   "source": [
    "learner.unfreeze()"
   ]
  },
  {
   "cell_type": "code",
   "execution_count": null,
   "metadata": {},
   "outputs": [],
   "source": [
    "learner.lr_find(start_lr=lrs/10, end_lr=lrs*10, linear=True)"
   ]
  },
  {
   "cell_type": "code",
   "execution_count": 90,
   "metadata": {},
   "outputs": [
    {
     "ename": "AttributeError",
     "evalue": "'CircularLR' object has no attribute 'plot'",
     "output_type": "error",
     "traceback": [
      "\u001b[0;31m---------------------------------------------------------------------------\u001b[0m",
      "\u001b[0;31mAttributeError\u001b[0m                            Traceback (most recent call last)",
      "\u001b[0;32m<ipython-input-90-d5621b0b5f81>\u001b[0m in \u001b[0;36m<module>\u001b[0;34m()\u001b[0m\n\u001b[0;32m----> 1\u001b[0;31m \u001b[0mlearner\u001b[0m\u001b[0;34m.\u001b[0m\u001b[0msched\u001b[0m\u001b[0;34m.\u001b[0m\u001b[0mplot\u001b[0m\u001b[0;34m(\u001b[0m\u001b[0;34m)\u001b[0m\u001b[0;34m\u001b[0m\u001b[0m\n\u001b[0m",
      "\u001b[0;31mAttributeError\u001b[0m: 'CircularLR' object has no attribute 'plot'"
     ]
    }
   ],
   "source": [
    "learner.sched.plot()"
   ]
  },
  {
   "cell_type": "code",
   "execution_count": null,
   "metadata": {},
   "outputs": [],
   "source": [
    "learner.fit(lrs, 1, wds=wd, use_clr=(20,10), cycle_len=15)"
   ]
  },
  {
   "cell_type": "code",
   "execution_count": null,
   "metadata": {},
   "outputs": [],
   "source": [
    "learner.save('lm1')"
   ]
  },
  {
   "cell_type": "code",
   "execution_count": null,
   "metadata": {},
   "outputs": [],
   "source": [
    "learner.save_encoder('lm1_enc')"
   ]
  },
  {
   "cell_type": "code",
   "execution_count": null,
   "metadata": {},
   "outputs": [],
   "source": [
    "learner.sched.plot_loss()"
   ]
  },
  {
   "cell_type": "markdown",
   "metadata": {},
   "source": [
    "## Classifier Tokens"
   ]
  },
  {
   "cell_type": "code",
   "execution_count": 22,
   "metadata": {},
   "outputs": [],
   "source": [
    "df_trn = pd.read_csv(CLAS_PATH/'train.csv', header=None)\n",
    "df_val = pd.read_csv(CLAS_PATH/'test.csv', header=None)"
   ]
  },
  {
   "cell_type": "code",
   "execution_count": 23,
   "metadata": {},
   "outputs": [],
   "source": [
    "def get_texts_classifier(df):\n",
    "    labels = df[6].values.astype(np.int64)\n",
    "    texts = f'\\n{BOS} {FLD} 1 ' + df[7].astype(str)\n",
    "    texts = list(texts.apply(fixup).values)\n",
    "    refs = np.array([df[0].values.astype(np.float32), df[1].values.astype(np.float32),\n",
    "            df[2].values.astype(np.float32), df[3].values.astype(np.float32),\n",
    "            df[4].values.astype(np.float32), df[5].values.astype(np.float32)])\n",
    "    tokens = FastLoadTokenizer().proc_all_mp(partition_by_cores(texts))\n",
    "    return tokens, refs.T, list(labels)"
   ]
  },
  {
   "cell_type": "code",
   "execution_count": 24,
   "metadata": {},
   "outputs": [],
   "source": [
    "tok_trn_text, tok_trn_ref, trn_labels = get_texts_classifier(df_trn)\n",
    "tok_val_text, tok_val_ref, val_labels = get_texts_classifier(df_val)"
   ]
  },
  {
   "cell_type": "code",
   "execution_count": 25,
   "metadata": {},
   "outputs": [],
   "source": [
    "(CLAS_PATH/'tmp').mkdir(exist_ok=True)\n",
    "\n",
    "np.save(CLAS_PATH/'tmp'/'tok_trn_text.npy', tok_trn_text)\n",
    "np.save(CLAS_PATH/'tmp'/'tok_val_text.npy', tok_val_text)\n",
    "\n",
    "np.save(CLAS_PATH/'tmp'/'tok_trn_ref.npy', tok_trn_ref)\n",
    "np.save(CLAS_PATH/'tmp'/'tok_val_ref.npy', tok_val_ref)\n",
    "\n",
    "np.save(CLAS_PATH/'tmp'/'trn_labels.npy', trn_labels)\n",
    "np.save(CLAS_PATH/'tmp'/'val_labels.npy', val_labels)"
   ]
  },
  {
   "cell_type": "code",
   "execution_count": 26,
   "metadata": {},
   "outputs": [],
   "source": [
    "tok_trn_text = np.load(CLAS_PATH/'tmp'/'tok_trn_text.npy')\n",
    "tok_val_text = np.load(CLAS_PATH/'tmp'/'tok_val_text.npy')\n",
    "\n",
    "tok_trn_ref = np.load(CLAS_PATH/'tmp'/'tok_trn_ref.npy')\n",
    "tok_val_ref = np.load(CLAS_PATH/'tmp'/'tok_val_ref.npy')\n",
    "\n",
    "trn_labels = np.load(CLAS_PATH/'tmp'/'trn_labels.npy')\n",
    "val_labels = np.load(CLAS_PATH/'tmp'/'val_labels.npy')"
   ]
  },
  {
   "cell_type": "code",
   "execution_count": 27,
   "metadata": {},
   "outputs": [
    {
     "data": {
      "text/plain": [
       "60002"
      ]
     },
     "execution_count": 27,
     "metadata": {},
     "output_type": "execute_result"
    }
   ],
   "source": [
    "itos = pickle.load((LM_PATH/'tmp'/'itos.pkl').open('rb'))\n",
    "stoi = collections.defaultdict(lambda:0, {v:k for k,v in enumerate(itos)})\n",
    "len(itos)"
   ]
  },
  {
   "cell_type": "code",
   "execution_count": 28,
   "metadata": {},
   "outputs": [],
   "source": [
    "trn_clas_text = np.array([[stoi[o] for o in p] for p in tok_trn_text])\n",
    "val_clas_text = np.array([[stoi[o] for o in p] for p in tok_val_text])"
   ]
  },
  {
   "cell_type": "code",
   "execution_count": 29,
   "metadata": {},
   "outputs": [],
   "source": [
    "np.save(CLAS_PATH/'tmp'/'trn_ids_text.npy', trn_clas_text)\n",
    "np.save(CLAS_PATH/'tmp'/'val_ids_text.npy', val_clas_text)"
   ]
  },
  {
   "cell_type": "markdown",
   "metadata": {},
   "source": [
    "## Classifier"
   ]
  },
  {
   "cell_type": "code",
   "execution_count": 30,
   "metadata": {},
   "outputs": [],
   "source": [
    "trn_clas_text = np.load(CLAS_PATH/'tmp'/'trn_ids_text.npy')\n",
    "val_clas_text = np.load(CLAS_PATH/'tmp'/'val_ids_text.npy')"
   ]
  },
  {
   "cell_type": "code",
   "execution_count": 31,
   "metadata": {},
   "outputs": [
    {
     "name": "stdout",
     "output_type": "stream",
     "text": [
      "148813, 37203\n"
     ]
    }
   ],
   "source": [
    "trn_labels = np.squeeze(np.load(CLAS_PATH/'tmp'/'trn_labels.npy'))\n",
    "val_labels = np.squeeze(np.load(CLAS_PATH/'tmp'/'val_labels.npy'))\n",
    "print('{}, {}'.format(len(trn_labels), len(val_labels)))"
   ]
  },
  {
   "cell_type": "code",
   "execution_count": 32,
   "metadata": {},
   "outputs": [],
   "source": [
    "trn_clas_text = trn_clas_text[0:-1]\n",
    "tok_trn_ref = tok_trn_ref[0:-1]\n",
    "trn_labels = trn_labels[:-1]"
   ]
  },
  {
   "cell_type": "code",
   "execution_count": 33,
   "metadata": {},
   "outputs": [],
   "source": [
    "bptt,em_sz,nh,nl = 70,400,1150,3\n",
    "vs = len(itos)\n",
    "opt_fn = partial(optim.Adam, betas=(0.8, 0.99))\n",
    "bs = 9"
   ]
  },
  {
   "cell_type": "code",
   "execution_count": 34,
   "metadata": {},
   "outputs": [],
   "source": [
    "min_lbl = trn_labels.min()\n",
    "trn_labels -= min_lbl\n",
    "val_labels -= min_lbl\n",
    "c=int(trn_labels.max())+1"
   ]
  },
  {
   "cell_type": "code",
   "execution_count": 35,
   "metadata": {},
   "outputs": [],
   "source": [
    "trn_ds = TextPlusReferencesDataset(trn_clas_text, tok_trn_ref, trn_labels)\n",
    "val_ds = TextPlusReferencesDataset(val_clas_text, tok_val_ref, val_labels)\n",
    "trn_samp = SortishSampler(trn_clas_text, key=lambda x: len(trn_clas_text[x]), bs=bs//2)\n",
    "val_samp = SortSampler(val_clas_text, key=lambda x: len(val_clas_text[x]))\n",
    "trn_dl = DataLoader(trn_ds, bs//2, transpose=True, num_workers=1, pad_idx=1, sampler=trn_samp)\n",
    "val_dl = DataLoader(val_ds, bs, transpose=True, num_workers=1, pad_idx=1, sampler=val_samp)\n",
    "md = ModelData(PATH, trn_dl, val_dl)"
   ]
  },
  {
   "cell_type": "code",
   "execution_count": 36,
   "metadata": {},
   "outputs": [],
   "source": [
    "dps = np.array([0.4,0.5,0.05,0.3,0.4])*0.5"
   ]
  },
  {
   "cell_type": "code",
   "execution_count": 37,
   "metadata": {},
   "outputs": [],
   "source": [
    "m = get_rnn_classifier(bptt, 20*70, c, vs, emb_sz=em_sz, n_hid=nh, n_layers=nl, pad_token=1,\n",
    "          layers=[em_sz*3 + 100, 50, c], drops=[dps[4], 0.1],\n",
    "          dropouti=dps[0], wdrop=dps[1], dropoute=dps[2], dropouth=dps[3])"
   ]
  },
  {
   "cell_type": "code",
   "execution_count": 38,
   "metadata": {},
   "outputs": [],
   "source": [
    "opt_fn = partial(optim.Adam, betas=(0.7, 0.99))"
   ]
  },
  {
   "cell_type": "code",
   "execution_count": 39,
   "metadata": {},
   "outputs": [],
   "source": [
    "learn = RNN_Learner(md, TextPlusRefModel(to_gpu(m)), opt_fn=opt_fn)\n",
    "learn.reg_fn = partial(seq2seq_reg, alpha=2, beta=1)\n",
    "learn.clip=25.\n",
    "learn.metrics = [accuracy]"
   ]
  },
  {
   "cell_type": "code",
   "execution_count": 40,
   "metadata": {},
   "outputs": [],
   "source": [
    "# learn.crit = partial(F.cross_entropy, weight=Variable(torch.Tensor([10.0, 0.8, 0.8]).cuda()))"
   ]
  },
  {
   "cell_type": "code",
   "execution_count": 41,
   "metadata": {},
   "outputs": [],
   "source": [
    "lr=3e-3\n",
    "lrm = 2.6\n",
    "lrs = np.array([lr/(lrm**4), lr/(lrm**3), lr/(lrm**2), lr/lrm, lr])"
   ]
  },
  {
   "cell_type": "code",
   "execution_count": 42,
   "metadata": {},
   "outputs": [],
   "source": [
    "lrs=np.array([1e-4,1e-4,1e-4,1e-3,1e-2])"
   ]
  },
  {
   "cell_type": "code",
   "execution_count": 43,
   "metadata": {},
   "outputs": [],
   "source": [
    "wd = 1e-7\n",
    "wd = 0\n",
    "load_model(learn.model.text_network, 'inspire_data_with_reference_fractions_and_num_references_and_fake_data/models/lm1_enc.h5')"
   ]
  },
  {
   "cell_type": "code",
   "execution_count": 44,
   "metadata": {},
   "outputs": [],
   "source": [
    "learn.freeze_to(-1)"
   ]
  },
  {
   "cell_type": "code",
   "execution_count": 45,
   "metadata": {},
   "outputs": [
    {
     "data": {
      "application/vnd.jupyter.widget-view+json": {
       "model_id": "617c646a84774f539ce7f29dd33627e6",
       "version_major": 2,
       "version_minor": 0
      },
      "text/plain": [
       "HBox(children=(IntProgress(value=0, description='Epoch', max=1), HTML(value='')))"
      ]
     },
     "metadata": {},
     "output_type": "display_data"
    },
    {
     "name": "stdout",
     "output_type": "stream",
     "text": [
      " 70%|███████   | 26198/37203 [24:53<10:27, 17.54it/s, loss=1.57] "
     ]
    },
    {
     "data": {
      "image/png": "[encoded data removed]",
      "text/plain": [
       "<Figure size 432x288 with 1 Axes>"
      ]
     },
     "metadata": {},
     "output_type": "display_data"
    }
   ],
   "source": [
    "learn.lr_find(lrs/1000)\n",
    "learn.sched.plot()"
   ]
  },
  {
   "cell_type": "code",
   "execution_count": 46,
   "metadata": {},
   "outputs": [
    {
     "data": {
      "application/vnd.jupyter.widget-view+json": {
       "model_id": "d496140a8dae48a1b0a13e710d5e7d58",
       "version_major": 2,
       "version_minor": 0
      },
      "text/plain": [
       "HBox(children=(IntProgress(value=0, description='Epoch', max=1), HTML(value='')))"
      ]
     },
     "metadata": {},
     "output_type": "display_data"
    },
    {
     "name": "stdout",
     "output_type": "stream",
     "text": [
      "epoch      trn_loss   val_loss   accuracy                        \n",
      "    0      0.39994    283.842989 0.866086  \n"
     ]
    },
    {
     "data": {
      "text/plain": [
       "[283.8429887585754, 0.866086076196764]"
      ]
     },
     "execution_count": 46,
     "metadata": {},
     "output_type": "execute_result"
    }
   ],
   "source": [
    "learn.fit(lrs, 1, wds=wd, cycle_len=1, use_clr=(8,3))"
   ]
  },
  {
   "cell_type": "code",
   "execution_count": 47,
   "metadata": {},
   "outputs": [],
   "source": [
    "learn.save('clas_0_bs10_textplusref')"
   ]
  },
  {
   "cell_type": "code",
   "execution_count": 48,
   "metadata": {},
   "outputs": [],
   "source": [
    "learn.load('clas_0_bs10_textplusref')"
   ]
  },
  {
   "cell_type": "code",
   "execution_count": 49,
   "metadata": {},
   "outputs": [],
   "source": [
    "learn.freeze_to(-2)"
   ]
  },
  {
   "cell_type": "code",
   "execution_count": 50,
   "metadata": {},
   "outputs": [
    {
     "data": {
      "application/vnd.jupyter.widget-view+json": {
       "model_id": "569900bf49fa4a158ef73506507c7dee",
       "version_major": 2,
       "version_minor": 0
      },
      "text/plain": [
       "HBox(children=(IntProgress(value=0, description='Epoch', max=1), HTML(value='')))"
      ]
     },
     "metadata": {},
     "output_type": "display_data"
    },
    {
     "name": "stdout",
     "output_type": "stream",
     "text": [
      " 73%|███████▎  | 27041/37203 [28:15<10:37, 15.95it/s, loss=0.428]"
     ]
    },
    {
     "name": "stderr",
     "output_type": "stream",
     "text": [
      "IOPub message rate exceeded.\n",
      "The notebook server will temporarily stop sending output\n",
      "to the client in order to avoid crashing it.\n",
      "To change this limit, set the config variable\n",
      "`--NotebookApp.iopub_msg_rate_limit`.\n",
      "\n",
      "Current values:\n",
      "NotebookApp.iopub_msg_rate_limit=1000.0 (msgs/sec)\n",
      "NotebookApp.rate_limit_window=3.0 (secs)\n",
      "\n"
     ]
    },
    {
     "name": "stdout",
     "output_type": "stream",
     "text": [
      "epoch      trn_loss   val_loss   accuracy                        \n",
      "    0      0.398402   278.616212 0.853157  \n"
     ]
    },
    {
     "data": {
      "text/plain": [
       "[278.6162115589611, 0.8531570120709874]"
      ]
     },
     "execution_count": 50,
     "metadata": {},
     "output_type": "execute_result"
    }
   ],
   "source": [
    "learn.fit(lrs, 1, wds=wd, cycle_len=1, use_clr=(8,3))"
   ]
  },
  {
   "cell_type": "code",
   "execution_count": 51,
   "metadata": {},
   "outputs": [],
   "source": [
    "learn.save('clas_1_bs10_textplusref')"
   ]
  },
  {
   "cell_type": "code",
   "execution_count": 52,
   "metadata": {},
   "outputs": [],
   "source": [
    "learn.load('clas_1_bs10_textplusref')"
   ]
  },
  {
   "cell_type": "code",
   "execution_count": 53,
   "metadata": {},
   "outputs": [],
   "source": [
    "learn.unfreeze()"
   ]
  },
  {
   "cell_type": "code",
   "execution_count": 77,
   "metadata": {},
   "outputs": [
    {
     "data": {
      "application/vnd.jupyter.widget-view+json": {
       "model_id": "32c31d941fb24293a86e75e1373da28e",
       "version_major": 2,
       "version_minor": 0
      },
      "text/plain": [
       "HBox(children=(IntProgress(value=0, description='Epoch', max=2), HTML(value='')))"
      ]
     },
     "metadata": {},
     "output_type": "display_data"
    },
    {
     "name": "stdout",
     "output_type": "stream",
     "text": [
      "epoch      trn_loss   val_loss   accuracy                          \n",
      "    0      0.351887   6808.796975 0.888342  \n",
      "    1      0.287174   5099.86508 0.894444                          \n"
     ]
    },
    {
     "data": {
      "text/plain": [
       "[5099.865079541973, 0.8944440027267045]"
      ]
     },
     "execution_count": 77,
     "metadata": {},
     "output_type": "execute_result"
    }
   ],
   "source": [
    "learn.fit(lrs, 1, wds=wd, cycle_len=2, use_clr=(32,10))"
   ]
  },
  {
   "cell_type": "code",
   "execution_count": 55,
   "metadata": {},
   "outputs": [
    {
     "data": {
      "image/png": "[encoded data removed]",
      "text/plain": [
       "<Figure size 432x288 with 1 Axes>"
      ]
     },
     "metadata": {},
     "output_type": "display_data"
    }
   ],
   "source": [
    "# After 2 epochs\n",
    "learn.sched.plot_loss()"
   ]
  },
  {
   "cell_type": "code",
   "execution_count": 66,
   "metadata": {},
   "outputs": [
    {
     "data": {
      "image/png": "[encoded data removed]",
      "text/plain": [
       "<Figure size 432x288 with 1 Axes>"
      ]
     },
     "metadata": {},
     "output_type": "display_data"
    }
   ],
   "source": [
    "# After 2 + 2 epochs\n",
    "learn.sched.plot_loss()"
   ]
  },
  {
   "cell_type": "code",
   "execution_count": 78,
   "metadata": {},
   "outputs": [
    {
     "data": {
      "image/png": "[encoded data removed]",
      "text/plain": [
       "<Figure size 432x288 with 1 Axes>"
      ]
     },
     "metadata": {},
     "output_type": "display_data"
    }
   ],
   "source": [
    "# After 2 + 2 + 2 epochs\n",
    "learn.sched.plot_loss()"
   ]
  },
  {
   "cell_type": "code",
   "execution_count": 79,
   "metadata": {},
   "outputs": [],
   "source": [
    "learn.save('clas_2_bs10_2plus2plus2epochs')"
   ]
  },
  {
   "cell_type": "code",
   "execution_count": 57,
   "metadata": {},
   "outputs": [
    {
     "data": {
      "image/png": "[encoded data removed]",
      "text/plain": [
       "<Figure size 432x288 with 1 Axes>"
      ]
     },
     "metadata": {},
     "output_type": "display_data"
    }
   ],
   "source": [
    "# 2 epochs\n",
    "learn.sched.plot_lr()"
   ]
  },
  {
   "cell_type": "code",
   "execution_count": 107,
   "metadata": {},
   "outputs": [
    {
     "data": {
      "image/png": "[encoded data removed]",
      "text/plain": [
       "<Figure size 432x288 with 1 Axes>"
      ]
     },
     "metadata": {},
     "output_type": "display_data"
    }
   ],
   "source": [
    "# 4 + 2 epochs\n",
    "learn.sched.plot_lr()"
   ]
  },
  {
   "cell_type": "markdown",
   "metadata": {},
   "source": [
    "## Make predictions"
   ]
  },
  {
   "cell_type": "code",
   "execution_count": 80,
   "metadata": {},
   "outputs": [
    {
     "name": "stdout",
     "output_type": "stream",
     "text": [
      "CPU times: user 3min 34s, sys: 56.5 s, total: 4min 30s\n",
      "Wall time: 4min 30s\n"
     ]
    }
   ],
   "source": [
    "%%time\n",
    "\n",
    "preds, target = learn.predict_with_targs()"
   ]
  },
  {
   "cell_type": "code",
   "execution_count": 177,
   "metadata": {},
   "outputs": [
    {
     "name": "stdout",
     "output_type": "stream",
     "text": [
      "Time per sample: 0.014558084540348803 s\n",
      "Samples per second: 68.69035532994924\n"
     ]
    }
   ],
   "source": [
    "# Calcualate the inference times\n",
    "time_taken = 3 * 60 + 17\n",
    "time_per_sample = time_taken / len(target)\n",
    "print('Time per sample: {} s'.format(time_per_sample))\n",
    "print('Samples per second: {}'.format(1/time_per_sample))"
   ]
  },
  {
   "cell_type": "code",
   "execution_count": 81,
   "metadata": {},
   "outputs": [],
   "source": [
    "pred = preds.argmax(axis=1)"
   ]
  },
  {
   "cell_type": "code",
   "execution_count": 82,
   "metadata": {},
   "outputs": [],
   "source": [
    "from sklearn.metrics import confusion_matrix"
   ]
  },
  {
   "cell_type": "code",
   "execution_count": 83,
   "metadata": {},
   "outputs": [],
   "source": [
    "conf_mat = confusion_matrix(target, pred, labels = [0, 1, 2])"
   ]
  },
  {
   "cell_type": "code",
   "execution_count": 84,
   "metadata": {},
   "outputs": [],
   "source": [
    "# funtion to plot confusion matrices, will be needed later\n",
    "\n",
    "def plot_confusion_matrix(cm, classes,\n",
    "                          normalize=False,\n",
    "                          title='Confusion matrix',\n",
    "                          cmap=plt.cm.Blues):\n",
    "    \"\"\"\n",
    "    This function prints and plots the confusion matrix.\n",
    "    Normalization can be applied by setting `normalize=True`.\n",
    "    \"\"\"\n",
    "    if normalize:\n",
    "        cm = cm.astype('float') / cm.sum(axis=1)[:, np.newaxis]\n",
    "        print(\"Normalized confusion matrix\")\n",
    "        plt.imshow(cm, interpolation='nearest', cmap=cmap, vmin=0, vmax=1)\n",
    "    else:\n",
    "        print('Confusion matrix, without normalization')\n",
    "        plt.imshow(cm, interpolation='nearest', cmap=cmap)\n",
    "\n",
    "    print(cm)\n",
    "    \n",
    "    \n",
    "    plt.title(title)\n",
    "    plt.colorbar( )\n",
    "    tick_marks = np.arange(len(classes))\n",
    "    plt.xticks(tick_marks, classes, rotation=45)\n",
    "    plt.yticks(tick_marks, classes)\n",
    "\n",
    "    fmt = '.2f' if normalize else 'd'\n",
    "    thresh = cm.max() / 2.\n",
    "    for i, j in itertools.product(range(cm.shape[0]), range(cm.shape[1])):\n",
    "        plt.text(j, i, format(cm[i, j], fmt),\n",
    "                 horizontalalignment=\"center\",\n",
    "                 color=\"white\" if cm[i, j] > thresh else \"black\")\n",
    "\n",
    "    plt.tight_layout()\n",
    "    plt.ylabel('True label')\n",
    "    plt.xlabel('Predicted label')"
   ]
  },
  {
   "cell_type": "code",
   "execution_count": 85,
   "metadata": {},
   "outputs": [
    {
     "name": "stdout",
     "output_type": "stream",
     "text": [
      "Normalized confusion matrix\n",
      "[[0.91309 0.07835 0.00855]\n",
      " [0.0438  0.8732  0.083  ]\n",
      " [0.00685 0.08582 0.90734]]\n"
     ]
    },
    {
     "data": {
      "image/png": "[encoded data removed]",
      "text/plain": [
       "<Figure size 432x288 with 2 Axes>"
      ]
     },
     "metadata": {},
     "output_type": "display_data"
    }
   ],
   "source": [
    "plt.figure()\n",
    "plot_confusion_matrix(conf_mat, ['Rejected', 'Non-Core', 'Core'], normalize=True)\n",
    "plt.show()"
   ]
  },
  {
   "cell_type": "code",
   "execution_count": 86,
   "metadata": {},
   "outputs": [
    {
     "name": "stdout",
     "output_type": "stream",
     "text": [
      "Confusion matrix, without normalization\n",
      "[[ 7365   632    69]\n",
      " [  675 13456  1279]\n",
      " [   94  1178 12455]]\n"
     ]
    },
    {
     "data": {
      "image/png": "[encoded data removed]",
      "text/plain": [
       "<Figure size 432x288 with 2 Axes>"
      ]
     },
     "metadata": {},
     "output_type": "display_data"
    }
   ],
   "source": [
    "plt.figure()\n",
    "plot_confusion_matrix(conf_mat, ['Rejected', 'Non-Core', 'Core'], normalize=False)\n",
    "plt.show()"
   ]
  },
  {
   "cell_type": "code",
   "execution_count": 476,
   "metadata": {},
   "outputs": [
    {
     "data": {
      "text/plain": [
       "LinearBlock(\n",
       "  (lin): Linear(in_features=1250, out_features=50, bias=True)\n",
       "  (drop): Dropout(p=0.2)\n",
       "  (bn): BatchNorm1d(1250, eps=1e-05, momentum=0.1, affine=True, track_running_stats=True)\n",
       ")"
      ]
     },
     "execution_count": 476,
     "metadata": {},
     "output_type": "execute_result"
    }
   ],
   "source": [
    "learn.model.combined_network.layers[0]"
   ]
  },
  {
   "cell_type": "code",
   "execution_count": 103,
   "metadata": {},
   "outputs": [
    {
     "ename": "AttributeError",
     "evalue": "'MultiInputRNN' object has no attribute 'reference_network'",
     "output_type": "error",
     "traceback": [
      "\u001b[0;31m---------------------------------------------------------------------------\u001b[0m",
      "\u001b[0;31mAttributeError\u001b[0m                            Traceback (most recent call last)",
      "\u001b[0;32m<ipython-input-103-b753179ed516>\u001b[0m in \u001b[0;36m<module>\u001b[0;34m()\u001b[0m\n\u001b[1;32m      1\u001b[0m \u001b[0mplt\u001b[0m\u001b[0;34m.\u001b[0m\u001b[0mfigure\u001b[0m\u001b[0;34m(\u001b[0m\u001b[0mfigsize\u001b[0m\u001b[0;34m=\u001b[0m\u001b[0;34m(\u001b[0m\u001b[0;36m16\u001b[0m\u001b[0;34m,\u001b[0m \u001b[0;36m9\u001b[0m\u001b[0;34m)\u001b[0m\u001b[0;34m)\u001b[0m\u001b[0;34m\u001b[0m\u001b[0m\n\u001b[1;32m      2\u001b[0m \u001b[0mplt\u001b[0m\u001b[0;34m.\u001b[0m\u001b[0msubplot\u001b[0m\u001b[0;34m(\u001b[0m\u001b[0;36m511\u001b[0m\u001b[0;34m)\u001b[0m\u001b[0;34m\u001b[0m\u001b[0m\n\u001b[0;32m----> 3\u001b[0;31m \u001b[0mplt\u001b[0m\u001b[0;34m.\u001b[0m\u001b[0mplot\u001b[0m\u001b[0;34m(\u001b[0m\u001b[0mlearn\u001b[0m\u001b[0;34m.\u001b[0m\u001b[0mmodel\u001b[0m\u001b[0;34m.\u001b[0m\u001b[0mreference_network\u001b[0m\u001b[0;34m.\u001b[0m\u001b[0mlayers\u001b[0m\u001b[0;34m[\u001b[0m\u001b[0;36m0\u001b[0m\u001b[0;34m]\u001b[0m\u001b[0;34m.\u001b[0m\u001b[0mlin\u001b[0m\u001b[0;34m.\u001b[0m\u001b[0mweight\u001b[0m\u001b[0;34m.\u001b[0m\u001b[0mcpu\u001b[0m\u001b[0;34m(\u001b[0m\u001b[0;34m)\u001b[0m\u001b[0;34m.\u001b[0m\u001b[0mdetach\u001b[0m\u001b[0;34m(\u001b[0m\u001b[0;34m)\u001b[0m\u001b[0;34m.\u001b[0m\u001b[0mnumpy\u001b[0m\u001b[0;34m(\u001b[0m\u001b[0;34m)\u001b[0m\u001b[0;34m)\u001b[0m\u001b[0;34m\u001b[0m\u001b[0m\n\u001b[0m\u001b[1;32m      4\u001b[0m \u001b[0mplt\u001b[0m\u001b[0;34m.\u001b[0m\u001b[0msubplot\u001b[0m\u001b[0;34m(\u001b[0m\u001b[0;36m512\u001b[0m\u001b[0;34m)\u001b[0m\u001b[0;34m\u001b[0m\u001b[0m\n\u001b[1;32m      5\u001b[0m \u001b[0mplt\u001b[0m\u001b[0;34m.\u001b[0m\u001b[0mplot\u001b[0m\u001b[0;34m(\u001b[0m\u001b[0mlearn\u001b[0m\u001b[0;34m.\u001b[0m\u001b[0mmodel\u001b[0m\u001b[0;34m.\u001b[0m\u001b[0mcombined_network\u001b[0m\u001b[0;34m.\u001b[0m\u001b[0mlayers\u001b[0m\u001b[0;34m[\u001b[0m\u001b[0;36m0\u001b[0m\u001b[0;34m]\u001b[0m\u001b[0;34m.\u001b[0m\u001b[0mlin\u001b[0m\u001b[0;34m.\u001b[0m\u001b[0mweight\u001b[0m\u001b[0;34m.\u001b[0m\u001b[0mcpu\u001b[0m\u001b[0;34m(\u001b[0m\u001b[0;34m)\u001b[0m\u001b[0;34m.\u001b[0m\u001b[0mdetach\u001b[0m\u001b[0;34m(\u001b[0m\u001b[0;34m)\u001b[0m\u001b[0;34m.\u001b[0m\u001b[0mnumpy\u001b[0m\u001b[0;34m(\u001b[0m\u001b[0;34m)\u001b[0m\u001b[0;34m.\u001b[0m\u001b[0mT\u001b[0m\u001b[0;34m)\u001b[0m\u001b[0;34m\u001b[0m\u001b[0m\n",
      "\u001b[0;32m~/py36venv/lib64/python3.6/site-packages/torch/nn/modules/module.py\u001b[0m in \u001b[0;36m__getattr__\u001b[0;34m(self, name)\u001b[0m\n\u001b[1;32m    516\u001b[0m                 \u001b[0;32mreturn\u001b[0m \u001b[0mmodules\u001b[0m\u001b[0;34m[\u001b[0m\u001b[0mname\u001b[0m\u001b[0;34m]\u001b[0m\u001b[0;34m\u001b[0m\u001b[0m\n\u001b[1;32m    517\u001b[0m         raise AttributeError(\"'{}' object has no attribute '{}'\".format(\n\u001b[0;32m--> 518\u001b[0;31m             type(self).__name__, name))\n\u001b[0m\u001b[1;32m    519\u001b[0m \u001b[0;34m\u001b[0m\u001b[0m\n\u001b[1;32m    520\u001b[0m     \u001b[0;32mdef\u001b[0m \u001b[0m__setattr__\u001b[0m\u001b[0;34m(\u001b[0m\u001b[0mself\u001b[0m\u001b[0;34m,\u001b[0m \u001b[0mname\u001b[0m\u001b[0;34m,\u001b[0m \u001b[0mvalue\u001b[0m\u001b[0;34m)\u001b[0m\u001b[0;34m:\u001b[0m\u001b[0;34m\u001b[0m\u001b[0m\n",
      "\u001b[0;31mAttributeError\u001b[0m: 'MultiInputRNN' object has no attribute 'reference_network'"
     ]
    },
    {
     "data": {
      "image/png": "[encoded data removed]",
      "text/plain": [
       "<Figure size 1152x648 with 1 Axes>"
      ]
     },
     "metadata": {},
     "output_type": "display_data"
    }
   ],
   "source": [
    "plt.figure(figsize=(16, 9))\n",
    "plt.subplot(511)\n",
    "plt.plot(learn.model.reference_network.layers[0].lin.weight.cpu().detach().numpy())\n",
    "plt.subplot(512)\n",
    "plt.plot(learn.model.combined_network.layers[0].lin.weight.cpu().detach().numpy().T)\n",
    "plt.subplot(513)\n",
    "plt.plot(learn.model.combined_network.layers[1].lin.weight.cpu().detach().numpy().T[:,0])\n",
    "plt.subplot(514)\n",
    "plt.plot(learn.model.combined_network.layers[1].lin.weight.cpu().detach().numpy().T[:,1])\n",
    "plt.subplot(515)\n",
    "plt.plot(learn.model.combined_network.layers[1].lin.weight.cpu().detach().numpy().T[:,2])"
   ]
  },
  {
   "cell_type": "code",
   "execution_count": 126,
   "metadata": {},
   "outputs": [
    {
     "data": {
      "text/plain": [
       "[<matplotlib.lines.Line2D at 0x7efdff788b70>]"
      ]
     },
     "execution_count": 126,
     "metadata": {},
     "output_type": "execute_result"
    },
    {
     "data": {
      "image/png": "[encoded data removed]",
      "text/plain": [
       "<Figure size 1152x648 with 1 Axes>"
      ]
     },
     "metadata": {},
     "output_type": "display_data"
    }
   ],
   "source": [
    "plt.figure(figsize=(16, 9))\n",
    "plt.plot(learn.model.combined_network.layers[0].lin.weight[10].cpu().detach().numpy().T)"
   ]
  },
  {
   "cell_type": "code",
   "execution_count": null,
   "metadata": {},
   "outputs": [],
   "source": []
  }
 ],
 "metadata": {
  "kernelspec": {
   "display_name": "Python 3",
   "language": "python",
   "name": "python3"
  },
  "language_info": {
   "codemirror_mode": {
    "name": "ipython",
    "version": 3
   },
   "file_extension": ".py",
   "mimetype": "text/x-python",
   "name": "python",
   "nbconvert_exporter": "python",
   "pygments_lexer": "ipython3",
   "version": "3.6.5"
  }
 },
 "nbformat": 4,
 "nbformat_minor": 2
}
