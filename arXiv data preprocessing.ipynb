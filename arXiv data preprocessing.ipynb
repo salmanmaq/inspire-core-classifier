{
 "cells": [
  {
   "cell_type": "code",
   "execution_count": 58,
   "metadata": {},
   "outputs": [
    {
     "name": "stderr",
     "output_type": "stream",
     "text": [
      "/usr/lib64/python3.6/importlib/_bootstrap.py:219: RuntimeWarning: numpy.dtype size changed, may indicate binary incompatibility. Expected 96, got 88\n",
      "  return f(*args, **kwds)\n",
      "/usr/lib64/python3.6/importlib/_bootstrap.py:219: RuntimeWarning: numpy.dtype size changed, may indicate binary incompatibility. Expected 96, got 88\n",
      "  return f(*args, **kwds)\n"
     ]
    }
   ],
   "source": [
    "import json\n",
    "import pandas as pd"
   ]
  },
  {
   "cell_type": "code",
   "execution_count": 55,
   "metadata": {},
   "outputs": [],
   "source": [
    "data_dict = {}\n",
    "with open('inspire_new_data_from_jun2016/arXiv.json', 'r') as fb:\n",
    "    for line in fb:\n",
    "        try:\n",
    "            single_record = json.loads(line)\n",
    "        except:\n",
    "            continue\n",
    "        title = single_record['data']['titles'][0]['title']\n",
    "        abstract = single_record['data']['abstracts'][0]['value']\n",
    "        text = '<bTITLE>' + ' ' + title + '.' + ' ' + '<eTITLE>' + ' ' + '<bABSTRACT>' + ' ' + abstract + ' ' + '<eABSTRACT>'\n",
    "        label = single_record['data']['arxiv_eprints'][0]['categories'][0].split('.')[0]\n",
    "        \n",
    "        data_dict[text] = label"
   ]
  },
  {
   "cell_type": "code",
   "execution_count": 64,
   "metadata": {},
   "outputs": [],
   "source": [
    "c = pd.DataFrame.from_dict(data_dict, orient='index')\n",
    "c = c.reset_index()\n",
    "c.columns = ['text', 'labels']"
   ]
  },
  {
   "cell_type": "code",
   "execution_count": 66,
   "metadata": {},
   "outputs": [],
   "source": [
    "c.to_csv('inspire_new_data_from_jun2016/arXiv_classifier_data.csv', sep='\\t')"
   ]
  },
  {
   "cell_type": "code",
   "execution_count": 68,
   "metadata": {},
   "outputs": [],
   "source": [
    "c.to_pickle('inspire_new_data_from_jun2016/arXiv_classifier_data.df', protocol=4)"
   ]
  },
  {
   "cell_type": "code",
   "execution_count": 69,
   "metadata": {},
   "outputs": [],
   "source": [
    "c.to_pickle('inspire_new_data_from_jun2016/arXiv_classifier_data_python2.df', protocol=2)"
   ]
  }
 ],
 "metadata": {
  "kernelspec": {
   "display_name": "Python 3",
   "language": "python",
   "name": "python3"
  },
  "language_info": {
   "codemirror_mode": {
    "name": "ipython",
    "version": 3
   },
   "file_extension": ".py",
   "mimetype": "text/x-python",
   "name": "python",
   "nbconvert_exporter": "python",
   "pygments_lexer": "ipython3",
   "version": "3.6.5"
  }
 },
 "nbformat": 4,
 "nbformat_minor": 2
}
